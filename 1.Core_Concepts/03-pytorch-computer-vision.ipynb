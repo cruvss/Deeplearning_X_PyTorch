{
 "cells": [
  {
   "cell_type": "markdown",
   "id": "595c3464",
   "metadata": {
    "_cell_guid": "b1076dfc-b9ad-4769-8c92-a6c4dae69d19",
    "_uuid": "8f2839f25d086af736a60e9eeb907d3b93b6e0e5",
    "papermill": {
     "duration": 0.014423,
     "end_time": "2024-10-27T08:46:57.462606",
     "exception": false,
     "start_time": "2024-10-27T08:46:57.448183",
     "status": "completed"
    },
    "tags": []
   },
   "source": [
    "## Computer Vision libraries in PyTorch\n",
    "- `torchvision`\n",
    "- `torchvision.datasets`\n",
    "- `torchvision.models`\n",
    "- `torchvision.trasnforms`\n",
    "- `torch.utils.data.Dataset`\n",
    "- `torch.utils.data.DataLoader`"
   ]
  },
  {
   "cell_type": "code",
   "execution_count": 1,
   "id": "a3b49b91",
   "metadata": {
    "execution": {
     "iopub.execute_input": "2024-10-27T08:46:57.493471Z",
     "iopub.status.busy": "2024-10-27T08:46:57.493017Z",
     "iopub.status.idle": "2024-10-27T08:47:02.002658Z",
     "shell.execute_reply": "2024-10-27T08:47:02.001458Z"
    },
    "papermill": {
     "duration": 4.527792,
     "end_time": "2024-10-27T08:47:02.005275",
     "exception": false,
     "start_time": "2024-10-27T08:46:57.477483",
     "status": "completed"
    },
    "tags": []
   },
   "outputs": [],
   "source": [
    "import torch\n",
    "from torch import nn\n",
    "\n",
    "import torchvision\n",
    "from torchvision import datasets\n",
    "from torch.utils.data import DataLoader\n",
    "from torchvision.transforms import ToTensor\n",
    "\n",
    "import matplotlib.pyplot as plt"
   ]
  },
  {
   "cell_type": "code",
   "execution_count": 2,
   "id": "b055e0bd",
   "metadata": {
    "execution": {
     "iopub.execute_input": "2024-10-27T08:47:02.033818Z",
     "iopub.status.busy": "2024-10-27T08:47:02.033288Z",
     "iopub.status.idle": "2024-10-27T08:47:02.041549Z",
     "shell.execute_reply": "2024-10-27T08:47:02.040442Z"
    },
    "papermill": {
     "duration": 0.025285,
     "end_time": "2024-10-27T08:47:02.044032",
     "exception": false,
     "start_time": "2024-10-27T08:47:02.018747",
     "status": "completed"
    },
    "tags": []
   },
   "outputs": [
    {
     "data": {
      "text/plain": [
       "'cpu'"
      ]
     },
     "execution_count": 2,
     "metadata": {},
     "output_type": "execute_result"
    }
   ],
   "source": [
    "device= 'cuda' if torch.cuda.is_available() else 'cpu'\n",
    "device"
   ]
  },
  {
   "cell_type": "markdown",
   "id": "91da2548",
   "metadata": {
    "papermill": {
     "duration": 0.013102,
     "end_time": "2024-10-27T08:47:02.070894",
     "exception": false,
     "start_time": "2024-10-27T08:47:02.057792",
     "status": "completed"
    },
    "tags": []
   },
   "source": [
    "# 1. Get the data ready\n",
    "Using FashionMNIST data"
   ]
  },
  {
   "cell_type": "code",
   "execution_count": 3,
   "id": "acdb4067",
   "metadata": {
    "execution": {
     "iopub.execute_input": "2024-10-27T08:47:02.099222Z",
     "iopub.status.busy": "2024-10-27T08:47:02.098796Z",
     "iopub.status.idle": "2024-10-27T08:47:03.585964Z",
     "shell.execute_reply": "2024-10-27T08:47:03.584842Z"
    },
    "papermill": {
     "duration": 1.504334,
     "end_time": "2024-10-27T08:47:03.588554",
     "exception": false,
     "start_time": "2024-10-27T08:47:02.084220",
     "status": "completed"
    },
    "tags": []
   },
   "outputs": [
    {
     "name": "stdout",
     "output_type": "stream",
     "text": [
      "Downloading http://fashion-mnist.s3-website.eu-central-1.amazonaws.com/train-images-idx3-ubyte.gz\n",
      "Downloading http://fashion-mnist.s3-website.eu-central-1.amazonaws.com/train-images-idx3-ubyte.gz to data/FashionMNIST/raw/train-images-idx3-ubyte.gz\n"
     ]
    },
    {
     "name": "stderr",
     "output_type": "stream",
     "text": [
      "100%|██████████| 26421880/26421880 [00:00<00:00, 113162271.72it/s]\n"
     ]
    },
    {
     "name": "stdout",
     "output_type": "stream",
     "text": [
      "Extracting data/FashionMNIST/raw/train-images-idx3-ubyte.gz to data/FashionMNIST/raw\n",
      "\n",
      "Downloading http://fashion-mnist.s3-website.eu-central-1.amazonaws.com/train-labels-idx1-ubyte.gz\n",
      "Downloading http://fashion-mnist.s3-website.eu-central-1.amazonaws.com/train-labels-idx1-ubyte.gz to data/FashionMNIST/raw/train-labels-idx1-ubyte.gz\n"
     ]
    },
    {
     "name": "stderr",
     "output_type": "stream",
     "text": [
      "100%|██████████| 29515/29515 [00:00<00:00, 4557314.19it/s]"
     ]
    },
    {
     "name": "stdout",
     "output_type": "stream",
     "text": [
      "Extracting data/FashionMNIST/raw/train-labels-idx1-ubyte.gz to data/FashionMNIST/raw\n",
      "\n",
      "Downloading http://fashion-mnist.s3-website.eu-central-1.amazonaws.com/t10k-images-idx3-ubyte.gz\n",
      "Downloading http://fashion-mnist.s3-website.eu-central-1.amazonaws.com/t10k-images-idx3-ubyte.gz to data/FashionMNIST/raw/t10k-images-idx3-ubyte.gz\n"
     ]
    },
    {
     "name": "stderr",
     "output_type": "stream",
     "text": [
      "\n",
      "100%|██████████| 4422102/4422102 [00:00<00:00, 60208272.82it/s]\n"
     ]
    },
    {
     "name": "stdout",
     "output_type": "stream",
     "text": [
      "Extracting data/FashionMNIST/raw/t10k-images-idx3-ubyte.gz to data/FashionMNIST/raw\n",
      "\n",
      "Downloading http://fashion-mnist.s3-website.eu-central-1.amazonaws.com/t10k-labels-idx1-ubyte.gz\n",
      "Downloading http://fashion-mnist.s3-website.eu-central-1.amazonaws.com/t10k-labels-idx1-ubyte.gz to data/FashionMNIST/raw/t10k-labels-idx1-ubyte.gz\n"
     ]
    },
    {
     "name": "stderr",
     "output_type": "stream",
     "text": [
      "100%|██████████| 5148/5148 [00:00<00:00, 2264528.26it/s]\n"
     ]
    },
    {
     "name": "stdout",
     "output_type": "stream",
     "text": [
      "Extracting data/FashionMNIST/raw/t10k-labels-idx1-ubyte.gz to data/FashionMNIST/raw\n",
      "\n"
     ]
    }
   ],
   "source": [
    "train_data= datasets.FashionMNIST(\n",
    "    root='data', # where to download data to?\n",
    "    train=True, # select training data\n",
    "    download=True, # dowload the data\n",
    "    transform=ToTensor(), #chaning into tensors\n",
    "    target_transform=None\n",
    ")\n",
    "\n",
    "test_data=datasets.FashionMNIST(\n",
    "    root=\"data\",\n",
    "    train=False,\n",
    "    download=True,\n",
    "    transform=ToTensor(),\n",
    ")"
   ]
  },
  {
   "cell_type": "code",
   "execution_count": 4,
   "id": "a8a492eb",
   "metadata": {
    "execution": {
     "iopub.execute_input": "2024-10-27T08:47:03.621478Z",
     "iopub.status.busy": "2024-10-27T08:47:03.620337Z",
     "iopub.status.idle": "2024-10-27T08:47:03.686823Z",
     "shell.execute_reply": "2024-10-27T08:47:03.685646Z"
    },
    "papermill": {
     "duration": 0.085697,
     "end_time": "2024-10-27T08:47:03.689535",
     "exception": false,
     "start_time": "2024-10-27T08:47:03.603838",
     "status": "completed"
    },
    "tags": []
   },
   "outputs": [
    {
     "data": {
      "text/plain": [
       "(tensor([[[0.0000, 0.0000, 0.0000, 0.0000, 0.0000, 0.0000, 0.0000, 0.0000,\n",
       "           0.0000, 0.0000, 0.0000, 0.0000, 0.0000, 0.0000, 0.0000, 0.0000,\n",
       "           0.0000, 0.0000, 0.0000, 0.0000, 0.0000, 0.0000, 0.0000, 0.0000,\n",
       "           0.0000, 0.0000, 0.0000, 0.0000],\n",
       "          [0.0000, 0.0000, 0.0000, 0.0000, 0.0000, 0.0000, 0.0000, 0.0000,\n",
       "           0.0000, 0.0000, 0.0000, 0.0000, 0.0000, 0.0000, 0.0000, 0.0000,\n",
       "           0.0000, 0.0000, 0.0000, 0.0000, 0.0000, 0.0000, 0.0000, 0.0000,\n",
       "           0.0000, 0.0000, 0.0000, 0.0000],\n",
       "          [0.0000, 0.0000, 0.0000, 0.0000, 0.0000, 0.0000, 0.0000, 0.0000,\n",
       "           0.0000, 0.0000, 0.0000, 0.0000, 0.0000, 0.0000, 0.0000, 0.0000,\n",
       "           0.0000, 0.0000, 0.0000, 0.0000, 0.0000, 0.0000, 0.0000, 0.0000,\n",
       "           0.0000, 0.0000, 0.0000, 0.0000],\n",
       "          [0.0000, 0.0000, 0.0000, 0.0000, 0.0000, 0.0000, 0.0000, 0.0000,\n",
       "           0.0000, 0.0000, 0.0000, 0.0000, 0.0039, 0.0000, 0.0000, 0.0510,\n",
       "           0.2863, 0.0000, 0.0000, 0.0039, 0.0157, 0.0000, 0.0000, 0.0000,\n",
       "           0.0000, 0.0039, 0.0039, 0.0000],\n",
       "          [0.0000, 0.0000, 0.0000, 0.0000, 0.0000, 0.0000, 0.0000, 0.0000,\n",
       "           0.0000, 0.0000, 0.0000, 0.0000, 0.0118, 0.0000, 0.1412, 0.5333,\n",
       "           0.4980, 0.2431, 0.2118, 0.0000, 0.0000, 0.0000, 0.0039, 0.0118,\n",
       "           0.0157, 0.0000, 0.0000, 0.0118],\n",
       "          [0.0000, 0.0000, 0.0000, 0.0000, 0.0000, 0.0000, 0.0000, 0.0000,\n",
       "           0.0000, 0.0000, 0.0000, 0.0000, 0.0235, 0.0000, 0.4000, 0.8000,\n",
       "           0.6902, 0.5255, 0.5647, 0.4824, 0.0902, 0.0000, 0.0000, 0.0000,\n",
       "           0.0000, 0.0471, 0.0392, 0.0000],\n",
       "          [0.0000, 0.0000, 0.0000, 0.0000, 0.0000, 0.0000, 0.0000, 0.0000,\n",
       "           0.0000, 0.0000, 0.0000, 0.0000, 0.0000, 0.0000, 0.6078, 0.9255,\n",
       "           0.8118, 0.6980, 0.4196, 0.6118, 0.6314, 0.4275, 0.2510, 0.0902,\n",
       "           0.3020, 0.5098, 0.2824, 0.0588],\n",
       "          [0.0000, 0.0000, 0.0000, 0.0000, 0.0000, 0.0000, 0.0000, 0.0000,\n",
       "           0.0000, 0.0000, 0.0000, 0.0039, 0.0000, 0.2706, 0.8118, 0.8745,\n",
       "           0.8549, 0.8471, 0.8471, 0.6392, 0.4980, 0.4745, 0.4784, 0.5725,\n",
       "           0.5529, 0.3451, 0.6745, 0.2588],\n",
       "          [0.0000, 0.0000, 0.0000, 0.0000, 0.0000, 0.0000, 0.0000, 0.0000,\n",
       "           0.0000, 0.0039, 0.0039, 0.0039, 0.0000, 0.7843, 0.9098, 0.9098,\n",
       "           0.9137, 0.8980, 0.8745, 0.8745, 0.8431, 0.8353, 0.6431, 0.4980,\n",
       "           0.4824, 0.7686, 0.8980, 0.0000],\n",
       "          [0.0000, 0.0000, 0.0000, 0.0000, 0.0000, 0.0000, 0.0000, 0.0000,\n",
       "           0.0000, 0.0000, 0.0000, 0.0000, 0.0000, 0.7176, 0.8824, 0.8471,\n",
       "           0.8745, 0.8941, 0.9216, 0.8902, 0.8784, 0.8706, 0.8784, 0.8667,\n",
       "           0.8745, 0.9608, 0.6784, 0.0000],\n",
       "          [0.0000, 0.0000, 0.0000, 0.0000, 0.0000, 0.0000, 0.0000, 0.0000,\n",
       "           0.0000, 0.0000, 0.0000, 0.0000, 0.0000, 0.7569, 0.8941, 0.8549,\n",
       "           0.8353, 0.7765, 0.7059, 0.8314, 0.8235, 0.8275, 0.8353, 0.8745,\n",
       "           0.8627, 0.9529, 0.7922, 0.0000],\n",
       "          [0.0000, 0.0000, 0.0000, 0.0000, 0.0000, 0.0000, 0.0000, 0.0000,\n",
       "           0.0000, 0.0039, 0.0118, 0.0000, 0.0471, 0.8588, 0.8627, 0.8314,\n",
       "           0.8549, 0.7529, 0.6627, 0.8902, 0.8157, 0.8549, 0.8784, 0.8314,\n",
       "           0.8863, 0.7725, 0.8196, 0.2039],\n",
       "          [0.0000, 0.0000, 0.0000, 0.0000, 0.0000, 0.0000, 0.0000, 0.0000,\n",
       "           0.0000, 0.0000, 0.0235, 0.0000, 0.3882, 0.9569, 0.8706, 0.8627,\n",
       "           0.8549, 0.7961, 0.7765, 0.8667, 0.8431, 0.8353, 0.8706, 0.8627,\n",
       "           0.9608, 0.4667, 0.6549, 0.2196],\n",
       "          [0.0000, 0.0000, 0.0000, 0.0000, 0.0000, 0.0000, 0.0000, 0.0000,\n",
       "           0.0000, 0.0157, 0.0000, 0.0000, 0.2157, 0.9255, 0.8941, 0.9020,\n",
       "           0.8941, 0.9412, 0.9098, 0.8353, 0.8549, 0.8745, 0.9176, 0.8510,\n",
       "           0.8510, 0.8196, 0.3608, 0.0000],\n",
       "          [0.0000, 0.0000, 0.0039, 0.0157, 0.0235, 0.0275, 0.0078, 0.0000,\n",
       "           0.0000, 0.0000, 0.0000, 0.0000, 0.9294, 0.8863, 0.8510, 0.8745,\n",
       "           0.8706, 0.8588, 0.8706, 0.8667, 0.8471, 0.8745, 0.8980, 0.8431,\n",
       "           0.8549, 1.0000, 0.3020, 0.0000],\n",
       "          [0.0000, 0.0118, 0.0000, 0.0000, 0.0000, 0.0000, 0.0000, 0.0000,\n",
       "           0.0000, 0.2431, 0.5686, 0.8000, 0.8941, 0.8118, 0.8353, 0.8667,\n",
       "           0.8549, 0.8157, 0.8275, 0.8549, 0.8784, 0.8745, 0.8588, 0.8431,\n",
       "           0.8784, 0.9569, 0.6235, 0.0000],\n",
       "          [0.0000, 0.0000, 0.0000, 0.0000, 0.0706, 0.1725, 0.3216, 0.4196,\n",
       "           0.7412, 0.8941, 0.8627, 0.8706, 0.8510, 0.8863, 0.7843, 0.8039,\n",
       "           0.8275, 0.9020, 0.8784, 0.9176, 0.6902, 0.7373, 0.9804, 0.9725,\n",
       "           0.9137, 0.9333, 0.8431, 0.0000],\n",
       "          [0.0000, 0.2235, 0.7333, 0.8157, 0.8784, 0.8667, 0.8784, 0.8157,\n",
       "           0.8000, 0.8392, 0.8157, 0.8196, 0.7843, 0.6235, 0.9608, 0.7569,\n",
       "           0.8078, 0.8745, 1.0000, 1.0000, 0.8667, 0.9176, 0.8667, 0.8275,\n",
       "           0.8627, 0.9098, 0.9647, 0.0000],\n",
       "          [0.0118, 0.7922, 0.8941, 0.8784, 0.8667, 0.8275, 0.8275, 0.8392,\n",
       "           0.8039, 0.8039, 0.8039, 0.8627, 0.9412, 0.3137, 0.5882, 1.0000,\n",
       "           0.8980, 0.8667, 0.7373, 0.6039, 0.7490, 0.8235, 0.8000, 0.8196,\n",
       "           0.8706, 0.8941, 0.8824, 0.0000],\n",
       "          [0.3843, 0.9137, 0.7765, 0.8235, 0.8706, 0.8980, 0.8980, 0.9176,\n",
       "           0.9765, 0.8627, 0.7608, 0.8431, 0.8510, 0.9451, 0.2549, 0.2863,\n",
       "           0.4157, 0.4588, 0.6588, 0.8588, 0.8667, 0.8431, 0.8510, 0.8745,\n",
       "           0.8745, 0.8784, 0.8980, 0.1137],\n",
       "          [0.2941, 0.8000, 0.8314, 0.8000, 0.7569, 0.8039, 0.8275, 0.8824,\n",
       "           0.8471, 0.7255, 0.7725, 0.8078, 0.7765, 0.8353, 0.9412, 0.7647,\n",
       "           0.8902, 0.9608, 0.9373, 0.8745, 0.8549, 0.8314, 0.8196, 0.8706,\n",
       "           0.8627, 0.8667, 0.9020, 0.2627],\n",
       "          [0.1882, 0.7961, 0.7176, 0.7608, 0.8353, 0.7725, 0.7255, 0.7451,\n",
       "           0.7608, 0.7529, 0.7922, 0.8392, 0.8588, 0.8667, 0.8627, 0.9255,\n",
       "           0.8824, 0.8471, 0.7804, 0.8078, 0.7294, 0.7098, 0.6941, 0.6745,\n",
       "           0.7098, 0.8039, 0.8078, 0.4510],\n",
       "          [0.0000, 0.4784, 0.8588, 0.7569, 0.7020, 0.6706, 0.7176, 0.7686,\n",
       "           0.8000, 0.8235, 0.8353, 0.8118, 0.8275, 0.8235, 0.7843, 0.7686,\n",
       "           0.7608, 0.7490, 0.7647, 0.7490, 0.7765, 0.7529, 0.6902, 0.6118,\n",
       "           0.6549, 0.6941, 0.8235, 0.3608],\n",
       "          [0.0000, 0.0000, 0.2902, 0.7412, 0.8314, 0.7490, 0.6863, 0.6745,\n",
       "           0.6863, 0.7098, 0.7255, 0.7373, 0.7412, 0.7373, 0.7569, 0.7765,\n",
       "           0.8000, 0.8196, 0.8235, 0.8235, 0.8275, 0.7373, 0.7373, 0.7608,\n",
       "           0.7529, 0.8471, 0.6667, 0.0000],\n",
       "          [0.0078, 0.0000, 0.0000, 0.0000, 0.2588, 0.7843, 0.8706, 0.9294,\n",
       "           0.9373, 0.9490, 0.9647, 0.9529, 0.9569, 0.8667, 0.8627, 0.7569,\n",
       "           0.7490, 0.7020, 0.7137, 0.7137, 0.7098, 0.6902, 0.6510, 0.6588,\n",
       "           0.3882, 0.2275, 0.0000, 0.0000],\n",
       "          [0.0000, 0.0000, 0.0000, 0.0000, 0.0000, 0.0000, 0.0000, 0.1569,\n",
       "           0.2392, 0.1725, 0.2824, 0.1608, 0.1373, 0.0000, 0.0000, 0.0000,\n",
       "           0.0000, 0.0000, 0.0000, 0.0000, 0.0000, 0.0000, 0.0000, 0.0000,\n",
       "           0.0000, 0.0000, 0.0000, 0.0000],\n",
       "          [0.0000, 0.0000, 0.0000, 0.0000, 0.0000, 0.0000, 0.0000, 0.0000,\n",
       "           0.0000, 0.0000, 0.0000, 0.0000, 0.0000, 0.0000, 0.0000, 0.0000,\n",
       "           0.0000, 0.0000, 0.0000, 0.0000, 0.0000, 0.0000, 0.0000, 0.0000,\n",
       "           0.0000, 0.0000, 0.0000, 0.0000],\n",
       "          [0.0000, 0.0000, 0.0000, 0.0000, 0.0000, 0.0000, 0.0000, 0.0000,\n",
       "           0.0000, 0.0000, 0.0000, 0.0000, 0.0000, 0.0000, 0.0000, 0.0000,\n",
       "           0.0000, 0.0000, 0.0000, 0.0000, 0.0000, 0.0000, 0.0000, 0.0000,\n",
       "           0.0000, 0.0000, 0.0000, 0.0000]]]),\n",
       " 9)"
      ]
     },
     "execution_count": 4,
     "metadata": {},
     "output_type": "execute_result"
    }
   ],
   "source": [
    "#see first training sample\n",
    "image,label=train_data[0]\n",
    "image,label"
   ]
  },
  {
   "cell_type": "code",
   "execution_count": 5,
   "id": "1bb447aa",
   "metadata": {
    "execution": {
     "iopub.execute_input": "2024-10-27T08:47:03.723723Z",
     "iopub.status.busy": "2024-10-27T08:47:03.723171Z",
     "iopub.status.idle": "2024-10-27T08:47:03.731703Z",
     "shell.execute_reply": "2024-10-27T08:47:03.730429Z"
    },
    "papermill": {
     "duration": 0.028749,
     "end_time": "2024-10-27T08:47:03.734299",
     "exception": false,
     "start_time": "2024-10-27T08:47:03.705550",
     "status": "completed"
    },
    "tags": []
   },
   "outputs": [
    {
     "data": {
      "text/plain": [
       "torch.Size([1, 28, 28])"
      ]
     },
     "execution_count": 5,
     "metadata": {},
     "output_type": "execute_result"
    }
   ],
   "source": [
    "image.shape # [color_channel, height, width]"
   ]
  },
  {
   "cell_type": "code",
   "execution_count": 6,
   "id": "8145cd6a",
   "metadata": {
    "execution": {
     "iopub.execute_input": "2024-10-27T08:47:03.775206Z",
     "iopub.status.busy": "2024-10-27T08:47:03.774697Z",
     "iopub.status.idle": "2024-10-27T08:47:03.783181Z",
     "shell.execute_reply": "2024-10-27T08:47:03.781970Z"
    },
    "papermill": {
     "duration": 0.027698,
     "end_time": "2024-10-27T08:47:03.785508",
     "exception": false,
     "start_time": "2024-10-27T08:47:03.757810",
     "status": "completed"
    },
    "tags": []
   },
   "outputs": [
    {
     "data": {
      "text/plain": [
       "(60000, 60000, 10000, 10000)"
      ]
     },
     "execution_count": 6,
     "metadata": {},
     "output_type": "execute_result"
    }
   ],
   "source": [
    "# How many samples are there? \n",
    "len(train_data.data), len(train_data.targets), len(test_data.data), len(test_data.targets)"
   ]
  },
  {
   "cell_type": "code",
   "execution_count": 7,
   "id": "cafa5314",
   "metadata": {
    "execution": {
     "iopub.execute_input": "2024-10-27T08:47:03.822467Z",
     "iopub.status.busy": "2024-10-27T08:47:03.821337Z",
     "iopub.status.idle": "2024-10-27T08:47:03.828734Z",
     "shell.execute_reply": "2024-10-27T08:47:03.827601Z"
    },
    "papermill": {
     "duration": 0.029923,
     "end_time": "2024-10-27T08:47:03.831235",
     "exception": false,
     "start_time": "2024-10-27T08:47:03.801312",
     "status": "completed"
    },
    "tags": []
   },
   "outputs": [
    {
     "data": {
      "text/plain": [
       "['T-shirt/top',\n",
       " 'Trouser',\n",
       " 'Pullover',\n",
       " 'Dress',\n",
       " 'Coat',\n",
       " 'Sandal',\n",
       " 'Shirt',\n",
       " 'Sneaker',\n",
       " 'Bag',\n",
       " 'Ankle boot']"
      ]
     },
     "execution_count": 7,
     "metadata": {},
     "output_type": "execute_result"
    }
   ],
   "source": [
    "#what classes are there?\n",
    "class_n=train_data.classes \n",
    "class_n"
   ]
  },
  {
   "cell_type": "markdown",
   "id": "c0f75b6b",
   "metadata": {
    "papermill": {
     "duration": 0.01504,
     "end_time": "2024-10-27T08:47:03.861881",
     "exception": false,
     "start_time": "2024-10-27T08:47:03.846841",
     "status": "completed"
    },
    "tags": []
   },
   "source": [
    "## Visualizing our data\n"
   ]
  },
  {
   "cell_type": "code",
   "execution_count": 8,
   "id": "0e3acae2",
   "metadata": {
    "execution": {
     "iopub.execute_input": "2024-10-27T08:47:03.895121Z",
     "iopub.status.busy": "2024-10-27T08:47:03.894020Z",
     "iopub.status.idle": "2024-10-27T08:47:04.343535Z",
     "shell.execute_reply": "2024-10-27T08:47:04.342342Z"
    },
    "papermill": {
     "duration": 0.468552,
     "end_time": "2024-10-27T08:47:04.345834",
     "exception": false,
     "start_time": "2024-10-27T08:47:03.877282",
     "status": "completed"
    },
    "tags": []
   },
   "outputs": [
    {
     "data": {
      "text/plain": [
       "Text(0.5, 1.0, 'Ankle boot')"
      ]
     },
     "execution_count": 8,
     "metadata": {},
     "output_type": "execute_result"
    },
    {
     "data": {
      "image/png": "[encoded data removed]",
      "text/plain": [
       "<Figure size 640x480 with 2 Axes>"
      ]
     },
     "metadata": {},
     "output_type": "display_data"
    }
   ],
   "source": [
    "image,label=train_data[0]\n",
    "plt.subplot(1,2,1)\n",
    "plt.imshow(image.squeeze()) #why squeeze? ---> image is of shape [1,28,28]\n",
    "plt.title(class_n[label])\n",
    "plt.subplot(1,2,2)\n",
    "plt.imshow(image.squeeze(),cmap='gray')\n",
    "plt.title(class_n[label])"
   ]
  },
  {
   "cell_type": "code",
   "execution_count": 9,
   "id": "98bce1e5",
   "metadata": {
    "execution": {
     "iopub.execute_input": "2024-10-27T08:47:04.380428Z",
     "iopub.status.busy": "2024-10-27T08:47:04.379192Z",
     "iopub.status.idle": "2024-10-27T08:47:05.884275Z",
     "shell.execute_reply": "2024-10-27T08:47:05.883063Z"
    },
    "papermill": {
     "duration": 1.524724,
     "end_time": "2024-10-27T08:47:05.886682",
     "exception": false,
     "start_time": "2024-10-27T08:47:04.361958",
     "status": "completed"
    },
    "tags": []
   },
   "outputs": [
    {
     "data": {
      "image/png": "[encoded data removed]",
      "text/plain": [
       "<Figure size 1000x1000 with 16 Axes>"
      ]
     },
     "metadata": {},
     "output_type": "display_data"
    }
   ],
   "source": [
    "fig=plt.figure(figsize=(10,10))\n",
    "rows, cols= 4,4\n",
    "for i in range(1, rows*cols+1):\n",
    "    random_idx=torch.randint(0,len(train_data),size=[1]).item() #torch.randint(low, high, size)\n",
    "    img,label= train_data[random_idx]\n",
    "    fig.add_subplot(rows,cols,i)\n",
    "    plt.imshow(img.squeeze(),cmap=\"gray\")\n",
    "    plt.title(class_n[label])\n",
    "    plt.axis(False)"
   ]
  },
  {
   "cell_type": "markdown",
   "id": "3fb883db",
   "metadata": {
    "papermill": {
     "duration": 0.016727,
     "end_time": "2024-10-27T08:47:05.920567",
     "exception": false,
     "start_time": "2024-10-27T08:47:05.903840",
     "status": "completed"
    },
    "tags": []
   },
   "source": [
    "# Prepare DataLoader\n",
    "Dataloader turns our dataset into python iterable.\n",
    "We turn our data into minibatches.\n",
    "Why would we do this?\n",
    "   1. Because it's more computationally efficient.\n",
    "   2. With mini-batches (small portions of the data), gradient descent is performed more often per epoch (once per mini-batch rather than once per epoch).\n"
   ]
  },
  {
   "cell_type": "code",
   "execution_count": 10,
   "id": "a32d2503",
   "metadata": {
    "execution": {
     "iopub.execute_input": "2024-10-27T08:47:05.957766Z",
     "iopub.status.busy": "2024-10-27T08:47:05.956966Z",
     "iopub.status.idle": "2024-10-27T08:47:05.962951Z",
     "shell.execute_reply": "2024-10-27T08:47:05.961884Z"
    },
    "papermill": {
     "duration": 0.027039,
     "end_time": "2024-10-27T08:47:05.965167",
     "exception": false,
     "start_time": "2024-10-27T08:47:05.938128",
     "status": "completed"
    },
    "tags": []
   },
   "outputs": [],
   "source": [
    "BATCH_SIZE = 32\n",
    "\n",
    "# Turn datasets into iterables \n",
    "train_dataloader = DataLoader(train_data,\n",
    "                             batch_size=BATCH_SIZE,\n",
    "                             shuffle=True\n",
    "                             )\n",
    "test_dataloader = DataLoader(test_data,\n",
    "                             batch_size=BATCH_SIZE,\n",
    "                             shuffle=True)"
   ]
  },
  {
   "cell_type": "code",
   "execution_count": 11,
   "id": "742951ab",
   "metadata": {
    "execution": {
     "iopub.execute_input": "2024-10-27T08:47:06.000287Z",
     "iopub.status.busy": "2024-10-27T08:47:05.999886Z",
     "iopub.status.idle": "2024-10-27T08:47:06.006903Z",
     "shell.execute_reply": "2024-10-27T08:47:06.005825Z"
    },
    "papermill": {
     "duration": 0.027109,
     "end_time": "2024-10-27T08:47:06.009024",
     "exception": false,
     "start_time": "2024-10-27T08:47:05.981915",
     "status": "completed"
    },
    "tags": []
   },
   "outputs": [
    {
     "data": {
      "text/plain": [
       "(1875, 313)"
      ]
     },
     "execution_count": 11,
     "metadata": {},
     "output_type": "execute_result"
    }
   ],
   "source": [
    "len(train_dataloader), len(test_dataloader)"
   ]
  },
  {
   "cell_type": "code",
   "execution_count": 12,
   "id": "f3097cda",
   "metadata": {
    "execution": {
     "iopub.execute_input": "2024-10-27T08:47:06.044535Z",
     "iopub.status.busy": "2024-10-27T08:47:06.044072Z",
     "iopub.status.idle": "2024-10-27T08:47:06.069856Z",
     "shell.execute_reply": "2024-10-27T08:47:06.068681Z"
    },
    "papermill": {
     "duration": 0.046052,
     "end_time": "2024-10-27T08:47:06.072064",
     "exception": false,
     "start_time": "2024-10-27T08:47:06.026012",
     "status": "completed"
    },
    "tags": []
   },
   "outputs": [
    {
     "data": {
      "text/plain": [
       "(torch.Size([32, 1, 28, 28]), torch.Size([32]))"
      ]
     },
     "execution_count": 12,
     "metadata": {},
     "output_type": "execute_result"
    }
   ],
   "source": [
    "train_features_batch, train_labels_batch= next(iter(train_dataloader))\n",
    "train_features_batch.shape, train_labels_batch.shape"
   ]
  },
  {
   "cell_type": "code",
   "execution_count": 13,
   "id": "c8edb537",
   "metadata": {
    "execution": {
     "iopub.execute_input": "2024-10-27T08:47:06.108206Z",
     "iopub.status.busy": "2024-10-27T08:47:06.107476Z",
     "iopub.status.idle": "2024-10-27T08:47:06.236451Z",
     "shell.execute_reply": "2024-10-27T08:47:06.235240Z"
    },
    "papermill": {
     "duration": 0.149657,
     "end_time": "2024-10-27T08:47:06.238887",
     "exception": false,
     "start_time": "2024-10-27T08:47:06.089230",
     "status": "completed"
    },
    "tags": []
   },
   "outputs": [
    {
     "data": {
      "text/plain": [
       "(-0.5, 27.5, 27.5, -0.5)"
      ]
     },
     "execution_count": 13,
     "metadata": {},
     "output_type": "execute_result"
    },
    {
     "data": {
      "image/png": "[encoded data removed]",
      "text/plain": [
       "<Figure size 640x480 with 1 Axes>"
      ]
     },
     "metadata": {},
     "output_type": "display_data"
    }
   ],
   "source": [
    "# display a samsple from batch\n",
    "torch.manual_seed(69)\n",
    "random_idx = torch.randint(0, len(train_features_batch), size=[1]).item()\n",
    "img, label = train_features_batch[random_idx], train_labels_batch[random_idx]\n",
    "plt.imshow(img.squeeze(),cmap='gray')\n",
    "plt.title(class_n[label])\n",
    "plt.axis('off')\n"
   ]
  },
  {
   "cell_type": "markdown",
   "id": "a61533df",
   "metadata": {
    "papermill": {
     "duration": 0.017206,
     "end_time": "2024-10-27T08:47:06.273529",
     "exception": false,
     "start_time": "2024-10-27T08:47:06.256323",
     "status": "completed"
    },
    "tags": []
   },
   "source": [
    "# 3. Build a baseline model"
   ]
  },
  {
   "cell_type": "code",
   "execution_count": 14,
   "id": "c65b2c0f",
   "metadata": {
    "execution": {
     "iopub.execute_input": "2024-10-27T08:47:06.310344Z",
     "iopub.status.busy": "2024-10-27T08:47:06.309883Z",
     "iopub.status.idle": "2024-10-27T08:47:06.316534Z",
     "shell.execute_reply": "2024-10-27T08:47:06.315323Z"
    },
    "papermill": {
     "duration": 0.027942,
     "end_time": "2024-10-27T08:47:06.318788",
     "exception": false,
     "start_time": "2024-10-27T08:47:06.290846",
     "status": "completed"
    },
    "tags": []
   },
   "outputs": [
    {
     "name": "stdout",
     "output_type": "stream",
     "text": [
      "shape before flattening:  torch.Size([1, 28, 28])\n",
      "shape after flattening:   torch.Size([1, 784])\n"
     ]
    }
   ],
   "source": [
    "# create a flatten layer\n",
    "flatten_model = nn.Flatten()\n",
    "\n",
    "x = train_features_batch[0]\n",
    "\n",
    "output = flatten_model(x)\n",
    "\n",
    "print(\"shape before flattening: \", x.shape)\n",
    "print(\"shape after flattening:  \", output.shape)"
   ]
  },
  {
   "cell_type": "markdown",
   "id": "7b78dacb",
   "metadata": {
    "papermill": {
     "duration": 0.01748,
     "end_time": "2024-10-27T08:47:06.353812",
     "exception": false,
     "start_time": "2024-10-27T08:47:06.336332",
     "status": "completed"
    },
    "tags": []
   },
   "source": [
    "\n",
    "The nn.Flatten() layer took our shape from `[color_channels, height, width]` to `[color_channels, height*width]`.\n",
    "\n",
    "Why do this?\n",
    "\n",
    "Because we've now turned our pixel data from height and width dimensions into one long feature vector.\n",
    "\n",
    "And `nn.Linear()` layers like their inputs to be in the form of feature vectors."
   ]
  },
  {
   "cell_type": "code",
   "execution_count": 15,
   "id": "da823832",
   "metadata": {
    "execution": {
     "iopub.execute_input": "2024-10-27T08:47:06.391859Z",
     "iopub.status.busy": "2024-10-27T08:47:06.391410Z",
     "iopub.status.idle": "2024-10-27T08:47:06.397973Z",
     "shell.execute_reply": "2024-10-27T08:47:06.396821Z"
    },
    "papermill": {
     "duration": 0.028293,
     "end_time": "2024-10-27T08:47:06.400364",
     "exception": false,
     "start_time": "2024-10-27T08:47:06.372071",
     "status": "completed"
    },
    "tags": []
   },
   "outputs": [],
   "source": [
    "class FashionMNISTModelV0(nn.Module):\n",
    "    def __init__(self, input_shape: int):\n",
    "        super().__init__()\n",
    "        self.layer = nn.Sequential(\n",
    "            nn.Flatten(),\n",
    "            nn.Linear(in_features=input_shape, out_features=10),\n",
    "            nn.Linear(in_features=10 , out_features=10)\n",
    "        )\n",
    "    def forward(self,x):\n",
    "        return self.layer(x)"
   ]
  },
  {
   "cell_type": "code",
   "execution_count": 16,
   "id": "d349a2dc",
   "metadata": {
    "execution": {
     "iopub.execute_input": "2024-10-27T08:47:06.438480Z",
     "iopub.status.busy": "2024-10-27T08:47:06.437463Z",
     "iopub.status.idle": "2024-10-27T08:47:06.446268Z",
     "shell.execute_reply": "2024-10-27T08:47:06.445120Z"
    },
    "papermill": {
     "duration": 0.030257,
     "end_time": "2024-10-27T08:47:06.448623",
     "exception": false,
     "start_time": "2024-10-27T08:47:06.418366",
     "status": "completed"
    },
    "tags": []
   },
   "outputs": [
    {
     "data": {
      "text/plain": [
       "FashionMNISTModelV0(\n",
       "  (layer): Sequential(\n",
       "    (0): Flatten(start_dim=1, end_dim=-1)\n",
       "    (1): Linear(in_features=784, out_features=10, bias=True)\n",
       "    (2): Linear(in_features=10, out_features=10, bias=True)\n",
       "  )\n",
       ")"
      ]
     },
     "execution_count": 16,
     "metadata": {},
     "output_type": "execute_result"
    }
   ],
   "source": [
    "# initialize the model\n",
    "\n",
    "model_0 = FashionMNISTModelV0(input_shape=784)\n",
    "model_0"
   ]
  },
  {
   "cell_type": "markdown",
   "id": "da9f21f2",
   "metadata": {
    "papermill": {
     "duration": 0.017215,
     "end_time": "2024-10-27T08:47:06.483435",
     "exception": false,
     "start_time": "2024-10-27T08:47:06.466220",
     "status": "completed"
    },
    "tags": []
   },
   "source": [
    "## Setup loss, optimizer and evaluation metrics"
   ]
  },
  {
   "cell_type": "code",
   "execution_count": 17,
   "id": "7144424b",
   "metadata": {
    "execution": {
     "iopub.execute_input": "2024-10-27T08:47:06.522516Z",
     "iopub.status.busy": "2024-10-27T08:47:06.521523Z",
     "iopub.status.idle": "2024-10-27T08:47:06.765414Z",
     "shell.execute_reply": "2024-10-27T08:47:06.764117Z"
    },
    "papermill": {
     "duration": 0.266836,
     "end_time": "2024-10-27T08:47:06.767817",
     "exception": false,
     "start_time": "2024-10-27T08:47:06.500981",
     "status": "completed"
    },
    "tags": []
   },
   "outputs": [
    {
     "name": "stdout",
     "output_type": "stream",
     "text": [
      "Downloading helper_function.py . . .\n",
      "Sucessfully downloaded :)\n"
     ]
    }
   ],
   "source": [
    "import requests\n",
    "from pathlib import Path\n",
    "\n",
    "#Download helper functino \n",
    "if Path(\"helper_function.py\").is_file():\n",
    "    print(\"helper_function.py already exists, skipping downloads....\")\n",
    "else:\n",
    "    print(\"Downloading helper_function.py . . .\")\n",
    "    request= requests.get(\"https://raw.githubusercontent.com/mrdbourke/pytorch-deep-learning/main/helper_functions.py\")\n",
    "    with open(\"helper_function.py\",\"wb\") as f:\n",
    "        f.write(request.content)\n",
    "    print(\"Sucessfully downloaded :)\")"
   ]
  },
  {
   "cell_type": "code",
   "execution_count": 18,
   "id": "d000849e",
   "metadata": {
    "execution": {
     "iopub.execute_input": "2024-10-27T08:47:06.805002Z",
     "iopub.status.busy": "2024-10-27T08:47:06.804576Z",
     "iopub.status.idle": "2024-10-27T08:47:06.813852Z",
     "shell.execute_reply": "2024-10-27T08:47:06.812659Z"
    },
    "papermill": {
     "duration": 0.03071,
     "end_time": "2024-10-27T08:47:06.816287",
     "exception": false,
     "start_time": "2024-10-27T08:47:06.785577",
     "status": "completed"
    },
    "tags": []
   },
   "outputs": [],
   "source": [
    "from helper_function import accuracy_fn\n",
    "\n",
    "#setup loss funciton\n",
    "loss_fn = nn.CrossEntropyLoss()\n",
    "optimizer = torch.optim.SGD(params=model_0.parameters(), lr=0.1)"
   ]
  },
  {
   "cell_type": "code",
   "execution_count": 19,
   "id": "222850b1",
   "metadata": {
    "execution": {
     "iopub.execute_input": "2024-10-27T08:47:06.853429Z",
     "iopub.status.busy": "2024-10-27T08:47:06.853012Z",
     "iopub.status.idle": "2024-10-27T08:47:06.859085Z",
     "shell.execute_reply": "2024-10-27T08:47:06.857943Z"
    },
    "papermill": {
     "duration": 0.027362,
     "end_time": "2024-10-27T08:47:06.861333",
     "exception": false,
     "start_time": "2024-10-27T08:47:06.833971",
     "status": "completed"
    },
    "tags": []
   },
   "outputs": [],
   "source": [
    "from timeit import default_timer as timer \n",
    "def print_train_time(start: float, end: float, device: torch.device = None):\n",
    "    \"\"\"Prints difference between start and end time.\n",
    "\n",
    "    Args:\n",
    "        start (float): Start time of computation (preferred in timeit format). \n",
    "        end (float): End time of computation.\n",
    "        device ([type], optional): Device that compute is running on. Defaults to None.\n",
    "\n",
    "    Returns:\n",
    "        float: time between start and end in seconds (higher is longer).\n",
    "    \"\"\"\n",
    "    total_time = end - start\n",
    "    print(f\"Train time on {device}: {total_time:.3f} seconds\")\n",
    "    return total_time"
   ]
  },
  {
   "cell_type": "code",
   "execution_count": 20,
   "id": "e2cfb343",
   "metadata": {
    "execution": {
     "iopub.execute_input": "2024-10-27T08:47:06.898546Z",
     "iopub.status.busy": "2024-10-27T08:47:06.898105Z",
     "iopub.status.idle": "2024-10-27T08:47:06.915402Z",
     "shell.execute_reply": "2024-10-27T08:47:06.914287Z"
    },
    "papermill": {
     "duration": 0.038954,
     "end_time": "2024-10-27T08:47:06.917898",
     "exception": false,
     "start_time": "2024-10-27T08:47:06.878944",
     "status": "completed"
    },
    "tags": []
   },
   "outputs": [],
   "source": [
    "(X,y)=next(iter(train_dataloader))\n",
    "    "
   ]
  },
  {
   "cell_type": "code",
   "execution_count": 21,
   "id": "a749b0df",
   "metadata": {
    "execution": {
     "iopub.execute_input": "2024-10-27T08:47:06.955095Z",
     "iopub.status.busy": "2024-10-27T08:47:06.954650Z",
     "iopub.status.idle": "2024-10-27T08:47:06.961586Z",
     "shell.execute_reply": "2024-10-27T08:47:06.960464Z"
    },
    "papermill": {
     "duration": 0.028379,
     "end_time": "2024-10-27T08:47:06.963963",
     "exception": false,
     "start_time": "2024-10-27T08:47:06.935584",
     "status": "completed"
    },
    "tags": []
   },
   "outputs": [
    {
     "data": {
      "text/plain": [
       "torch.Size([32, 1, 28, 28])"
      ]
     },
     "execution_count": 21,
     "metadata": {},
     "output_type": "execute_result"
    }
   ],
   "source": [
    "X.shape"
   ]
  },
  {
   "cell_type": "markdown",
   "id": "e2a6cb37",
   "metadata": {
    "papermill": {
     "duration": 0.017337,
     "end_time": "2024-10-27T08:47:06.998932",
     "exception": false,
     "start_time": "2024-10-27T08:47:06.981595",
     "status": "completed"
    },
    "tags": []
   },
   "source": [
    "## Create Training loop"
   ]
  },
  {
   "cell_type": "code",
   "execution_count": 22,
   "id": "ca050ec7",
   "metadata": {
    "execution": {
     "iopub.execute_input": "2024-10-27T08:47:07.036839Z",
     "iopub.status.busy": "2024-10-27T08:47:07.035783Z",
     "iopub.status.idle": "2024-10-27T08:47:55.186925Z",
     "shell.execute_reply": "2024-10-27T08:47:55.185736Z"
    },
    "papermill": {
     "duration": 48.174306,
     "end_time": "2024-10-27T08:47:55.191094",
     "exception": false,
     "start_time": "2024-10-27T08:47:07.016788",
     "status": "completed"
    },
    "tags": []
   },
   "outputs": [
    {
     "data": {
      "application/vnd.jupyter.widget-view+json": {
       "model_id": "52c239dfb42d4ebe85b11c84a8292ac6",
       "version_major": 2,
       "version_minor": 0
      },
      "text/plain": [
       "  0%|          | 0/5 [00:00<?, ?it/s]"
      ]
     },
     "metadata": {},
     "output_type": "display_data"
    },
    {
     "name": "stdout",
     "output_type": "stream",
     "text": [
      "Epoch: 0\n",
      "------\n",
      "Looked at 0/60000 samples\n",
      "Looked at 12800/60000 samples\n",
      "Looked at 25600/60000 samples\n",
      "Looked at 38400/60000 samples\n",
      "Looked at 51200/60000 samples\n",
      "\n",
      "Train loss: 0.00000 | Test loss: 0.58198, Test acc: 78.06%\n",
      "\n",
      "Epoch: 1\n",
      "------\n",
      "Looked at 0/60000 samples\n",
      "Looked at 12800/60000 samples\n",
      "Looked at 25600/60000 samples\n",
      "Looked at 38400/60000 samples\n",
      "Looked at 51200/60000 samples\n",
      "\n",
      "Train loss: 0.00000 | Test loss: 0.51784, Test acc: 81.51%\n",
      "\n",
      "Epoch: 2\n",
      "------\n",
      "Looked at 0/60000 samples\n",
      "Looked at 12800/60000 samples\n",
      "Looked at 25600/60000 samples\n",
      "Looked at 38400/60000 samples\n",
      "Looked at 51200/60000 samples\n",
      "\n",
      "Train loss: 0.00000 | Test loss: 0.48625, Test acc: 82.84%\n",
      "\n",
      "Epoch: 3\n",
      "------\n",
      "Looked at 0/60000 samples\n",
      "Looked at 12800/60000 samples\n",
      "Looked at 25600/60000 samples\n",
      "Looked at 38400/60000 samples\n",
      "Looked at 51200/60000 samples\n",
      "\n",
      "Train loss: 0.00000 | Test loss: 0.47295, Test acc: 83.35%\n",
      "\n",
      "Epoch: 4\n",
      "------\n",
      "Looked at 0/60000 samples\n",
      "Looked at 12800/60000 samples\n",
      "Looked at 25600/60000 samples\n",
      "Looked at 38400/60000 samples\n",
      "Looked at 51200/60000 samples\n",
      "\n",
      "Train loss: 0.00000 | Test loss: 0.46970, Test acc: 83.22%\n",
      "\n"
     ]
    }
   ],
   "source": [
    "#import tqdm for progress bar\n",
    "from tqdm.auto import tqdm\n",
    "\n",
    "#set manual_seed\n",
    "torch.manual_seed(69)\n",
    "\n",
    "epochs=5\n",
    "\n",
    "for epoch in tqdm(range(epochs)):\n",
    "    print(f\"Epoch: {epoch}\\n------\")\n",
    "    train_loss=0\n",
    "    \n",
    "    #loop to iterate through training batches\n",
    "    for batch, (X,y) in enumerate(train_dataloader):\n",
    "        model_0.train() \n",
    "        \n",
    "        #forward pass\n",
    "        y_pred = model_0(X.squeeze())\n",
    "        \n",
    "        # calc loss\n",
    "        loss = loss_fn(y_pred, y)\n",
    "        \n",
    "        #optimizer zero grad\n",
    "        optimizer.zero_grad()\n",
    "        \n",
    "        #backward loss\n",
    "        loss.backward()\n",
    "        \n",
    "        #optimizer step\n",
    "        optimizer.step()\n",
    "        \n",
    "        #print out the progress\n",
    "        \n",
    "        if batch % 400 == 0:\n",
    "            print(f\"Looked at {batch * len(X)}/{len(train_dataloader.dataset)} samples\")\n",
    "            \n",
    "    # divide total train loss by length of train dataloader (avg loss per epcoh)\n",
    "    train_loss/=len(train_dataloader)\n",
    "        # Setup variables for accumulatively adding up loss and accuracy \n",
    "    test_loss, test_acc = 0, 0 \n",
    "    model_0.eval()\n",
    "    with torch.inference_mode():\n",
    "        for X, y in test_dataloader:\n",
    "            # 1. Forward pass\n",
    "            test_pred = model_0(X)\n",
    "           \n",
    "            # 2. Calculate loss (accumulatively)\n",
    "            test_loss += loss_fn(test_pred, y) # accumulatively add up the loss per epoch\n",
    "\n",
    "            # 3. Calculate accuracy (preds need to be same as y_true)\n",
    "            test_acc += accuracy_fn(y_true=y, y_pred=test_pred.argmax(dim=1))\n",
    "        \n",
    "        # Calculations on test metrics need to happen inside torch.inference_mode()\n",
    "        # Divide total test loss by length of test dataloader (per batch)\n",
    "        test_loss /= len(test_dataloader)\n",
    "\n",
    "        # Divide total accuracy by length of test dataloader (per batch)\n",
    "        test_acc /= len(test_dataloader)\n",
    "\n",
    "    ## Print out what's happening\n",
    "    print(f\"\\nTrain loss: {train_loss:.5f} | Test loss: {test_loss:.5f}, Test acc: {test_acc:.2f}%\\n\")\n",
    "\n",
    "\n",
    "    \n",
    "        \n",
    "        "
   ]
  },
  {
   "cell_type": "markdown",
   "id": "9d6b8e55",
   "metadata": {
    "papermill": {
     "duration": 0.01966,
     "end_time": "2024-10-27T08:47:55.230723",
     "exception": false,
     "start_time": "2024-10-27T08:47:55.211063",
     "status": "completed"
    },
    "tags": []
   },
   "source": [
    "## Make Predictions "
   ]
  },
  {
   "cell_type": "code",
   "execution_count": 23,
   "id": "503c7a48",
   "metadata": {
    "execution": {
     "iopub.execute_input": "2024-10-27T08:47:55.272265Z",
     "iopub.status.busy": "2024-10-27T08:47:55.271204Z",
     "iopub.status.idle": "2024-10-27T08:47:56.415447Z",
     "shell.execute_reply": "2024-10-27T08:47:56.414348Z"
    },
    "papermill": {
     "duration": 1.167639,
     "end_time": "2024-10-27T08:47:56.417870",
     "exception": false,
     "start_time": "2024-10-27T08:47:55.250231",
     "status": "completed"
    },
    "tags": []
   },
   "outputs": [
    {
     "data": {
      "text/plain": [
       "{'model_name': 'FashionMNISTModelV0',\n",
       " 'model_loss': 0.4695175290107727,\n",
       " 'model_acc': 83.22683706070288}"
      ]
     },
     "execution_count": 23,
     "metadata": {},
     "output_type": "execute_result"
    }
   ],
   "source": [
    "torch.manual_seed(42)\n",
    "def eval_model(model: torch.nn.Module, \n",
    "               data_loader: torch.utils.data.DataLoader, \n",
    "               loss_fn: torch.nn.Module, \n",
    "               accuracy_fn):\n",
    "    \"\"\"Returns a dictionary containing the results of model predicting on data_loader.\n",
    "\n",
    "    Args:\n",
    "        model (torch.nn.Module): A PyTorch model capable of making predictions on data_loader.\n",
    "        data_loader (torch.utils.data.DataLoader): The target dataset to predict on.\n",
    "        loss_fn (torch.nn.Module): The loss function of model.\n",
    "        accuracy_fn: An accuracy function to compare the models predictions to the truth labels.\n",
    "\n",
    "    Returns:\n",
    "        (dict): Results of model making predictions on data_loader.\n",
    "    \"\"\"\n",
    "    loss, acc = 0, 0\n",
    "    model.eval()\n",
    "    with torch.inference_mode():\n",
    "        for X, y in data_loader:\n",
    "            # Make predictions with the model\n",
    "            y_pred = model(X)\n",
    "            \n",
    "            # Accumulate the loss and accuracy values per batch\n",
    "            loss += loss_fn(y_pred, y)\n",
    "            acc += accuracy_fn(y_true=y, \n",
    "                                y_pred=y_pred.argmax(dim=1)) # For accuracy, need the prediction labels (logits -> pred_prob -> pred_labels)\n",
    "        \n",
    "        # Scale loss and acc to find the average loss/acc per batch\n",
    "        loss /= len(data_loader)\n",
    "        acc /= len(data_loader)\n",
    "        \n",
    "    return {\"model_name\": model.__class__.__name__, # only works when model was created with a class\n",
    "            \"model_loss\": loss.item(),\n",
    "            \"model_acc\": acc}\n",
    "\n",
    "# Calculate model 0 results on test dataset\n",
    "model_0_results = eval_model(model=model_0, data_loader=test_dataloader,\n",
    "    loss_fn=loss_fn, accuracy_fn=accuracy_fn\n",
    ")\n",
    "model_0_results"
   ]
  },
  {
   "cell_type": "markdown",
   "id": "017d4dd0",
   "metadata": {
    "papermill": {
     "duration": 0.019524,
     "end_time": "2024-10-27T08:47:56.457159",
     "exception": false,
     "start_time": "2024-10-27T08:47:56.437635",
     "status": "completed"
    },
    "tags": []
   },
   "source": [
    "# Model with some non- Linearity"
   ]
  },
  {
   "cell_type": "code",
   "execution_count": 24,
   "id": "9a1ef30c",
   "metadata": {
    "execution": {
     "iopub.execute_input": "2024-10-27T08:47:56.498355Z",
     "iopub.status.busy": "2024-10-27T08:47:56.497966Z",
     "iopub.status.idle": "2024-10-27T08:47:56.504970Z",
     "shell.execute_reply": "2024-10-27T08:47:56.503756Z"
    },
    "papermill": {
     "duration": 0.030299,
     "end_time": "2024-10-27T08:47:56.507114",
     "exception": false,
     "start_time": "2024-10-27T08:47:56.476815",
     "status": "completed"
    },
    "tags": []
   },
   "outputs": [],
   "source": [
    "# Create a model with non-linear and linear layers\n",
    "class FashionMNISTModelV1(nn.Module):\n",
    "    def __init__(self, input_shape: int, hidden_units: int, output_shape: int):\n",
    "        super().__init__()\n",
    "        self.layer_stack = nn.Sequential(\n",
    "            nn.Flatten(), # flatten inputs into single vector\n",
    "            nn.Linear(in_features=input_shape, out_features=hidden_units),\n",
    "            nn.ReLU(),\n",
    "            nn.Linear(in_features=hidden_units, out_features=output_shape),\n",
    "            nn.ReLU()\n",
    "        )\n",
    "    \n",
    "    def forward(self, x: torch.Tensor):\n",
    "        return self.layer_stack(x)"
   ]
  },
  {
   "cell_type": "code",
   "execution_count": 25,
   "id": "c896041c",
   "metadata": {
    "execution": {
     "iopub.execute_input": "2024-10-27T08:47:56.548655Z",
     "iopub.status.busy": "2024-10-27T08:47:56.548239Z",
     "iopub.status.idle": "2024-10-27T08:47:56.560685Z",
     "shell.execute_reply": "2024-10-27T08:47:56.559469Z"
    },
    "papermill": {
     "duration": 0.036359,
     "end_time": "2024-10-27T08:47:56.563339",
     "exception": false,
     "start_time": "2024-10-27T08:47:56.526980",
     "status": "completed"
    },
    "tags": []
   },
   "outputs": [
    {
     "data": {
      "text/plain": [
       "device(type='cpu')"
      ]
     },
     "execution_count": 25,
     "metadata": {},
     "output_type": "execute_result"
    }
   ],
   "source": [
    "torch.manual_seed(42)\n",
    "model_1 = FashionMNISTModelV1(input_shape=784, # number of input features\n",
    "    hidden_units=10,\n",
    "    output_shape=len(class_n) # number of output classes desired\n",
    ").to(device) # send model to GPU if it's available\n",
    "next(model_1.parameters()).device # check model device"
   ]
  },
  {
   "cell_type": "code",
   "execution_count": 26,
   "id": "0774fcd3",
   "metadata": {
    "execution": {
     "iopub.execute_input": "2024-10-27T08:47:56.604835Z",
     "iopub.status.busy": "2024-10-27T08:47:56.604406Z",
     "iopub.status.idle": "2024-10-27T08:47:56.610276Z",
     "shell.execute_reply": "2024-10-27T08:47:56.609126Z"
    },
    "papermill": {
     "duration": 0.029513,
     "end_time": "2024-10-27T08:47:56.612696",
     "exception": false,
     "start_time": "2024-10-27T08:47:56.583183",
     "status": "completed"
    },
    "tags": []
   },
   "outputs": [],
   "source": [
    "from helper_function import accuracy_fn\n",
    "loss_fn = nn.CrossEntropyLoss()\n",
    "optimizer = torch.optim.SGD(params=model_1.parameters(), \n",
    "                            lr=0.1)"
   ]
  },
  {
   "cell_type": "code",
   "execution_count": 27,
   "id": "540731d8",
   "metadata": {
    "execution": {
     "iopub.execute_input": "2024-10-27T08:47:56.654310Z",
     "iopub.status.busy": "2024-10-27T08:47:56.653882Z",
     "iopub.status.idle": "2024-10-27T08:47:56.665897Z",
     "shell.execute_reply": "2024-10-27T08:47:56.664670Z"
    },
    "papermill": {
     "duration": 0.035946,
     "end_time": "2024-10-27T08:47:56.668528",
     "exception": false,
     "start_time": "2024-10-27T08:47:56.632582",
     "status": "completed"
    },
    "tags": []
   },
   "outputs": [],
   "source": [
    "def train_step(model: torch.nn.Module,\n",
    "               data_loader: torch.utils.data.DataLoader,\n",
    "               loss_fn: torch.nn.Module,\n",
    "               optimizer: torch.optim.Optimizer,\n",
    "               accuracy_fn,\n",
    "               device: torch.device = device):\n",
    "    train_loss, train_acc = 0, 0\n",
    "    model.to(device)\n",
    "    for batch, (X, y) in enumerate(data_loader):\n",
    "        # Send data to GPU\n",
    "        X, y = X.to(device), y.to(device)\n",
    "\n",
    "        # 1. Forward pass\n",
    "        y_pred = model(X)\n",
    "\n",
    "        # 2. Calculate loss\n",
    "        loss = loss_fn(y_pred, y)\n",
    "        train_loss += loss\n",
    "        train_acc += accuracy_fn(y_true=y,\n",
    "                                 y_pred=y_pred.argmax(dim=1)) # Go from logits -> pred labels\n",
    "\n",
    "        # 3. Optimizer zero grad\n",
    "        optimizer.zero_grad()\n",
    "\n",
    "        # 4. Loss backward\n",
    "        loss.backward()\n",
    "\n",
    "        # 5. Optimizer step\n",
    "        optimizer.step()\n",
    "\n",
    "    # Calculate loss and accuracy per epoch and print out what's happening\n",
    "    train_loss /= len(data_loader)\n",
    "    train_acc /= len(data_loader)\n",
    "    print(f\"Train loss: {train_loss:.5f} | Train accuracy: {train_acc:.2f}%\")\n",
    "\n",
    "def test_step(data_loader: torch.utils.data.DataLoader,\n",
    "              model: torch.nn.Module,\n",
    "              loss_fn: torch.nn.Module,\n",
    "              accuracy_fn,\n",
    "              device: torch.device = device):\n",
    "    test_loss, test_acc = 0, 0\n",
    "    model.to(device)\n",
    "    model.eval() # put model in eval mode\n",
    "    # Turn on inference context manager\n",
    "    with torch.inference_mode(): \n",
    "        for X, y in data_loader:\n",
    "            # Send data to GPU\n",
    "            X, y = X.to(device), y.to(device)\n",
    "            \n",
    "            # 1. Forward pass\n",
    "            test_pred = model(X)\n",
    "            \n",
    "            # 2. Calculate loss and accuracy\n",
    "            test_loss += loss_fn(test_pred, y)\n",
    "            test_acc += accuracy_fn(y_true=y,\n",
    "                y_pred=test_pred.argmax(dim=1) # Go from logits -> pred labels\n",
    "            )\n",
    "        \n",
    "        # Adjust metrics and print out\n",
    "        test_loss /= len(data_loader)\n",
    "        test_acc /= len(data_loader)\n",
    "        print(f\"Test loss: {test_loss:.5f} | Test accuracy: {test_acc:.2f}%\\n\")"
   ]
  },
  {
   "cell_type": "code",
   "execution_count": 28,
   "id": "16ed222e",
   "metadata": {
    "execution": {
     "iopub.execute_input": "2024-10-27T08:47:56.712440Z",
     "iopub.status.busy": "2024-10-27T08:47:56.712002Z",
     "iopub.status.idle": "2024-10-27T08:48:26.257524Z",
     "shell.execute_reply": "2024-10-27T08:48:26.256556Z"
    },
    "papermill": {
     "duration": 29.573022,
     "end_time": "2024-10-27T08:48:26.261440",
     "exception": false,
     "start_time": "2024-10-27T08:47:56.688418",
     "status": "completed"
    },
    "tags": []
   },
   "outputs": [
    {
     "data": {
      "application/vnd.jupyter.widget-view+json": {
       "model_id": "0b4a8c78686449c1a4eb79ae7d3e9bf5",
       "version_major": 2,
       "version_minor": 0
      },
      "text/plain": [
       "  0%|          | 0/3 [00:00<?, ?it/s]"
      ]
     },
     "metadata": {},
     "output_type": "display_data"
    },
    {
     "name": "stdout",
     "output_type": "stream",
     "text": [
      "Epoch: 0\n",
      "---------\n",
      "Train loss: 1.09199 | Train accuracy: 61.34%\n",
      "Test loss: 0.95690 | Test accuracy: 64.98%\n",
      "\n",
      "Epoch: 1\n",
      "---------\n",
      "Train loss: 0.73779 | Train accuracy: 73.69%\n",
      "Test loss: 0.72388 | Test accuracy: 74.21%\n",
      "\n",
      "Epoch: 2\n",
      "---------\n",
      "Train loss: 0.66776 | Train accuracy: 76.08%\n",
      "Test loss: 0.68751 | Test accuracy: 75.64%\n",
      "\n"
     ]
    }
   ],
   "source": [
    "torch.manual_seed(42)\n",
    "\n",
    "\n",
    "epochs = 3\n",
    "for epoch in tqdm(range(epochs)):\n",
    "    print(f\"Epoch: {epoch}\\n---------\")\n",
    "    train_step(data_loader=train_dataloader, \n",
    "        model=model_1, \n",
    "        loss_fn=loss_fn,\n",
    "        optimizer=optimizer,\n",
    "        accuracy_fn=accuracy_fn\n",
    "    )\n",
    "    test_step(data_loader=test_dataloader,\n",
    "        model=model_1,\n",
    "        loss_fn=loss_fn,\n",
    "        accuracy_fn=accuracy_fn\n",
    "    )\n",
    "\n"
   ]
  },
  {
   "cell_type": "code",
   "execution_count": 29,
   "id": "a220ddf6",
   "metadata": {
    "execution": {
     "iopub.execute_input": "2024-10-27T08:48:26.303841Z",
     "iopub.status.busy": "2024-10-27T08:48:26.303444Z",
     "iopub.status.idle": "2024-10-27T08:48:27.411223Z",
     "shell.execute_reply": "2024-10-27T08:48:27.410104Z"
    },
    "papermill": {
     "duration": 1.131893,
     "end_time": "2024-10-27T08:48:27.413705",
     "exception": false,
     "start_time": "2024-10-27T08:48:26.281812",
     "status": "completed"
    },
    "tags": []
   },
   "outputs": [
    {
     "data": {
      "text/plain": [
       "{'model_name': 'FashionMNISTModelV1',\n",
       " 'model_loss': 0.6873756051063538,\n",
       " 'model_acc': 75.64896166134186}"
      ]
     },
     "execution_count": 29,
     "metadata": {},
     "output_type": "execute_result"
    }
   ],
   "source": [
    "# Move values to device\n",
    "torch.manual_seed(42)\n",
    "def eval_model(model: torch.nn.Module, \n",
    "               data_loader: torch.utils.data.DataLoader, \n",
    "               loss_fn: torch.nn.Module, \n",
    "               accuracy_fn, \n",
    "               device: torch.device = device):\n",
    "    \"\"\"Evaluates a given model on a given dataset.\n",
    "\n",
    "    Args:\n",
    "        model (torch.nn.Module): A PyTorch model capable of making predictions on data_loader.\n",
    "        data_loader (torch.utils.data.DataLoader): The target dataset to predict on.\n",
    "        loss_fn (torch.nn.Module): The loss function of model.\n",
    "        accuracy_fn: An accuracy function to compare the models predictions to the truth labels.\n",
    "        device (str, optional): Target device to compute on. Defaults to device.\n",
    "\n",
    "    Returns:\n",
    "        (dict): Results of model making predictions on data_loader.\n",
    "    \"\"\"\n",
    "    loss, acc = 0, 0\n",
    "    model.eval()\n",
    "    with torch.inference_mode():\n",
    "        for X, y in data_loader:\n",
    "            # Send data to the target device\n",
    "            X, y = X.to(device), y.to(device)\n",
    "            y_pred = model(X)\n",
    "            loss += loss_fn(y_pred, y)\n",
    "            acc += accuracy_fn(y_true=y, y_pred=y_pred.argmax(dim=1))\n",
    "        \n",
    "        # Scale loss and acc\n",
    "        loss /= len(data_loader)\n",
    "        acc /= len(data_loader)\n",
    "    return {\"model_name\": model.__class__.__name__, # only works when model was created with a class\n",
    "            \"model_loss\": loss.item(),\n",
    "            \"model_acc\": acc}\n",
    "\n",
    "# Calculate model 1 results with device-agnostic code \n",
    "model_1_results = eval_model(model=model_1, data_loader=test_dataloader,\n",
    "    loss_fn=loss_fn, accuracy_fn=accuracy_fn,\n",
    "    device=device\n",
    ")\n",
    "model_1_results"
   ]
  },
  {
   "cell_type": "code",
   "execution_count": 30,
   "id": "75fcb0dc",
   "metadata": {
    "execution": {
     "iopub.execute_input": "2024-10-27T08:48:27.456075Z",
     "iopub.status.busy": "2024-10-27T08:48:27.455660Z",
     "iopub.status.idle": "2024-10-27T08:48:27.460578Z",
     "shell.execute_reply": "2024-10-27T08:48:27.459474Z"
    },
    "papermill": {
     "duration": 0.028711,
     "end_time": "2024-10-27T08:48:27.462699",
     "exception": false,
     "start_time": "2024-10-27T08:48:27.433988",
     "status": "completed"
    },
    "tags": []
   },
   "outputs": [],
   "source": [
    "## adding non- linearrity made our model more worse"
   ]
  },
  {
   "cell_type": "markdown",
   "id": "1e33492d",
   "metadata": {
    "papermill": {
     "duration": 0.019974,
     "end_time": "2024-10-27T08:48:27.503228",
     "exception": false,
     "start_time": "2024-10-27T08:48:27.483254",
     "status": "completed"
    },
    "tags": []
   },
   "source": [
    "# 4. Building CNN model\n",
    "https://poloclub.github.io/cnn-explainer/"
   ]
  },
  {
   "cell_type": "code",
   "execution_count": 31,
   "id": "9a70b321",
   "metadata": {
    "execution": {
     "iopub.execute_input": "2024-10-27T08:48:27.545802Z",
     "iopub.status.busy": "2024-10-27T08:48:27.545410Z",
     "iopub.status.idle": "2024-10-27T08:48:27.555110Z",
     "shell.execute_reply": "2024-10-27T08:48:27.554143Z"
    },
    "papermill": {
     "duration": 0.033798,
     "end_time": "2024-10-27T08:48:27.557474",
     "exception": false,
     "start_time": "2024-10-27T08:48:27.523676",
     "status": "completed"
    },
    "tags": []
   },
   "outputs": [],
   "source": [
    "class FashionMNISTModelV2(nn.Module):\n",
    "    def __init__(self, input_shape : int, hidden_units:int):\n",
    "        super().__init__() \n",
    "        self.block_1 = nn.Sequential(\n",
    "            nn.Conv2d(in_channels=input_shape,\n",
    "                      out_channels=hidden_units,\n",
    "                      kernel_size=3,\n",
    "                      stride=1,\n",
    "                      padding=1),\n",
    "            nn.ReLU(),\n",
    "            nn.Conv2d(in_channels=hidden_units,\n",
    "                      out_channels=hidden_units,\n",
    "                      kernel_size=3,\n",
    "                      stride=1,\n",
    "                      padding=1),\n",
    "            nn.ReLU(),\n",
    "            nn.MaxPool2d(kernel_size=2,\n",
    "                         stride=2) #default value of stride is same as kernel_size\n",
    "        )\n",
    "        \n",
    "        self.block_2= nn.Sequential(\n",
    "            nn.Conv2d(in_channels=hidden_units,\n",
    "                      out_channels=hidden_units,\n",
    "                      kernel_size=3,\n",
    "                      stride=1,\n",
    "                      padding=1),\n",
    "            nn.ReLU(),\n",
    "            nn.Conv2d(in_channels=hidden_units,\n",
    "                      out_channels=hidden_units,\n",
    "                      kernel_size=3,\n",
    "                      stride=1,\n",
    "                      padding=1),\n",
    "            nn.ReLU(),\n",
    "            nn.MaxPool2d(2)\n",
    "        )\n",
    "        self.classifier= nn.Sequential(\n",
    "            nn.Flatten(),\n",
    "            nn.Linear(in_features=hidden_units*7*7, #how determine this? check below\n",
    "                      out_features=10)\n",
    "        )\n",
    "    def forward(self,x):\n",
    "        x=self.block_1(x)\n",
    "        #print(x.shape)\n",
    "        x=self.block_2(x)\n",
    "        #print(x.shape)\n",
    "        x=self.classifier(x)\n",
    "        #print(x.shape)\n",
    "        return x\n"
   ]
  },
  {
   "cell_type": "code",
   "execution_count": 32,
   "id": "39cd52d1",
   "metadata": {
    "execution": {
     "iopub.execute_input": "2024-10-27T08:48:27.600813Z",
     "iopub.status.busy": "2024-10-27T08:48:27.600369Z",
     "iopub.status.idle": "2024-10-27T08:48:27.610879Z",
     "shell.execute_reply": "2024-10-27T08:48:27.609853Z"
    },
    "papermill": {
     "duration": 0.034673,
     "end_time": "2024-10-27T08:48:27.613096",
     "exception": false,
     "start_time": "2024-10-27T08:48:27.578423",
     "status": "completed"
    },
    "tags": []
   },
   "outputs": [
    {
     "data": {
      "text/plain": [
       "FashionMNISTModelV2(\n",
       "  (block_1): Sequential(\n",
       "    (0): Conv2d(1, 10, kernel_size=(3, 3), stride=(1, 1), padding=(1, 1))\n",
       "    (1): ReLU()\n",
       "    (2): Conv2d(10, 10, kernel_size=(3, 3), stride=(1, 1), padding=(1, 1))\n",
       "    (3): ReLU()\n",
       "    (4): MaxPool2d(kernel_size=2, stride=2, padding=0, dilation=1, ceil_mode=False)\n",
       "  )\n",
       "  (block_2): Sequential(\n",
       "    (0): Conv2d(10, 10, kernel_size=(3, 3), stride=(1, 1), padding=(1, 1))\n",
       "    (1): ReLU()\n",
       "    (2): Conv2d(10, 10, kernel_size=(3, 3), stride=(1, 1), padding=(1, 1))\n",
       "    (3): ReLU()\n",
       "    (4): MaxPool2d(kernel_size=2, stride=2, padding=0, dilation=1, ceil_mode=False)\n",
       "  )\n",
       "  (classifier): Sequential(\n",
       "    (0): Flatten(start_dim=1, end_dim=-1)\n",
       "    (1): Linear(in_features=490, out_features=10, bias=True)\n",
       "  )\n",
       ")"
      ]
     },
     "execution_count": 32,
     "metadata": {},
     "output_type": "execute_result"
    }
   ],
   "source": [
    "# initialize our model\n",
    "torch.manual_seed(44)\n",
    "model_2 = FashionMNISTModelV2(input_shape=1, #how many color channel?\n",
    "                              hidden_units=10,      \n",
    "                             )\n",
    "model_2"
   ]
  },
  {
   "cell_type": "code",
   "execution_count": 33,
   "id": "c404fd25",
   "metadata": {
    "execution": {
     "iopub.execute_input": "2024-10-27T08:48:27.656353Z",
     "iopub.status.busy": "2024-10-27T08:48:27.655545Z",
     "iopub.status.idle": "2024-10-27T08:48:27.661583Z",
     "shell.execute_reply": "2024-10-27T08:48:27.660611Z"
    },
    "papermill": {
     "duration": 0.030073,
     "end_time": "2024-10-27T08:48:27.663858",
     "exception": false,
     "start_time": "2024-10-27T08:48:27.633785",
     "status": "completed"
    },
    "tags": []
   },
   "outputs": [],
   "source": [
    "random_img= torch.randn(size=([1,28,28]))"
   ]
  },
  {
   "cell_type": "code",
   "execution_count": 34,
   "id": "604c209b",
   "metadata": {
    "execution": {
     "iopub.execute_input": "2024-10-27T08:48:27.707071Z",
     "iopub.status.busy": "2024-10-27T08:48:27.706673Z",
     "iopub.status.idle": "2024-10-27T08:48:27.725659Z",
     "shell.execute_reply": "2024-10-27T08:48:27.724574Z"
    },
    "papermill": {
     "duration": 0.043573,
     "end_time": "2024-10-27T08:48:27.728167",
     "exception": false,
     "start_time": "2024-10-27T08:48:27.684594",
     "status": "completed"
    },
    "tags": []
   },
   "outputs": [
    {
     "data": {
      "text/plain": [
       "tensor([[ 0.0486,  0.0122,  0.0706, -0.1042,  0.0290,  0.0570,  0.0703,  0.0070,\n",
       "         -0.0775, -0.0676]], grad_fn=<AddmmBackward0>)"
      ]
     },
     "execution_count": 34,
     "metadata": {},
     "output_type": "execute_result"
    }
   ],
   "source": [
    "model_2(random_img.unsqueeze(0))"
   ]
  },
  {
   "cell_type": "markdown",
   "id": "5e483998",
   "metadata": {
    "papermill": {
     "duration": 0.020336,
     "end_time": "2024-10-27T08:48:27.769275",
     "exception": false,
     "start_time": "2024-10-27T08:48:27.748939",
     "status": "completed"
    },
    "tags": []
   },
   "source": [
    "## Set up a loss function and optimizer"
   ]
  },
  {
   "cell_type": "code",
   "execution_count": 35,
   "id": "6e593e3a",
   "metadata": {
    "execution": {
     "iopub.execute_input": "2024-10-27T08:48:27.812453Z",
     "iopub.status.busy": "2024-10-27T08:48:27.812020Z",
     "iopub.status.idle": "2024-10-27T08:48:27.817479Z",
     "shell.execute_reply": "2024-10-27T08:48:27.816429Z"
    },
    "papermill": {
     "duration": 0.029481,
     "end_time": "2024-10-27T08:48:27.819536",
     "exception": false,
     "start_time": "2024-10-27T08:48:27.790055",
     "status": "completed"
    },
    "tags": []
   },
   "outputs": [],
   "source": [
    "loss_fn= nn.CrossEntropyLoss()\n",
    "optimizer=torch.optim.SGD(params=model_2.parameters(), lr=0.1)"
   ]
  },
  {
   "cell_type": "markdown",
   "id": "660be193",
   "metadata": {
    "papermill": {
     "duration": 0.020396,
     "end_time": "2024-10-27T08:48:27.862099",
     "exception": false,
     "start_time": "2024-10-27T08:48:27.841703",
     "status": "completed"
    },
    "tags": []
   },
   "source": [
    "## Traning and testing loop"
   ]
  },
  {
   "cell_type": "code",
   "execution_count": 36,
   "id": "4304c9fa",
   "metadata": {
    "execution": {
     "iopub.execute_input": "2024-10-27T08:48:27.904714Z",
     "iopub.status.busy": "2024-10-27T08:48:27.904285Z",
     "iopub.status.idle": "2024-10-27T08:50:09.344458Z",
     "shell.execute_reply": "2024-10-27T08:50:09.343412Z"
    },
    "papermill": {
     "duration": 101.465035,
     "end_time": "2024-10-27T08:50:09.347604",
     "exception": false,
     "start_time": "2024-10-27T08:48:27.882569",
     "status": "completed"
    },
    "tags": []
   },
   "outputs": [
    {
     "data": {
      "application/vnd.jupyter.widget-view+json": {
       "model_id": "63655cf7187c4e8db0c8764da84660a3",
       "version_major": 2,
       "version_minor": 0
      },
      "text/plain": [
       "  0%|          | 0/3 [00:00<?, ?it/s]"
      ]
     },
     "metadata": {},
     "output_type": "display_data"
    },
    {
     "name": "stdout",
     "output_type": "stream",
     "text": [
      "Epoch: 0\n",
      "---------\n",
      "Train loss: 0.58239 | Train accuracy: 78.88%\n",
      "Test loss: 0.43573 | Test accuracy: 84.16%\n",
      "\n",
      "Epoch: 1\n",
      "---------\n",
      "Train loss: 0.37175 | Train accuracy: 86.61%\n",
      "Test loss: 0.39400 | Test accuracy: 85.43%\n",
      "\n",
      "Epoch: 2\n",
      "---------\n",
      "Train loss: 0.33673 | Train accuracy: 87.77%\n",
      "Test loss: 0.33124 | Test accuracy: 88.12%\n",
      "\n"
     ]
    }
   ],
   "source": [
    "epochs= 3\n",
    "\n",
    "for epoch in tqdm(range(epochs)):\n",
    "    print(f\"Epoch: {epoch}\\n---------\")\n",
    "    train_step(data_loader=train_dataloader, \n",
    "        model=model_2, \n",
    "        loss_fn=loss_fn,\n",
    "        optimizer=optimizer,\n",
    "        accuracy_fn=accuracy_fn,\n",
    "        device=device\n",
    "    )\n",
    "    test_step(data_loader=test_dataloader,\n",
    "        model=model_2,\n",
    "        loss_fn=loss_fn,\n",
    "        accuracy_fn=accuracy_fn,\n",
    "        device=device\n",
    "    )\n",
    "    \n",
    "    "
   ]
  },
  {
   "cell_type": "code",
   "execution_count": 37,
   "id": "01d9e480",
   "metadata": {
    "execution": {
     "iopub.execute_input": "2024-10-27T08:50:09.392017Z",
     "iopub.status.busy": "2024-10-27T08:50:09.391540Z",
     "iopub.status.idle": "2024-10-27T08:50:12.024481Z",
     "shell.execute_reply": "2024-10-27T08:50:12.023566Z"
    },
    "papermill": {
     "duration": 2.658046,
     "end_time": "2024-10-27T08:50:12.027004",
     "exception": false,
     "start_time": "2024-10-27T08:50:09.368958",
     "status": "completed"
    },
    "tags": []
   },
   "outputs": [],
   "source": [
    "#get model_2 results\n",
    "model_2_results= eval_model(\n",
    "    model=model_2,\n",
    "    data_loader=test_dataloader,\n",
    "    loss_fn=loss_fn,\n",
    "    accuracy_fn=accuracy_fn\n",
    ")"
   ]
  },
  {
   "cell_type": "markdown",
   "id": "8acc6752",
   "metadata": {
    "papermill": {
     "duration": 0.021074,
     "end_time": "2024-10-27T08:50:12.069925",
     "exception": false,
     "start_time": "2024-10-27T08:50:12.048851",
     "status": "completed"
    },
    "tags": []
   },
   "source": [
    "# Comparing models results"
   ]
  },
  {
   "cell_type": "code",
   "execution_count": 38,
   "id": "b8b84f91",
   "metadata": {
    "execution": {
     "iopub.execute_input": "2024-10-27T08:50:12.114748Z",
     "iopub.status.busy": "2024-10-27T08:50:12.114330Z",
     "iopub.status.idle": "2024-10-27T08:50:12.909819Z",
     "shell.execute_reply": "2024-10-27T08:50:12.908710Z"
    },
    "papermill": {
     "duration": 0.820461,
     "end_time": "2024-10-27T08:50:12.912298",
     "exception": false,
     "start_time": "2024-10-27T08:50:12.091837",
     "status": "completed"
    },
    "tags": []
   },
   "outputs": [
    {
     "data": {
      "text/html": [
       "<div>\n",
       "<style scoped>\n",
       "    .dataframe tbody tr th:only-of-type {\n",
       "        vertical-align: middle;\n",
       "    }\n",
       "\n",
       "    .dataframe tbody tr th {\n",
       "        vertical-align: top;\n",
       "    }\n",
       "\n",
       "    .dataframe thead th {\n",
       "        text-align: right;\n",
       "    }\n",
       "</style>\n",
       "<table border=\"1\" class=\"dataframe\">\n",
       "  <thead>\n",
       "    <tr style=\"text-align: right;\">\n",
       "      <th></th>\n",
       "      <th>model_name</th>\n",
       "      <th>model_loss</th>\n",
       "      <th>model_acc</th>\n",
       "    </tr>\n",
       "  </thead>\n",
       "  <tbody>\n",
       "    <tr>\n",
       "      <th>0</th>\n",
       "      <td>FashionMNISTModelV0</td>\n",
       "      <td>0.469518</td>\n",
       "      <td>83.226837</td>\n",
       "    </tr>\n",
       "    <tr>\n",
       "      <th>1</th>\n",
       "      <td>FashionMNISTModelV1</td>\n",
       "      <td>0.687376</td>\n",
       "      <td>75.648962</td>\n",
       "    </tr>\n",
       "    <tr>\n",
       "      <th>2</th>\n",
       "      <td>FashionMNISTModelV2</td>\n",
       "      <td>0.331767</td>\n",
       "      <td>88.079073</td>\n",
       "    </tr>\n",
       "  </tbody>\n",
       "</table>\n",
       "</div>"
      ],
      "text/plain": [
       "            model_name  model_loss  model_acc\n",
       "0  FashionMNISTModelV0    0.469518  83.226837\n",
       "1  FashionMNISTModelV1    0.687376  75.648962\n",
       "2  FashionMNISTModelV2    0.331767  88.079073"
      ]
     },
     "execution_count": 38,
     "metadata": {},
     "output_type": "execute_result"
    }
   ],
   "source": [
    "import pandas as pd\n",
    "compare_results = pd.DataFrame([model_0_results, model_1_results, model_2_results])\n",
    "compare_results"
   ]
  },
  {
   "cell_type": "code",
   "execution_count": 39,
   "id": "330ede34",
   "metadata": {
    "execution": {
     "iopub.execute_input": "2024-10-27T08:50:12.958958Z",
     "iopub.status.busy": "2024-10-27T08:50:12.958331Z",
     "iopub.status.idle": "2024-10-27T08:50:13.188402Z",
     "shell.execute_reply": "2024-10-27T08:50:13.187201Z"
    },
    "papermill": {
     "duration": 0.256582,
     "end_time": "2024-10-27T08:50:13.190768",
     "exception": false,
     "start_time": "2024-10-27T08:50:12.934186",
     "status": "completed"
    },
    "tags": []
   },
   "outputs": [
    {
     "data": {
      "image/png": "[encoded data removed]",
      "text/plain": [
       "<Figure size 640x480 with 1 Axes>"
      ]
     },
     "metadata": {},
     "output_type": "display_data"
    }
   ],
   "source": [
    "# Visualize our model results\n",
    "compare_results.set_index(\"model_name\")[\"model_acc\"].plot(kind=\"barh\")\n",
    "plt.xlabel(\"accuracy (%)\")\n",
    "plt.ylabel(\"model\");"
   ]
  },
  {
   "cell_type": "markdown",
   "id": "261d4a9c",
   "metadata": {
    "papermill": {
     "duration": 0.021677,
     "end_time": "2024-10-27T08:50:13.234632",
     "exception": false,
     "start_time": "2024-10-27T08:50:13.212955",
     "status": "completed"
    },
    "tags": []
   },
   "source": [
    "# Make and evaluate random predictions with CNN model"
   ]
  },
  {
   "cell_type": "code",
   "execution_count": 40,
   "id": "d65bbb6b",
   "metadata": {
    "execution": {
     "iopub.execute_input": "2024-10-27T08:50:13.281228Z",
     "iopub.status.busy": "2024-10-27T08:50:13.280764Z",
     "iopub.status.idle": "2024-10-27T08:50:13.288202Z",
     "shell.execute_reply": "2024-10-27T08:50:13.286964Z"
    },
    "papermill": {
     "duration": 0.034294,
     "end_time": "2024-10-27T08:50:13.290631",
     "exception": false,
     "start_time": "2024-10-27T08:50:13.256337",
     "status": "completed"
    },
    "tags": []
   },
   "outputs": [],
   "source": [
    "def make_predictions(model: torch.nn.Module, data: list, device: torch.device = device):\n",
    "    pred_probs = []\n",
    "    model.eval()\n",
    "    with torch.inference_mode():\n",
    "        for sample in data:\n",
    "            # Prepare sample\n",
    "            sample = torch.unsqueeze(sample, dim=0).to(device) # Add an extra dimension and send sample to device\n",
    "\n",
    "            # Forward pass (model outputs raw logit)\n",
    "            pred_logit = model(sample)\n",
    "\n",
    "            # Get prediction probability (logit -> prediction probability)\n",
    "            pred_prob = torch.softmax(pred_logit.squeeze(), dim=0) # note: perform softmax on the \"logits\" dimension, not \"batch\" dimension (in this case we have a batch size of 1, so can perform on dim=0)\n",
    "\n",
    "            # Get pred_prob off GPU for further calculations\n",
    "            pred_probs.append(pred_prob.cpu())\n",
    "            \n",
    "    # Stack the pred_probs to turn list into a tensor\n",
    "    return torch.stack(pred_probs)"
   ]
  },
  {
   "cell_type": "code",
   "execution_count": 41,
   "id": "5dcd7070",
   "metadata": {
    "execution": {
     "iopub.execute_input": "2024-10-27T08:50:13.336311Z",
     "iopub.status.busy": "2024-10-27T08:50:13.335825Z",
     "iopub.status.idle": "2024-10-27T08:50:14.516394Z",
     "shell.execute_reply": "2024-10-27T08:50:14.515230Z"
    },
    "papermill": {
     "duration": 1.206436,
     "end_time": "2024-10-27T08:50:14.518978",
     "exception": false,
     "start_time": "2024-10-27T08:50:13.312542",
     "status": "completed"
    },
    "tags": []
   },
   "outputs": [
    {
     "name": "stdout",
     "output_type": "stream",
     "text": [
      "Test sample image shape: torch.Size([1, 28, 28])\n",
      "Test sample label: 5 (Sandal)\n"
     ]
    }
   ],
   "source": [
    "import random\n",
    "random.seed(42)\n",
    "test_samples = []\n",
    "test_labels = []\n",
    "for sample, label in random.sample(list(test_data), k=9):\n",
    "    test_samples.append(sample)\n",
    "    test_labels.append(label)\n",
    "\n",
    "# View the first test sample shape and label\n",
    "print(f\"Test sample image shape: {test_samples[0].shape}\\nTest sample label: {test_labels[0]} ({class_n[test_labels[0]]})\")"
   ]
  },
  {
   "cell_type": "code",
   "execution_count": 42,
   "id": "816030d7",
   "metadata": {
    "execution": {
     "iopub.execute_input": "2024-10-27T08:50:14.565550Z",
     "iopub.status.busy": "2024-10-27T08:50:14.565090Z",
     "iopub.status.idle": "2024-10-27T08:50:14.581704Z",
     "shell.execute_reply": "2024-10-27T08:50:14.580619Z"
    },
    "papermill": {
     "duration": 0.042583,
     "end_time": "2024-10-27T08:50:14.584097",
     "exception": false,
     "start_time": "2024-10-27T08:50:14.541514",
     "status": "completed"
    },
    "tags": []
   },
   "outputs": [
    {
     "data": {
      "text/plain": [
       "tensor([[1.0268e-05, 8.5888e-09, 6.1477e-09, 1.4996e-08, 1.5542e-07, 9.9878e-01,\n",
       "         7.9785e-06, 3.5837e-06, 3.9461e-05, 1.1613e-03],\n",
       "        [7.4192e-02, 1.7208e-01, 1.3502e-04, 9.7410e-02, 4.7650e-01, 5.1816e-05,\n",
       "         1.7708e-01, 5.4903e-04, 1.5026e-03, 5.0304e-04]])"
      ]
     },
     "execution_count": 42,
     "metadata": {},
     "output_type": "execute_result"
    }
   ],
   "source": [
    "# Make predictions on test samples with model 2\n",
    "pred_probs= make_predictions(model=model_2, \n",
    "                             data=test_samples)\n",
    "\n",
    "# View first two prediction probabilities list\n",
    "pred_probs[:2]"
   ]
  },
  {
   "cell_type": "code",
   "execution_count": 43,
   "id": "ad258ca9",
   "metadata": {
    "execution": {
     "iopub.execute_input": "2024-10-27T08:50:14.631394Z",
     "iopub.status.busy": "2024-10-27T08:50:14.630959Z",
     "iopub.status.idle": "2024-10-27T08:50:14.641305Z",
     "shell.execute_reply": "2024-10-27T08:50:14.639499Z"
    },
    "papermill": {
     "duration": 0.037272,
     "end_time": "2024-10-27T08:50:14.644118",
     "exception": false,
     "start_time": "2024-10-27T08:50:14.606846",
     "status": "completed"
    },
    "tags": []
   },
   "outputs": [
    {
     "data": {
      "text/plain": [
       "tensor([5, 4, 7, 2, 3, 0, 4, 7, 1])"
      ]
     },
     "execution_count": 43,
     "metadata": {},
     "output_type": "execute_result"
    }
   ],
   "source": [
    "# Turn the prediction probabilities into prediction labels by taking the argmax()\n",
    "pred_classes = pred_probs.argmax(dim=1)\n",
    "pred_classes"
   ]
  },
  {
   "cell_type": "code",
   "execution_count": 44,
   "id": "f332e16e",
   "metadata": {
    "execution": {
     "iopub.execute_input": "2024-10-27T08:50:14.703309Z",
     "iopub.status.busy": "2024-10-27T08:50:14.702556Z",
     "iopub.status.idle": "2024-10-27T08:50:15.504241Z",
     "shell.execute_reply": "2024-10-27T08:50:15.503145Z"
    },
    "papermill": {
     "duration": 0.833031,
     "end_time": "2024-10-27T08:50:15.506515",
     "exception": false,
     "start_time": "2024-10-27T08:50:14.673484",
     "status": "completed"
    },
    "tags": []
   },
   "outputs": [
    {
     "data": {
      "image/png": "[encoded data removed]",
      "text/plain": [
       "<Figure size 900x900 with 9 Axes>"
      ]
     },
     "metadata": {},
     "output_type": "display_data"
    }
   ],
   "source": [
    "# Plot predictions\n",
    "plt.figure(figsize=(9, 9))\n",
    "nrows = 3\n",
    "ncols = 3\n",
    "for i, sample in enumerate(test_samples):\n",
    "  # Create a subplot\n",
    "  plt.subplot(nrows, ncols, i+1)\n",
    "\n",
    "  # Plot the target image\n",
    "  plt.imshow(sample.squeeze(), cmap=\"gray\")\n",
    "\n",
    "  # Find the prediction label (in text form, e.g. \"Sandal\")\n",
    "  pred_label = class_n[pred_classes[i]]\n",
    "\n",
    "  # Get the truth label (in text form, e.g. \"T-shirt\")\n",
    "  truth_label = class_n[test_labels[i]] \n",
    "\n",
    "  # Create the title text of the plot\n",
    "  title_text = f\"Pred: {pred_label} | Truth: {truth_label}\"\n",
    "  \n",
    "  # Check for equality and change title colour accordingly\n",
    "  if pred_label == truth_label:\n",
    "      plt.title(title_text, fontsize=10, c=\"g\") # green text if correct\n",
    "  else:\n",
    "      plt.title(title_text, fontsize=10, c=\"r\") # red text if wrong\n",
    "  plt.axis(False);"
   ]
  },
  {
   "cell_type": "markdown",
   "id": "671701eb",
   "metadata": {
    "papermill": {
     "duration": 0.023624,
     "end_time": "2024-10-27T08:50:15.553435",
     "exception": false,
     "start_time": "2024-10-27T08:50:15.529811",
     "status": "completed"
    },
    "tags": []
   },
   "source": [
    "# Confusion matrix"
   ]
  },
  {
   "cell_type": "code",
   "execution_count": 45,
   "id": "cc7ae590",
   "metadata": {
    "execution": {
     "iopub.execute_input": "2024-10-27T08:50:15.600938Z",
     "iopub.status.busy": "2024-10-27T08:50:15.600527Z",
     "iopub.status.idle": "2024-10-27T08:50:18.743870Z",
     "shell.execute_reply": "2024-10-27T08:50:18.742792Z"
    },
    "papermill": {
     "duration": 3.169669,
     "end_time": "2024-10-27T08:50:18.746001",
     "exception": false,
     "start_time": "2024-10-27T08:50:15.576332",
     "status": "completed"
    },
    "tags": []
   },
   "outputs": [
    {
     "data": {
      "application/vnd.jupyter.widget-view+json": {
       "model_id": "7c5d2c05a00a4b549a80540c1c2c3613",
       "version_major": 2,
       "version_minor": 0
      },
      "text/plain": [
       "Making predictions:   0%|          | 0/313 [00:00<?, ?it/s]"
      ]
     },
     "metadata": {},
     "output_type": "display_data"
    }
   ],
   "source": [
    "# Import tqdm for progress bar\n",
    "from tqdm.auto import tqdm\n",
    "\n",
    "# 1. Make predictions with trained model\n",
    "y_preds = []\n",
    "model_2.eval()\n",
    "with torch.inference_mode():\n",
    "  for X, y in tqdm(test_dataloader, desc=\"Making predictions\"):\n",
    "    # Send data and targets to target device\n",
    "    X, y = X.to(device), y.to(device)\n",
    "    # Do the forward pass\n",
    "    y_logit = model_2(X)\n",
    "    # Turn predictions from logits -> prediction probabilities -> predictions labels\n",
    "    y_pred = torch.softmax(y_logit, dim=1).argmax(dim=1) # note: perform softmax on the \"logits\" dimension, not \"batch\" dimension (in this case we have a batch size of 32, so can perform on dim=1)\n",
    "    # Put predictions on CPU for evaluation\n",
    "    y_preds.append(y_pred.cpu())\n",
    "# Concatenate list of predictions into a tensor\n",
    "y_pred_tensor = torch.cat(y_preds)"
   ]
  },
  {
   "cell_type": "code",
   "execution_count": 46,
   "id": "fa15ece5",
   "metadata": {
    "execution": {
     "iopub.execute_input": "2024-10-27T08:50:18.794884Z",
     "iopub.status.busy": "2024-10-27T08:50:18.794444Z",
     "iopub.status.idle": "2024-10-27T08:50:22.016140Z",
     "shell.execute_reply": "2024-10-27T08:50:22.014511Z"
    },
    "papermill": {
     "duration": 3.249635,
     "end_time": "2024-10-27T08:50:22.018891",
     "exception": false,
     "start_time": "2024-10-27T08:50:18.769256",
     "status": "completed"
    },
    "tags": []
   },
   "outputs": [
    {
     "name": "stdout",
     "output_type": "stream",
     "text": [
      "mlxtend version: 0.23.1\n"
     ]
    }
   ],
   "source": [
    "# See if torchmetrics exists, if not, install it\n",
    "try:\n",
    "    import torchmetrics, mlxtend\n",
    "    print(f\"mlxtend version: {mlxtend.__version__}\")\n",
    "    assert int(mlxtend.__version__.split(\".\")[1]) >= 19, \"mlxtend verison should be 0.19.0 or higher\"\n",
    "except:\n",
    "    !pip install -q torchmetrics -U mlxtend # <- Note: If you're using Google Colab, this may require restarting the runtime\n",
    "    import torchmetrics, mlxtend\n",
    "    print(f\"mlxtend version: {mlxtend.__version__}\")"
   ]
  },
  {
   "cell_type": "code",
   "execution_count": 47,
   "id": "d0507866",
   "metadata": {
    "execution": {
     "iopub.execute_input": "2024-10-27T08:50:22.067784Z",
     "iopub.status.busy": "2024-10-27T08:50:22.067186Z",
     "iopub.status.idle": "2024-10-27T08:50:22.073364Z",
     "shell.execute_reply": "2024-10-27T08:50:22.072140Z"
    },
    "papermill": {
     "duration": 0.03385,
     "end_time": "2024-10-27T08:50:22.076151",
     "exception": false,
     "start_time": "2024-10-27T08:50:22.042301",
     "status": "completed"
    },
    "tags": []
   },
   "outputs": [
    {
     "name": "stdout",
     "output_type": "stream",
     "text": [
      "0.23.1\n"
     ]
    }
   ],
   "source": [
    "# Import mlxtend upgraded version\n",
    "import mlxtend \n",
    "print(mlxtend.__version__)\n",
    "assert int(mlxtend.__version__.split(\".\")[1]) >= 19 # should be version 0.19.0 or higher"
   ]
  },
  {
   "cell_type": "code",
   "execution_count": 48,
   "id": "485f95cb",
   "metadata": {
    "execution": {
     "iopub.execute_input": "2024-10-27T08:50:22.126105Z",
     "iopub.status.busy": "2024-10-27T08:50:22.125678Z",
     "iopub.status.idle": "2024-10-27T08:50:23.037358Z",
     "shell.execute_reply": "2024-10-27T08:50:23.036157Z"
    },
    "papermill": {
     "duration": 0.94022,
     "end_time": "2024-10-27T08:50:23.040185",
     "exception": false,
     "start_time": "2024-10-27T08:50:22.099965",
     "status": "completed"
    },
    "tags": []
   },
   "outputs": [
    {
     "data": {
      "image/png": "[encoded data removed]",
      "text/plain": [
       "<Figure size 1000x700 with 1 Axes>"
      ]
     },
     "metadata": {},
     "output_type": "display_data"
    }
   ],
   "source": [
    "from torchmetrics import ConfusionMatrix\n",
    "from mlxtend.plotting import plot_confusion_matrix\n",
    "\n",
    "# 2. Setup confusion matrix instance and compare predictions to targets\n",
    "confmat = ConfusionMatrix(num_classes=len(class_n), task='multiclass')\n",
    "confmat_tensor = confmat(preds=y_pred_tensor,\n",
    "                         target=test_data.targets)\n",
    "\n",
    "# 3. Plot the confusion matrix\n",
    "fig, ax = plot_confusion_matrix(\n",
    "    conf_mat=confmat_tensor.numpy(), # matplotlib likes working with NumPy \n",
    "    class_names=class_n, # turn the row and column labels into class names\n",
    "    figsize=(10, 7)\n",
    ");"
   ]
  },
  {
   "cell_type": "code",
   "execution_count": 49,
   "id": "2a0d96a1",
   "metadata": {
    "execution": {
     "iopub.execute_input": "2024-10-27T08:50:23.091394Z",
     "iopub.status.busy": "2024-10-27T08:50:23.090959Z",
     "iopub.status.idle": "2024-10-27T08:50:23.110479Z",
     "shell.execute_reply": "2024-10-27T08:50:23.109157Z"
    },
    "papermill": {
     "duration": 0.04765,
     "end_time": "2024-10-27T08:50:23.112872",
     "exception": false,
     "start_time": "2024-10-27T08:50:23.065222",
     "status": "completed"
    },
    "tags": []
   },
   "outputs": [
    {
     "name": "stdout",
     "output_type": "stream",
     "text": [
      "Saving model to: models/03_pytorch_computer_vision_model_2.pth\n"
     ]
    }
   ],
   "source": [
    "from pathlib import Path\n",
    "\n",
    "# Create models directory (if it doesn't already exist), see: https://docs.python.org/3/library/pathlib.html#pathlib.Path.mkdir\n",
    "MODEL_PATH = Path(\"models\")\n",
    "MODEL_PATH.mkdir(parents=True, # create parent directories if needed\n",
    "                 exist_ok=True # if models directory already exists, don't error\n",
    ")\n",
    "\n",
    "# Create model save path\n",
    "MODEL_NAME = \"03_pytorch_computer_vision_model_2.pth\"\n",
    "MODEL_SAVE_PATH = MODEL_PATH / MODEL_NAME\n",
    "\n",
    "# Save the model state dict\n",
    "print(f\"Saving model to: {MODEL_SAVE_PATH}\")\n",
    "torch.save(obj=model_2.state_dict(), # only saving the state_dict() only saves the learned parameters\n",
    "           f=MODEL_SAVE_PATH)"
   ]
  },
  {
   "cell_type": "code",
   "execution_count": 50,
   "id": "c8fd776b",
   "metadata": {
    "execution": {
     "iopub.execute_input": "2024-10-27T08:50:23.164250Z",
     "iopub.status.busy": "2024-10-27T08:50:23.163808Z",
     "iopub.status.idle": "2024-10-27T08:50:23.174533Z",
     "shell.execute_reply": "2024-10-27T08:50:23.173463Z"
    },
    "papermill": {
     "duration": 0.039284,
     "end_time": "2024-10-27T08:50:23.176919",
     "exception": false,
     "start_time": "2024-10-27T08:50:23.137635",
     "status": "completed"
    },
    "tags": []
   },
   "outputs": [
    {
     "name": "stderr",
     "output_type": "stream",
     "text": [
      "/tmp/ipykernel_17/2475574700.py:8: FutureWarning: You are using `torch.load` with `weights_only=False` (the current default value), which uses the default pickle module implicitly. It is possible to construct malicious pickle data which will execute arbitrary code during unpickling (See https://github.com/pytorch/pytorch/blob/main/SECURITY.md#untrusted-models for more details). In a future release, the default value for `weights_only` will be flipped to `True`. This limits the functions that could be executed during unpickling. Arbitrary objects will no longer be allowed to be loaded via this mode unless they are explicitly allowlisted by the user via `torch.serialization.add_safe_globals`. We recommend you start setting `weights_only=True` for any use case where you don't have full control of the loaded file. Please open an issue on GitHub for any issues related to this experimental feature.\n",
      "  loaded_model_2.load_state_dict(torch.load(f=MODEL_SAVE_PATH))\n"
     ]
    }
   ],
   "source": [
    "# Create a new instance of FashionMNISTModelV2 (the same class as our saved state_dict())\n",
    "# Note: loading model will error if the shapes here aren't the same as the saved version\n",
    "loaded_model_2 = FashionMNISTModelV2(input_shape=1, \n",
    "                                    hidden_units=10 # try changing this to 128 and seeing what happens \n",
    "                                    ) \n",
    "\n",
    "# Load in the saved state_dict()\n",
    "loaded_model_2.load_state_dict(torch.load(f=MODEL_SAVE_PATH))\n",
    "\n",
    "# Send model to GPU\n",
    "loaded_model_2 = loaded_model_2.to(device)"
   ]
  },
  {
   "cell_type": "code",
   "execution_count": null,
   "id": "a6fc2817",
   "metadata": {
    "papermill": {
     "duration": 0.024542,
     "end_time": "2024-10-27T08:50:23.283187",
     "exception": false,
     "start_time": "2024-10-27T08:50:23.258645",
     "status": "completed"
    },
    "tags": []
   },
   "outputs": [],
   "source": []
  }
 ],
 "metadata": {
  "kaggle": {
   "accelerator": "none",
   "dataSources": [],
   "dockerImageVersionId": 30786,
   "isGpuEnabled": false,
   "isInternetEnabled": true,
   "language": "python",
   "sourceType": "notebook"
  },
  "kernelspec": {
   "display_name": "Python 3",
   "language": "python",
   "name": "python3"
  },
  "language_info": {
   "codemirror_mode": {
    "name": "ipython",
    "version": 3
   },
   "file_extension": ".py",
   "mimetype": "text/x-python",
   "name": "python",
   "nbconvert_exporter": "python",
   "pygments_lexer": "ipython3",
   "version": "3.10.14"
  },
  "papermill": {
   "default_parameters": {},
   "duration": 210.086508,
   "end_time": "2024-10-27T08:50:24.935354",
   "environment_variables": {},
   "exception": null,
   "input_path": "__notebook__.ipynb",
   "output_path": "__notebook__.ipynb",
   "parameters": {},
   "start_time": "2024-10-27T08:46:54.848846",
   "version": "2.6.0"
  },
  "widgets": {
   "application/vnd.jupyter.widget-state+json": {
    "state": {
     "08d97b47bfc34276b4bb062251fcd63b": {
      "model_module": "@jupyter-widgets/controls",
      "model_module_version": "1.5.0",
      "model_name": "FloatProgressModel",
      "state": {
       "_dom_classes": [],
       "_model_module": "@jupyter-widgets/controls",
       "_model_module_version": "1.5.0",
       "_model_name": "FloatProgressModel",
       "_view_count": null,
       "_view_module": "@jupyter-widgets/controls",
       "_view_module_version": "1.5.0",
       "_view_name": "ProgressView",
       "bar_style": "success",
       "description": "",
       "description_tooltip": null,
       "layout": "IPY_MODEL_b851d041397446269c00be548070cca6",
       "max": 3.0,
       "min": 0.0,
       "orientation": "horizontal",
       "style": "IPY_MODEL_bd1745e627e0440587e48a27584f377a",
       "value": 3.0
      }
     },
     "0b4a8c78686449c1a4eb79ae7d3e9bf5": {
      "model_module": "@jupyter-widgets/controls",
      "model_module_version": "1.5.0",
      "model_name": "HBoxModel",
      "state": {
       "_dom_classes": [],
       "_model_module": "@jupyter-widgets/controls",
       "_model_module_version": "1.5.0",
       "_model_name": "HBoxModel",
       "_view_count": null,
       "_view_module": "@jupyter-widgets/controls",
       "_view_module_version": "1.5.0",
       "_view_name": "HBoxView",
       "box_style": "",
       "children": [
        "IPY_MODEL_1e8eaf9b12834797b021a40d577403cd",
        "IPY_MODEL_08d97b47bfc34276b4bb062251fcd63b",
        "IPY_MODEL_8611c60d3ce047f78cb0b7fb663becf4"
       ],
       "layout": "IPY_MODEL_609e7cfd18e846189e9335addad2606e"
      }
     },
     "0b7492ac39544c14a12aaf5ac46301f3": {
      "model_module": "@jupyter-widgets/base",
      "model_module_version": "1.2.0",
      "model_name": "LayoutModel",
      "state": {
       "_model_module": "@jupyter-widgets/base",
       "_model_module_version": "1.2.0",
       "_model_name": "LayoutModel",
       "_view_count": null,
       "_view_module": "@jupyter-widgets/base",
       "_view_module_version": "1.2.0",
       "_view_name": "LayoutView",
       "align_content": null,
       "align_items": null,
       "align_self": null,
       "border": null,
       "bottom": null,
       "display": null,
       "flex": null,
       "flex_flow": null,
       "grid_area": null,
       "grid_auto_columns": null,
       "grid_auto_flow": null,
       "grid_auto_rows": null,
       "grid_column": null,
       "grid_gap": null,
       "grid_row": null,
       "grid_template_areas": null,
       "grid_template_columns": null,
       "grid_template_rows": null,
       "height": null,
       "justify_content": null,
       "justify_items": null,
       "left": null,
       "margin": null,
       "max_height": null,
       "max_width": null,
       "min_height": null,
       "min_width": null,
       "object_fit": null,
       "object_position": null,
       "order": null,
       "overflow": null,
       "overflow_x": null,
       "overflow_y": null,
       "padding": null,
       "right": null,
       "top": null,
       "visibility": null,
       "width": null
      }
     },
     "1dbb60a5500048389834b9b3e4c7dde8": {
      "model_module": "@jupyter-widgets/controls",
      "model_module_version": "1.5.0",
      "model_name": "DescriptionStyleModel",
      "state": {
       "_model_module": "@jupyter-widgets/controls",
       "_model_module_version": "1.5.0",
       "_model_name": "DescriptionStyleModel",
       "_view_count": null,
       "_view_module": "@jupyter-widgets/base",
       "_view_module_version": "1.2.0",
       "_view_name": "StyleView",
       "description_width": ""
      }
     },
     "1e8eaf9b12834797b021a40d577403cd": {
      "model_module": "@jupyter-widgets/controls",
      "model_module_version": "1.5.0",
      "model_name": "HTMLModel",
      "state": {
       "_dom_classes": [],
       "_model_module": "@jupyter-widgets/controls",
       "_model_module_version": "1.5.0",
       "_model_name": "HTMLModel",
       "_view_count": null,
       "_view_module": "@jupyter-widgets/controls",
       "_view_module_version": "1.5.0",
       "_view_name": "HTMLView",
       "description": "",
       "description_tooltip": null,
       "layout": "IPY_MODEL_482e0a33a4a44cde960ebb73b72bd42e",
       "placeholder": "​",
       "style": "IPY_MODEL_c0675add587f4047bb6fb32cc6631cd3",
       "value": "100%"
      }
     },
     "2624bab5044941428deba4bbcbf0d8ab": {
      "model_module": "@jupyter-widgets/controls",
      "model_module_version": "1.5.0",
      "model_name": "DescriptionStyleModel",
      "state": {
       "_model_module": "@jupyter-widgets/controls",
       "_model_module_version": "1.5.0",
       "_model_name": "DescriptionStyleModel",
       "_view_count": null,
       "_view_module": "@jupyter-widgets/base",
       "_view_module_version": "1.2.0",
       "_view_name": "StyleView",
       "description_width": ""
      }
     },
     "282064d171744fcdbe3f8ab20bef55ca": {
      "model_module": "@jupyter-widgets/controls",
      "model_module_version": "1.5.0",
      "model_name": "DescriptionStyleModel",
      "state": {
       "_model_module": "@jupyter-widgets/controls",
       "_model_module_version": "1.5.0",
       "_model_name": "DescriptionStyleModel",
       "_view_count": null,
       "_view_module": "@jupyter-widgets/base",
       "_view_module_version": "1.2.0",
       "_view_name": "StyleView",
       "description_width": ""
      }
     },
     "2fd165eec375442999d682c065028097": {
      "model_module": "@jupyter-widgets/controls",
      "model_module_version": "1.5.0",
      "model_name": "FloatProgressModel",
      "state": {
       "_dom_classes": [],
       "_model_module": "@jupyter-widgets/controls",
       "_model_module_version": "1.5.0",
       "_model_name": "FloatProgressModel",
       "_view_count": null,
       "_view_module": "@jupyter-widgets/controls",
       "_view_module_version": "1.5.0",
       "_view_name": "ProgressView",
       "bar_style": "success",
       "description": "",
       "description_tooltip": null,
       "layout": "IPY_MODEL_0b7492ac39544c14a12aaf5ac46301f3",
       "max": 5.0,
       "min": 0.0,
       "orientation": "horizontal",
       "style": "IPY_MODEL_ac4030fc08804d3385bc65ae5120db61",
       "value": 5.0
      }
     },
     "37bf27413c6e4540b8ec742b3531a6b4": {
      "model_module": "@jupyter-widgets/controls",
      "model_module_version": "1.5.0",
      "model_name": "DescriptionStyleModel",
      "state": {
       "_model_module": "@jupyter-widgets/controls",
       "_model_module_version": "1.5.0",
       "_model_name": "DescriptionStyleModel",
       "_view_count": null,
       "_view_module": "@jupyter-widgets/base",
       "_view_module_version": "1.2.0",
       "_view_name": "StyleView",
       "description_width": ""
      }
     },
     "3c8c1e1393044574a27d19068d375aee": {
      "model_module": "@jupyter-widgets/controls",
      "model_module_version": "1.5.0",
      "model_name": "HTMLModel",
      "state": {
       "_dom_classes": [],
       "_model_module": "@jupyter-widgets/controls",
       "_model_module_version": "1.5.0",
       "_model_name": "HTMLModel",
       "_view_count": null,
       "_view_module": "@jupyter-widgets/controls",
       "_view_module_version": "1.5.0",
       "_view_name": "HTMLView",
       "description": "",
       "description_tooltip": null,
       "layout": "IPY_MODEL_c6db25bf4cc4491fb3161c993ca2c4c5",
       "placeholder": "​",
       "style": "IPY_MODEL_1dbb60a5500048389834b9b3e4c7dde8",
       "value": " 5/5 [00:48&lt;00:00,  9.60s/it]"
      }
     },
     "482e0a33a4a44cde960ebb73b72bd42e": {
      "model_module": "@jupyter-widgets/base",
      "model_module_version": "1.2.0",
      "model_name": "LayoutModel",
      "state": {
       "_model_module": "@jupyter-widgets/base",
       "_model_module_version": "1.2.0",
       "_model_name": "LayoutModel",
       "_view_count": null,
       "_view_module": "@jupyter-widgets/base",
       "_view_module_version": "1.2.0",
       "_view_name": "LayoutView",
       "align_content": null,
       "align_items": null,
       "align_self": null,
       "border": null,
       "bottom": null,
       "display": null,
       "flex": null,
       "flex_flow": null,
       "grid_area": null,
       "grid_auto_columns": null,
       "grid_auto_flow": null,
       "grid_auto_rows": null,
       "grid_column": null,
       "grid_gap": null,
       "grid_row": null,
       "grid_template_areas": null,
       "grid_template_columns": null,
       "grid_template_rows": null,
       "height": null,
       "justify_content": null,
       "justify_items": null,
       "left": null,
       "margin": null,
       "max_height": null,
       "max_width": null,
       "min_height": null,
       "min_width": null,
       "object_fit": null,
       "object_position": null,
       "order": null,
       "overflow": null,
       "overflow_x": null,
       "overflow_y": null,
       "padding": null,
       "right": null,
       "top": null,
       "visibility": null,
       "width": null
      }
     },
     "4a3999e08d2440b8badfc5cd5266f742": {
      "model_module": "@jupyter-widgets/controls",
      "model_module_version": "1.5.0",
      "model_name": "HTMLModel",
      "state": {
       "_dom_classes": [],
       "_model_module": "@jupyter-widgets/controls",
       "_model_module_version": "1.5.0",
       "_model_name": "HTMLModel",
       "_view_count": null,
       "_view_module": "@jupyter-widgets/controls",
       "_view_module_version": "1.5.0",
       "_view_name": "HTMLView",
       "description": "",
       "description_tooltip": null,
       "layout": "IPY_MODEL_fd108ab4a2db478fa8a8338a2d393140",
       "placeholder": "​",
       "style": "IPY_MODEL_2624bab5044941428deba4bbcbf0d8ab",
       "value": "100%"
      }
     },
     "52c239dfb42d4ebe85b11c84a8292ac6": {
      "model_module": "@jupyter-widgets/controls",
      "model_module_version": "1.5.0",
      "model_name": "HBoxModel",
      "state": {
       "_dom_classes": [],
       "_model_module": "@jupyter-widgets/controls",
       "_model_module_version": "1.5.0",
       "_model_name": "HBoxModel",
       "_view_count": null,
       "_view_module": "@jupyter-widgets/controls",
       "_view_module_version": "1.5.0",
       "_view_name": "HBoxView",
       "box_style": "",
       "children": [
        "IPY_MODEL_4a3999e08d2440b8badfc5cd5266f742",
        "IPY_MODEL_2fd165eec375442999d682c065028097",
        "IPY_MODEL_3c8c1e1393044574a27d19068d375aee"
       ],
       "layout": "IPY_MODEL_6b22d8de8d4d49ce8d4fb2f3f3766124"
      }
     },
     "54245254002f47f396d5084723ebc80e": {
      "model_module": "@jupyter-widgets/controls",
      "model_module_version": "1.5.0",
      "model_name": "DescriptionStyleModel",
      "state": {
       "_model_module": "@jupyter-widgets/controls",
       "_model_module_version": "1.5.0",
       "_model_name": "DescriptionStyleModel",
       "_view_count": null,
       "_view_module": "@jupyter-widgets/base",
       "_view_module_version": "1.2.0",
       "_view_name": "StyleView",
       "description_width": ""
      }
     },
     "56aef1924159466695a1d1de9f8bcfd6": {
      "model_module": "@jupyter-widgets/controls",
      "model_module_version": "1.5.0",
      "model_name": "HTMLModel",
      "state": {
       "_dom_classes": [],
       "_model_module": "@jupyter-widgets/controls",
       "_model_module_version": "1.5.0",
       "_model_name": "HTMLModel",
       "_view_count": null,
       "_view_module": "@jupyter-widgets/controls",
       "_view_module_version": "1.5.0",
       "_view_name": "HTMLView",
       "description": "",
       "description_tooltip": null,
       "layout": "IPY_MODEL_ab7216c65aae4daab1b6c6713f9bc2ca",
       "placeholder": "​",
       "style": "IPY_MODEL_df9bd914912940278cb18f774a4c908e",
       "value": " 3/3 [01:41&lt;00:00, 33.75s/it]"
      }
     },
     "5d126f4df6b141688802b6029fd5fe75": {
      "model_module": "@jupyter-widgets/controls",
      "model_module_version": "1.5.0",
      "model_name": "DescriptionStyleModel",
      "state": {
       "_model_module": "@jupyter-widgets/controls",
       "_model_module_version": "1.5.0",
       "_model_name": "DescriptionStyleModel",
       "_view_count": null,
       "_view_module": "@jupyter-widgets/base",
       "_view_module_version": "1.2.0",
       "_view_name": "StyleView",
       "description_width": ""
      }
     },
     "609e7cfd18e846189e9335addad2606e": {
      "model_module": "@jupyter-widgets/base",
      "model_module_version": "1.2.0",
      "model_name": "LayoutModel",
      "state": {
       "_model_module": "@jupyter-widgets/base",
       "_model_module_version": "1.2.0",
       "_model_name": "LayoutModel",
       "_view_count": null,
       "_view_module": "@jupyter-widgets/base",
       "_view_module_version": "1.2.0",
       "_view_name": "LayoutView",
       "align_content": null,
       "align_items": null,
       "align_self": null,
       "border": null,
       "bottom": null,
       "display": null,
       "flex": null,
       "flex_flow": null,
       "grid_area": null,
       "grid_auto_columns": null,
       "grid_auto_flow": null,
       "grid_auto_rows": null,
       "grid_column": null,
       "grid_gap": null,
       "grid_row": null,
       "grid_template_areas": null,
       "grid_template_columns": null,
       "grid_template_rows": null,
       "height": null,
       "justify_content": null,
       "justify_items": null,
       "left": null,
       "margin": null,
       "max_height": null,
       "max_width": null,
       "min_height": null,
       "min_width": null,
       "object_fit": null,
       "object_position": null,
       "order": null,
       "overflow": null,
       "overflow_x": null,
       "overflow_y": null,
       "padding": null,
       "right": null,
       "top": null,
       "visibility": null,
       "width": null
      }
     },
     "63655cf7187c4e8db0c8764da84660a3": {
      "model_module": "@jupyter-widgets/controls",
      "model_module_version": "1.5.0",
      "model_name": "HBoxModel",
      "state": {
       "_dom_classes": [],
       "_model_module": "@jupyter-widgets/controls",
       "_model_module_version": "1.5.0",
       "_model_name": "HBoxModel",
       "_view_count": null,
       "_view_module": "@jupyter-widgets/controls",
       "_view_module_version": "1.5.0",
       "_view_name": "HBoxView",
       "box_style": "",
       "children": [
        "IPY_MODEL_d965363f67b442f1bc42a7e7ee120792",
        "IPY_MODEL_e0aa2a48996a449fa1d4730c7900fe95",
        "IPY_MODEL_56aef1924159466695a1d1de9f8bcfd6"
       ],
       "layout": "IPY_MODEL_78d25c2e35c54ad38abe14508f764da6"
      }
     },
     "643894f7009e4e1c8f33340c018012b9": {
      "model_module": "@jupyter-widgets/base",
      "model_module_version": "1.2.0",
      "model_name": "LayoutModel",
      "state": {
       "_model_module": "@jupyter-widgets/base",
       "_model_module_version": "1.2.0",
       "_model_name": "LayoutModel",
       "_view_count": null,
       "_view_module": "@jupyter-widgets/base",
       "_view_module_version": "1.2.0",
       "_view_name": "LayoutView",
       "align_content": null,
       "align_items": null,
       "align_self": null,
       "border": null,
       "bottom": null,
       "display": null,
       "flex": null,
       "flex_flow": null,
       "grid_area": null,
       "grid_auto_columns": null,
       "grid_auto_flow": null,
       "grid_auto_rows": null,
       "grid_column": null,
       "grid_gap": null,
       "grid_row": null,
       "grid_template_areas": null,
       "grid_template_columns": null,
       "grid_template_rows": null,
       "height": null,
       "justify_content": null,
       "justify_items": null,
       "left": null,
       "margin": null,
       "max_height": null,
       "max_width": null,
       "min_height": null,
       "min_width": null,
       "object_fit": null,
       "object_position": null,
       "order": null,
       "overflow": null,
       "overflow_x": null,
       "overflow_y": null,
       "padding": null,
       "right": null,
       "top": null,
       "visibility": null,
       "width": null
      }
     },
     "6b22d8de8d4d49ce8d4fb2f3f3766124": {
      "model_module": "@jupyter-widgets/base",
      "model_module_version": "1.2.0",
      "model_name": "LayoutModel",
      "state": {
       "_model_module": "@jupyter-widgets/base",
       "_model_module_version": "1.2.0",
       "_model_name": "LayoutModel",
       "_view_count": null,
       "_view_module": "@jupyter-widgets/base",
       "_view_module_version": "1.2.0",
       "_view_name": "LayoutView",
       "align_content": null,
       "align_items": null,
       "align_self": null,
       "border": null,
       "bottom": null,
       "display": null,
       "flex": null,
       "flex_flow": null,
       "grid_area": null,
       "grid_auto_columns": null,
       "grid_auto_flow": null,
       "grid_auto_rows": null,
       "grid_column": null,
       "grid_gap": null,
       "grid_row": null,
       "grid_template_areas": null,
       "grid_template_columns": null,
       "grid_template_rows": null,
       "height": null,
       "justify_content": null,
       "justify_items": null,
       "left": null,
       "margin": null,
       "max_height": null,
       "max_width": null,
       "min_height": null,
       "min_width": null,
       "object_fit": null,
       "object_position": null,
       "order": null,
       "overflow": null,
       "overflow_x": null,
       "overflow_y": null,
       "padding": null,
       "right": null,
       "top": null,
       "visibility": null,
       "width": null
      }
     },
     "7095319dec5b496cad3c5c25e2f463a6": {
      "model_module": "@jupyter-widgets/controls",
      "model_module_version": "1.5.0",
      "model_name": "FloatProgressModel",
      "state": {
       "_dom_classes": [],
       "_model_module": "@jupyter-widgets/controls",
       "_model_module_version": "1.5.0",
       "_model_name": "FloatProgressModel",
       "_view_count": null,
       "_view_module": "@jupyter-widgets/controls",
       "_view_module_version": "1.5.0",
       "_view_name": "ProgressView",
       "bar_style": "success",
       "description": "",
       "description_tooltip": null,
       "layout": "IPY_MODEL_cb298e7b745a42be9f691109216ff21f",
       "max": 313.0,
       "min": 0.0,
       "orientation": "horizontal",
       "style": "IPY_MODEL_f30e0930cddd46cf88e188fc880842d6",
       "value": 313.0
      }
     },
     "77bb2c69b30647ec9c32aaafb037ea6f": {
      "model_module": "@jupyter-widgets/base",
      "model_module_version": "1.2.0",
      "model_name": "LayoutModel",
      "state": {
       "_model_module": "@jupyter-widgets/base",
       "_model_module_version": "1.2.0",
       "_model_name": "LayoutModel",
       "_view_count": null,
       "_view_module": "@jupyter-widgets/base",
       "_view_module_version": "1.2.0",
       "_view_name": "LayoutView",
       "align_content": null,
       "align_items": null,
       "align_self": null,
       "border": null,
       "bottom": null,
       "display": null,
       "flex": null,
       "flex_flow": null,
       "grid_area": null,
       "grid_auto_columns": null,
       "grid_auto_flow": null,
       "grid_auto_rows": null,
       "grid_column": null,
       "grid_gap": null,
       "grid_row": null,
       "grid_template_areas": null,
       "grid_template_columns": null,
       "grid_template_rows": null,
       "height": null,
       "justify_content": null,
       "justify_items": null,
       "left": null,
       "margin": null,
       "max_height": null,
       "max_width": null,
       "min_height": null,
       "min_width": null,
       "object_fit": null,
       "object_position": null,
       "order": null,
       "overflow": null,
       "overflow_x": null,
       "overflow_y": null,
       "padding": null,
       "right": null,
       "top": null,
       "visibility": null,
       "width": null
      }
     },
     "78d25c2e35c54ad38abe14508f764da6": {
      "model_module": "@jupyter-widgets/base",
      "model_module_version": "1.2.0",
      "model_name": "LayoutModel",
      "state": {
       "_model_module": "@jupyter-widgets/base",
       "_model_module_version": "1.2.0",
       "_model_name": "LayoutModel",
       "_view_count": null,
       "_view_module": "@jupyter-widgets/base",
       "_view_module_version": "1.2.0",
       "_view_name": "LayoutView",
       "align_content": null,
       "align_items": null,
       "align_self": null,
       "border": null,
       "bottom": null,
       "display": null,
       "flex": null,
       "flex_flow": null,
       "grid_area": null,
       "grid_auto_columns": null,
       "grid_auto_flow": null,
       "grid_auto_rows": null,
       "grid_column": null,
       "grid_gap": null,
       "grid_row": null,
       "grid_template_areas": null,
       "grid_template_columns": null,
       "grid_template_rows": null,
       "height": null,
       "justify_content": null,
       "justify_items": null,
       "left": null,
       "margin": null,
       "max_height": null,
       "max_width": null,
       "min_height": null,
       "min_width": null,
       "object_fit": null,
       "object_position": null,
       "order": null,
       "overflow": null,
       "overflow_x": null,
       "overflow_y": null,
       "padding": null,
       "right": null,
       "top": null,
       "visibility": null,
       "width": null
      }
     },
     "7c5d2c05a00a4b549a80540c1c2c3613": {
      "model_module": "@jupyter-widgets/controls",
      "model_module_version": "1.5.0",
      "model_name": "HBoxModel",
      "state": {
       "_dom_classes": [],
       "_model_module": "@jupyter-widgets/controls",
       "_model_module_version": "1.5.0",
       "_model_name": "HBoxModel",
       "_view_count": null,
       "_view_module": "@jupyter-widgets/controls",
       "_view_module_version": "1.5.0",
       "_view_name": "HBoxView",
       "box_style": "",
       "children": [
        "IPY_MODEL_fedf0121cc72413b9e71e54e81a6308a",
        "IPY_MODEL_7095319dec5b496cad3c5c25e2f463a6",
        "IPY_MODEL_e4b507cf07a04d70baedf6ac0acf075e"
       ],
       "layout": "IPY_MODEL_643894f7009e4e1c8f33340c018012b9"
      }
     },
     "8611c60d3ce047f78cb0b7fb663becf4": {
      "model_module": "@jupyter-widgets/controls",
      "model_module_version": "1.5.0",
      "model_name": "HTMLModel",
      "state": {
       "_dom_classes": [],
       "_model_module": "@jupyter-widgets/controls",
       "_model_module_version": "1.5.0",
       "_model_name": "HTMLModel",
       "_view_count": null,
       "_view_module": "@jupyter-widgets/controls",
       "_view_module_version": "1.5.0",
       "_view_name": "HTMLView",
       "description": "",
       "description_tooltip": null,
       "layout": "IPY_MODEL_ad25c092ffbe4ba1adda98a67d4f1393",
       "placeholder": "​",
       "style": "IPY_MODEL_37bf27413c6e4540b8ec742b3531a6b4",
       "value": " 3/3 [00:29&lt;00:00,  9.80s/it]"
      }
     },
     "aa906ba3ea47425aa182619f2f447d20": {
      "model_module": "@jupyter-widgets/base",
      "model_module_version": "1.2.0",
      "model_name": "LayoutModel",
      "state": {
       "_model_module": "@jupyter-widgets/base",
       "_model_module_version": "1.2.0",
       "_model_name": "LayoutModel",
       "_view_count": null,
       "_view_module": "@jupyter-widgets/base",
       "_view_module_version": "1.2.0",
       "_view_name": "LayoutView",
       "align_content": null,
       "align_items": null,
       "align_self": null,
       "border": null,
       "bottom": null,
       "display": null,
       "flex": null,
       "flex_flow": null,
       "grid_area": null,
       "grid_auto_columns": null,
       "grid_auto_flow": null,
       "grid_auto_rows": null,
       "grid_column": null,
       "grid_gap": null,
       "grid_row": null,
       "grid_template_areas": null,
       "grid_template_columns": null,
       "grid_template_rows": null,
       "height": null,
       "justify_content": null,
       "justify_items": null,
       "left": null,
       "margin": null,
       "max_height": null,
       "max_width": null,
       "min_height": null,
       "min_width": null,
       "object_fit": null,
       "object_position": null,
       "order": null,
       "overflow": null,
       "overflow_x": null,
       "overflow_y": null,
       "padding": null,
       "right": null,
       "top": null,
       "visibility": null,
       "width": null
      }
     },
     "ab7216c65aae4daab1b6c6713f9bc2ca": {
      "model_module": "@jupyter-widgets/base",
      "model_module_version": "1.2.0",
      "model_name": "LayoutModel",
      "state": {
       "_model_module": "@jupyter-widgets/base",
       "_model_module_version": "1.2.0",
       "_model_name": "LayoutModel",
       "_view_count": null,
       "_view_module": "@jupyter-widgets/base",
       "_view_module_version": "1.2.0",
       "_view_name": "LayoutView",
       "align_content": null,
       "align_items": null,
       "align_self": null,
       "border": null,
       "bottom": null,
       "display": null,
       "flex": null,
       "flex_flow": null,
       "grid_area": null,
       "grid_auto_columns": null,
       "grid_auto_flow": null,
       "grid_auto_rows": null,
       "grid_column": null,
       "grid_gap": null,
       "grid_row": null,
       "grid_template_areas": null,
       "grid_template_columns": null,
       "grid_template_rows": null,
       "height": null,
       "justify_content": null,
       "justify_items": null,
       "left": null,
       "margin": null,
       "max_height": null,
       "max_width": null,
       "min_height": null,
       "min_width": null,
       "object_fit": null,
       "object_position": null,
       "order": null,
       "overflow": null,
       "overflow_x": null,
       "overflow_y": null,
       "padding": null,
       "right": null,
       "top": null,
       "visibility": null,
       "width": null
      }
     },
     "ac4030fc08804d3385bc65ae5120db61": {
      "model_module": "@jupyter-widgets/controls",
      "model_module_version": "1.5.0",
      "model_name": "ProgressStyleModel",
      "state": {
       "_model_module": "@jupyter-widgets/controls",
       "_model_module_version": "1.5.0",
       "_model_name": "ProgressStyleModel",
       "_view_count": null,
       "_view_module": "@jupyter-widgets/base",
       "_view_module_version": "1.2.0",
       "_view_name": "StyleView",
       "bar_color": null,
       "description_width": ""
      }
     },
     "ad25c092ffbe4ba1adda98a67d4f1393": {
      "model_module": "@jupyter-widgets/base",
      "model_module_version": "1.2.0",
      "model_name": "LayoutModel",
      "state": {
       "_model_module": "@jupyter-widgets/base",
       "_model_module_version": "1.2.0",
       "_model_name": "LayoutModel",
       "_view_count": null,
       "_view_module": "@jupyter-widgets/base",
       "_view_module_version": "1.2.0",
       "_view_name": "LayoutView",
       "align_content": null,
       "align_items": null,
       "align_self": null,
       "border": null,
       "bottom": null,
       "display": null,
       "flex": null,
       "flex_flow": null,
       "grid_area": null,
       "grid_auto_columns": null,
       "grid_auto_flow": null,
       "grid_auto_rows": null,
       "grid_column": null,
       "grid_gap": null,
       "grid_row": null,
       "grid_template_areas": null,
       "grid_template_columns": null,
       "grid_template_rows": null,
       "height": null,
       "justify_content": null,
       "justify_items": null,
       "left": null,
       "margin": null,
       "max_height": null,
       "max_width": null,
       "min_height": null,
       "min_width": null,
       "object_fit": null,
       "object_position": null,
       "order": null,
       "overflow": null,
       "overflow_x": null,
       "overflow_y": null,
       "padding": null,
       "right": null,
       "top": null,
       "visibility": null,
       "width": null
      }
     },
     "b851d041397446269c00be548070cca6": {
      "model_module": "@jupyter-widgets/base",
      "model_module_version": "1.2.0",
      "model_name": "LayoutModel",
      "state": {
       "_model_module": "@jupyter-widgets/base",
       "_model_module_version": "1.2.0",
       "_model_name": "LayoutModel",
       "_view_count": null,
       "_view_module": "@jupyter-widgets/base",
       "_view_module_version": "1.2.0",
       "_view_name": "LayoutView",
       "align_content": null,
       "align_items": null,
       "align_self": null,
       "border": null,
       "bottom": null,
       "display": null,
       "flex": null,
       "flex_flow": null,
       "grid_area": null,
       "grid_auto_columns": null,
       "grid_auto_flow": null,
       "grid_auto_rows": null,
       "grid_column": null,
       "grid_gap": null,
       "grid_row": null,
       "grid_template_areas": null,
       "grid_template_columns": null,
       "grid_template_rows": null,
       "height": null,
       "justify_content": null,
       "justify_items": null,
       "left": null,
       "margin": null,
       "max_height": null,
       "max_width": null,
       "min_height": null,
       "min_width": null,
       "object_fit": null,
       "object_position": null,
       "order": null,
       "overflow": null,
       "overflow_x": null,
       "overflow_y": null,
       "padding": null,
       "right": null,
       "top": null,
       "visibility": null,
       "width": null
      }
     },
     "bd1745e627e0440587e48a27584f377a": {
      "model_module": "@jupyter-widgets/controls",
      "model_module_version": "1.5.0",
      "model_name": "ProgressStyleModel",
      "state": {
       "_model_module": "@jupyter-widgets/controls",
       "_model_module_version": "1.5.0",
       "_model_name": "ProgressStyleModel",
       "_view_count": null,
       "_view_module": "@jupyter-widgets/base",
       "_view_module_version": "1.2.0",
       "_view_name": "StyleView",
       "bar_color": null,
       "description_width": ""
      }
     },
     "c0675add587f4047bb6fb32cc6631cd3": {
      "model_module": "@jupyter-widgets/controls",
      "model_module_version": "1.5.0",
      "model_name": "DescriptionStyleModel",
      "state": {
       "_model_module": "@jupyter-widgets/controls",
       "_model_module_version": "1.5.0",
       "_model_name": "DescriptionStyleModel",
       "_view_count": null,
       "_view_module": "@jupyter-widgets/base",
       "_view_module_version": "1.2.0",
       "_view_name": "StyleView",
       "description_width": ""
      }
     },
     "c6db25bf4cc4491fb3161c993ca2c4c5": {
      "model_module": "@jupyter-widgets/base",
      "model_module_version": "1.2.0",
      "model_name": "LayoutModel",
      "state": {
       "_model_module": "@jupyter-widgets/base",
       "_model_module_version": "1.2.0",
       "_model_name": "LayoutModel",
       "_view_count": null,
       "_view_module": "@jupyter-widgets/base",
       "_view_module_version": "1.2.0",
       "_view_name": "LayoutView",
       "align_content": null,
       "align_items": null,
       "align_self": null,
       "border": null,
       "bottom": null,
       "display": null,
       "flex": null,
       "flex_flow": null,
       "grid_area": null,
       "grid_auto_columns": null,
       "grid_auto_flow": null,
       "grid_auto_rows": null,
       "grid_column": null,
       "grid_gap": null,
       "grid_row": null,
       "grid_template_areas": null,
       "grid_template_columns": null,
       "grid_template_rows": null,
       "height": null,
       "justify_content": null,
       "justify_items": null,
       "left": null,
       "margin": null,
       "max_height": null,
       "max_width": null,
       "min_height": null,
       "min_width": null,
       "object_fit": null,
       "object_position": null,
       "order": null,
       "overflow": null,
       "overflow_x": null,
       "overflow_y": null,
       "padding": null,
       "right": null,
       "top": null,
       "visibility": null,
       "width": null
      }
     },
     "cad783f775184e2cac514211ed6d8b76": {
      "model_module": "@jupyter-widgets/base",
      "model_module_version": "1.2.0",
      "model_name": "LayoutModel",
      "state": {
       "_model_module": "@jupyter-widgets/base",
       "_model_module_version": "1.2.0",
       "_model_name": "LayoutModel",
       "_view_count": null,
       "_view_module": "@jupyter-widgets/base",
       "_view_module_version": "1.2.0",
       "_view_name": "LayoutView",
       "align_content": null,
       "align_items": null,
       "align_self": null,
       "border": null,
       "bottom": null,
       "display": null,
       "flex": null,
       "flex_flow": null,
       "grid_area": null,
       "grid_auto_columns": null,
       "grid_auto_flow": null,
       "grid_auto_rows": null,
       "grid_column": null,
       "grid_gap": null,
       "grid_row": null,
       "grid_template_areas": null,
       "grid_template_columns": null,
       "grid_template_rows": null,
       "height": null,
       "justify_content": null,
       "justify_items": null,
       "left": null,
       "margin": null,
       "max_height": null,
       "max_width": null,
       "min_height": null,
       "min_width": null,
       "object_fit": null,
       "object_position": null,
       "order": null,
       "overflow": null,
       "overflow_x": null,
       "overflow_y": null,
       "padding": null,
       "right": null,
       "top": null,
       "visibility": null,
       "width": null
      }
     },
     "cb298e7b745a42be9f691109216ff21f": {
      "model_module": "@jupyter-widgets/base",
      "model_module_version": "1.2.0",
      "model_name": "LayoutModel",
      "state": {
       "_model_module": "@jupyter-widgets/base",
       "_model_module_version": "1.2.0",
       "_model_name": "LayoutModel",
       "_view_count": null,
       "_view_module": "@jupyter-widgets/base",
       "_view_module_version": "1.2.0",
       "_view_name": "LayoutView",
       "align_content": null,
       "align_items": null,
       "align_self": null,
       "border": null,
       "bottom": null,
       "display": null,
       "flex": null,
       "flex_flow": null,
       "grid_area": null,
       "grid_auto_columns": null,
       "grid_auto_flow": null,
       "grid_auto_rows": null,
       "grid_column": null,
       "grid_gap": null,
       "grid_row": null,
       "grid_template_areas": null,
       "grid_template_columns": null,
       "grid_template_rows": null,
       "height": null,
       "justify_content": null,
       "justify_items": null,
       "left": null,
       "margin": null,
       "max_height": null,
       "max_width": null,
       "min_height": null,
       "min_width": null,
       "object_fit": null,
       "object_position": null,
       "order": null,
       "overflow": null,
       "overflow_x": null,
       "overflow_y": null,
       "padding": null,
       "right": null,
       "top": null,
       "visibility": null,
       "width": null
      }
     },
     "d0571d23b5524ba5907f7481c43fcf3c": {
      "model_module": "@jupyter-widgets/base",
      "model_module_version": "1.2.0",
      "model_name": "LayoutModel",
      "state": {
       "_model_module": "@jupyter-widgets/base",
       "_model_module_version": "1.2.0",
       "_model_name": "LayoutModel",
       "_view_count": null,
       "_view_module": "@jupyter-widgets/base",
       "_view_module_version": "1.2.0",
       "_view_name": "LayoutView",
       "align_content": null,
       "align_items": null,
       "align_self": null,
       "border": null,
       "bottom": null,
       "display": null,
       "flex": null,
       "flex_flow": null,
       "grid_area": null,
       "grid_auto_columns": null,
       "grid_auto_flow": null,
       "grid_auto_rows": null,
       "grid_column": null,
       "grid_gap": null,
       "grid_row": null,
       "grid_template_areas": null,
       "grid_template_columns": null,
       "grid_template_rows": null,
       "height": null,
       "justify_content": null,
       "justify_items": null,
       "left": null,
       "margin": null,
       "max_height": null,
       "max_width": null,
       "min_height": null,
       "min_width": null,
       "object_fit": null,
       "object_position": null,
       "order": null,
       "overflow": null,
       "overflow_x": null,
       "overflow_y": null,
       "padding": null,
       "right": null,
       "top": null,
       "visibility": null,
       "width": null
      }
     },
     "d965363f67b442f1bc42a7e7ee120792": {
      "model_module": "@jupyter-widgets/controls",
      "model_module_version": "1.5.0",
      "model_name": "HTMLModel",
      "state": {
       "_dom_classes": [],
       "_model_module": "@jupyter-widgets/controls",
       "_model_module_version": "1.5.0",
       "_model_name": "HTMLModel",
       "_view_count": null,
       "_view_module": "@jupyter-widgets/controls",
       "_view_module_version": "1.5.0",
       "_view_name": "HTMLView",
       "description": "",
       "description_tooltip": null,
       "layout": "IPY_MODEL_77bb2c69b30647ec9c32aaafb037ea6f",
       "placeholder": "​",
       "style": "IPY_MODEL_282064d171744fcdbe3f8ab20bef55ca",
       "value": "100%"
      }
     },
     "df9bd914912940278cb18f774a4c908e": {
      "model_module": "@jupyter-widgets/controls",
      "model_module_version": "1.5.0",
      "model_name": "DescriptionStyleModel",
      "state": {
       "_model_module": "@jupyter-widgets/controls",
       "_model_module_version": "1.5.0",
       "_model_name": "DescriptionStyleModel",
       "_view_count": null,
       "_view_module": "@jupyter-widgets/base",
       "_view_module_version": "1.2.0",
       "_view_name": "StyleView",
       "description_width": ""
      }
     },
     "e0aa2a48996a449fa1d4730c7900fe95": {
      "model_module": "@jupyter-widgets/controls",
      "model_module_version": "1.5.0",
      "model_name": "FloatProgressModel",
      "state": {
       "_dom_classes": [],
       "_model_module": "@jupyter-widgets/controls",
       "_model_module_version": "1.5.0",
       "_model_name": "FloatProgressModel",
       "_view_count": null,
       "_view_module": "@jupyter-widgets/controls",
       "_view_module_version": "1.5.0",
       "_view_name": "ProgressView",
       "bar_style": "success",
       "description": "",
       "description_tooltip": null,
       "layout": "IPY_MODEL_aa906ba3ea47425aa182619f2f447d20",
       "max": 3.0,
       "min": 0.0,
       "orientation": "horizontal",
       "style": "IPY_MODEL_ea5d9722d71340ddbc77d161408d4622",
       "value": 3.0
      }
     },
     "e4b507cf07a04d70baedf6ac0acf075e": {
      "model_module": "@jupyter-widgets/controls",
      "model_module_version": "1.5.0",
      "model_name": "HTMLModel",
      "state": {
       "_dom_classes": [],
       "_model_module": "@jupyter-widgets/controls",
       "_model_module_version": "1.5.0",
       "_model_name": "HTMLModel",
       "_view_count": null,
       "_view_module": "@jupyter-widgets/controls",
       "_view_module_version": "1.5.0",
       "_view_name": "HTMLView",
       "description": "",
       "description_tooltip": null,
       "layout": "IPY_MODEL_cad783f775184e2cac514211ed6d8b76",
       "placeholder": "​",
       "style": "IPY_MODEL_5d126f4df6b141688802b6029fd5fe75",
       "value": " 313/313 [00:03&lt;00:00, 113.97it/s]"
      }
     },
     "ea5d9722d71340ddbc77d161408d4622": {
      "model_module": "@jupyter-widgets/controls",
      "model_module_version": "1.5.0",
      "model_name": "ProgressStyleModel",
      "state": {
       "_model_module": "@jupyter-widgets/controls",
       "_model_module_version": "1.5.0",
       "_model_name": "ProgressStyleModel",
       "_view_count": null,
       "_view_module": "@jupyter-widgets/base",
       "_view_module_version": "1.2.0",
       "_view_name": "StyleView",
       "bar_color": null,
       "description_width": ""
      }
     },
     "f30e0930cddd46cf88e188fc880842d6": {
      "model_module": "@jupyter-widgets/controls",
      "model_module_version": "1.5.0",
      "model_name": "ProgressStyleModel",
      "state": {
       "_model_module": "@jupyter-widgets/controls",
       "_model_module_version": "1.5.0",
       "_model_name": "ProgressStyleModel",
       "_view_count": null,
       "_view_module": "@jupyter-widgets/base",
       "_view_module_version": "1.2.0",
       "_view_name": "StyleView",
       "bar_color": null,
       "description_width": ""
      }
     },
     "fd108ab4a2db478fa8a8338a2d393140": {
      "model_module": "@jupyter-widgets/base",
      "model_module_version": "1.2.0",
      "model_name": "LayoutModel",
      "state": {
       "_model_module": "@jupyter-widgets/base",
       "_model_module_version": "1.2.0",
       "_model_name": "LayoutModel",
       "_view_count": null,
       "_view_module": "@jupyter-widgets/base",
       "_view_module_version": "1.2.0",
       "_view_name": "LayoutView",
       "align_content": null,
       "align_items": null,
       "align_self": null,
       "border": null,
       "bottom": null,
       "display": null,
       "flex": null,
       "flex_flow": null,
       "grid_area": null,
       "grid_auto_columns": null,
       "grid_auto_flow": null,
       "grid_auto_rows": null,
       "grid_column": null,
       "grid_gap": null,
       "grid_row": null,
       "grid_template_areas": null,
       "grid_template_columns": null,
       "grid_template_rows": null,
       "height": null,
       "justify_content": null,
       "justify_items": null,
       "left": null,
       "margin": null,
       "max_height": null,
       "max_width": null,
       "min_height": null,
       "min_width": null,
       "object_fit": null,
       "object_position": null,
       "order": null,
       "overflow": null,
       "overflow_x": null,
       "overflow_y": null,
       "padding": null,
       "right": null,
       "top": null,
       "visibility": null,
       "width": null
      }
     },
     "fedf0121cc72413b9e71e54e81a6308a": {
      "model_module": "@jupyter-widgets/controls",
      "model_module_version": "1.5.0",
      "model_name": "HTMLModel",
      "state": {
       "_dom_classes": [],
       "_model_module": "@jupyter-widgets/controls",
       "_model_module_version": "1.5.0",
       "_model_name": "HTMLModel",
       "_view_count": null,
       "_view_module": "@jupyter-widgets/controls",
       "_view_module_version": "1.5.0",
       "_view_name": "HTMLView",
       "description": "",
       "description_tooltip": null,
       "layout": "IPY_MODEL_d0571d23b5524ba5907f7481c43fcf3c",
       "placeholder": "​",
       "style": "IPY_MODEL_54245254002f47f396d5084723ebc80e",
       "value": "Making predictions: 100%"
      }
     }
    },
    "version_major": 2,
    "version_minor": 0
   }
  }
 },
 "nbformat": 4,
 "nbformat_minor": 5
}
