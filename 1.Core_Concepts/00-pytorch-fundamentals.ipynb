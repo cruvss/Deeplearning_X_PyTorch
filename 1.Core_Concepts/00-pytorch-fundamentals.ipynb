{
 "cells": [
  {
   "cell_type": "markdown",
   "metadata": {},
   "source": [
    "<a href=\"https://www.kaggle.com/code/sachinkoirla/00-pytorch-fundamentals?scriptVersionId=199136831\" target=\"_blank\"><img align=\"left\" alt=\"Kaggle\" title=\"Open in Kaggle\" src=\"https://kaggle.com/static/images/open-in-kaggle.svg\"></a>"
   ]
  },
  {
   "cell_type": "markdown",
   "id": "446a9cc7",
   "metadata": {},
   "source": [
    "# What is PyTorch?\n",
    "PyTorch is a Python-based scientific computing package serving two broad purposes:\n",
    "- A replacement for NumPy to use the power of GPUs\n",
    "- A deep learning research platform that provides maximum flexibility and speed\n",
    "\n",
    "### Who uses PyTorch?\n",
    "- Facebook\n",
    "- Twitter\n",
    "- Salesforce\n",
    "- Tesla\n",
    "- Uber\n"
   ]
  },
  {
   "cell_type": "code",
   "execution_count": 2,
   "id": "c2e34f9a",
   "metadata": {
    "execution": {
     "iopub.execute_input": "2024-10-02T04:36:13.568603Z",
     "iopub.status.busy": "2024-10-02T04:36:13.567616Z",
     "iopub.status.idle": "2024-10-02T04:36:16.913509Z",
     "shell.execute_reply": "2024-10-02T04:36:16.912571Z"
    },
    "papermill": {
     "duration": 3.363065,
     "end_time": "2024-10-02T04:36:16.916183",
     "exception": false,
     "start_time": "2024-10-02T04:36:13.553118",
     "status": "completed"
    },
    "tags": []
   },
   "outputs": [],
   "source": [
    "import torch\n",
    "import numpy as np\n",
    "import pandas as pd"
   ]
  },
  {
   "cell_type": "code",
   "execution_count": 3,
   "id": "788e00b2",
   "metadata": {
    "execution": {
     "iopub.execute_input": "2024-10-02T04:36:16.94329Z",
     "iopub.status.busy": "2024-10-02T04:36:16.94278Z",
     "iopub.status.idle": "2024-10-02T04:36:17.049446Z",
     "shell.execute_reply": "2024-10-02T04:36:17.048455Z"
    },
    "papermill": {
     "duration": 0.12286,
     "end_time": "2024-10-02T04:36:17.051414",
     "exception": false,
     "start_time": "2024-10-02T04:36:16.928554",
     "status": "completed"
    },
    "tags": []
   },
   "outputs": [
    {
     "data": {
      "text/plain": [
       "'cuda'"
      ]
     },
     "execution_count": 3,
     "metadata": {},
     "output_type": "execute_result"
    }
   ],
   "source": [
    "#set device to cuda if available which is one of the functionalities of pytorch\n",
    "device=('cuda' if torch.cuda.is_available() else 'cpu')\n",
    "device"
   ]
  },
  {
   "cell_type": "markdown",
   "id": "3843ad11",
   "metadata": {
    "papermill": {
     "duration": 0.012142,
     "end_time": "2024-10-02T04:36:17.075882",
     "exception": false,
     "start_time": "2024-10-02T04:36:17.06374",
     "status": "completed"
    },
    "tags": []
   },
   "source": [
    "# 1. Introduction to Tensor\n",
    "A tensor is a generalization of vectors and matrices and is easily understood as a multidimensional array. <br> Tensors are the basic building blocks of PyTorch.\n",
    "For more information, visit the official [PyTorch documentation](https://pytorch.org/docs/stable/tensors.html)."
   ]
  },
  {
   "cell_type": "markdown",
   "id": "d38eed96",
   "metadata": {},
   "source": [
    "## 1.1 Creating Tensor\n",
    "we can create a tensor in PyTorch using the `torch.tensor()` method. <br>\n",
    "First we will create a scalar which is a 0-dimensional tensor."
   ]
  },
  {
   "cell_type": "code",
   "execution_count": 5,
   "id": "5adc86ee",
   "metadata": {
    "execution": {
     "iopub.execute_input": "2024-10-02T04:36:17.102666Z",
     "iopub.status.busy": "2024-10-02T04:36:17.101744Z",
     "iopub.status.idle": "2024-10-02T04:36:17.143636Z",
     "shell.execute_reply": "2024-10-02T04:36:17.142456Z"
    },
    "papermill": {
     "duration": 0.057913,
     "end_time": "2024-10-02T04:36:17.146106",
     "exception": false,
     "start_time": "2024-10-02T04:36:17.088193",
     "status": "completed"
    },
    "tags": []
   },
   "outputs": [
    {
     "name": "stdout",
     "output_type": "stream",
     "text": [
      "tensor(42)\n",
      "torch.Size([])\n",
      "0\n",
      "torch.int64\n"
     ]
    }
   ],
   "source": [
    "#scalar\n",
    "scalar=torch.tensor(42)\n",
    "print(scalar)\n",
    "print(scalar.shape)\n",
    "print(scalar.ndim)\n",
    "print(scalar.dtype)"
   ]
  },
  {
   "cell_type": "markdown",
   "id": "95772c96",
   "metadata": {},
   "source": [
    "<p >That means although scalar is a single number, it's of type torch.Tensor. <br>\n",
    "We checked the dimensions of a tensor using the ndim attribute.<br>\n",
    "What if we wanted to retrieve the number from the tensor? i.e instead of tensor(42), we just want 42. <br>\n",
    "To do we can use the item() method. </p>"
   ]
  },
  {
   "cell_type": "code",
   "execution_count": 6,
   "id": "752a675b",
   "metadata": {},
   "outputs": [
    {
     "data": {
      "text/plain": [
       "42"
      ]
     },
     "execution_count": 6,
     "metadata": {},
     "output_type": "execute_result"
    }
   ],
   "source": [
    "scalar.item()"
   ]
  },
  {
   "cell_type": "code",
   "execution_count": null,
   "id": "ca0ae5bc",
   "metadata": {
    "execution": {
     "iopub.execute_input": "2024-10-02T04:36:17.172991Z",
     "iopub.status.busy": "2024-10-02T04:36:17.172264Z",
     "iopub.status.idle": "2024-10-02T04:36:17.180309Z",
     "shell.execute_reply": "2024-10-02T04:36:17.179181Z"
    },
    "papermill": {
     "duration": 0.023817,
     "end_time": "2024-10-02T04:36:17.182444",
     "exception": false,
     "start_time": "2024-10-02T04:36:17.158627",
     "status": "completed"
    },
    "tags": []
   },
   "outputs": [
    {
     "name": "stdout",
     "output_type": "stream",
     "text": [
      "tensor([1, 2])\n",
      "torch.Size([2])\n",
      "1\n"
     ]
    }
   ],
   "source": [
    "#vector\n",
    "#vector is 1D tensor , it is set of scalar values\n",
    "vector=torch.tensor([1,2])\n",
    "print(vector)\n",
    "print(vector.shape)\n",
    "print(vector.ndim)"
   ]
  },
  {
   "cell_type": "markdown",
   "id": "f254f244",
   "metadata": {},
   "source": [
    "Above vector contains two numbers but only has a single dimension. How? <br> \n",
    "Trick: You can tell the number of dimensions a tensor in PyTorch has by the number of square brackets on the outside ```([)``` and you only need to count one side.\n"
   ]
  },
  {
   "cell_type": "code",
   "execution_count": 10,
   "id": "58e7bb50",
   "metadata": {
    "execution": {
     "iopub.execute_input": "2024-10-02T04:36:17.209349Z",
     "iopub.status.busy": "2024-10-02T04:36:17.208624Z",
     "iopub.status.idle": "2024-10-02T04:36:17.216734Z",
     "shell.execute_reply": "2024-10-02T04:36:17.215362Z"
    },
    "papermill": {
     "duration": 0.023824,
     "end_time": "2024-10-02T04:36:17.218782",
     "exception": false,
     "start_time": "2024-10-02T04:36:17.194958",
     "status": "completed"
    },
    "tags": []
   },
   "outputs": [
    {
     "name": "stdout",
     "output_type": "stream",
     "text": [
      "tensor([[1, 2],\n",
      "        [3, 4]])\n",
      "torch.Size([2, 2])\n",
      "2\n"
     ]
    }
   ],
   "source": [
    "#MATRIX\n",
    "#matrix is 2D tensor , it is set of vectors \n",
    "\n",
    "MATRIX=torch.tensor([[1,2],\n",
    "                     [3,4]\n",
    "                    ])\n",
    "print(MATRIX)\n",
    "print(MATRIX.shape)\n",
    "print(MATRIX.ndim)"
   ]
  },
  {
   "cell_type": "code",
   "execution_count": 19,
   "id": "0c20f2a9",
   "metadata": {
    "execution": {
     "iopub.execute_input": "2024-10-02T04:36:17.245546Z",
     "iopub.status.busy": "2024-10-02T04:36:17.244806Z",
     "iopub.status.idle": "2024-10-02T04:36:17.253281Z",
     "shell.execute_reply": "2024-10-02T04:36:17.251841Z"
    },
    "papermill": {
     "duration": 0.0242,
     "end_time": "2024-10-02T04:36:17.255248",
     "exception": false,
     "start_time": "2024-10-02T04:36:17.231048",
     "status": "completed"
    },
    "tags": []
   },
   "outputs": [
    {
     "name": "stdout",
     "output_type": "stream",
     "text": [
      "tensor([[[1, 2, 3],\n",
      "         [3, 6, 9],\n",
      "         [2, 4, 5]]])\n",
      "tensor([[[1, 2],\n",
      "         [5, 6],\n",
      "         [9, 1]]])\n",
      "torch.Size([1, 3, 3]) torch.Size([1, 3, 2])\n",
      "3 3\n"
     ]
    }
   ],
   "source": [
    "#TENSOR\n",
    "#tensor is 3D tensor , it is set of matrix\n",
    "TENSOR = torch.tensor([[[1, 2, 3],\n",
    "                        [3, 6, 9],\n",
    "                        [2, 4, 5]],\n",
    "                       ])\n",
    "\n",
    "\n",
    "tensor=torch.tensor([[[1,2],\n",
    "                      [5,6],\n",
    "                      [9,1]]])\n",
    "print(TENSOR)\n",
    "print(tensor)\n",
    "print(TENSOR.shape, tensor.shape)\n",
    "print(TENSOR.ndim, tensor.ndim)"
   ]
  },
  {
   "cell_type": "code",
   "execution_count": 32,
   "id": "dbc940e0",
   "metadata": {
    "execution": {
     "iopub.execute_input": "2024-10-02T04:36:17.281824Z",
     "iopub.status.busy": "2024-10-02T04:36:17.281424Z",
     "iopub.status.idle": "2024-10-02T04:36:17.288103Z",
     "shell.execute_reply": "2024-10-02T04:36:17.287009Z"
    },
    "papermill": {
     "duration": 0.02248,
     "end_time": "2024-10-02T04:36:17.290235",
     "exception": false,
     "start_time": "2024-10-02T04:36:17.267755",
     "status": "completed"
    },
    "tags": []
   },
   "outputs": [
    {
     "name": "stdout",
     "output_type": "stream",
     "text": [
      "tensor([1, 2, 3])\n",
      "1\n",
      "tensor([1, 2])\n",
      " \n",
      "tensor([3, 6, 9])\n",
      "3\n"
     ]
    }
   ],
   "source": [
    "#acessing the elements of the tensor\n",
    "print(f'{TENSOR[0][0]}') # accessing the first matrix of the tensor\n",
    "print(f'{TENSOR[0][0][0]}') # accessing the first element of the first matrix of the tensor\n",
    "print(f'{TENSOR[0][0][0:2]}') # accessing the first two elements of the first matrix of the tensor\n",
    "print(\" \")\n",
    "print(f'{TENSOR[0][1]}') # accessing the second matrix of the tensor\n",
    "print(f'{TENSOR[0][1][0]}') # accessing the first element of the second matrix of the tensor\n"
   ]
  },
  {
   "cell_type": "markdown",
   "id": "d453c754",
   "metadata": {},
   "source": [
    "![example of different tensor dimensions](https://raw.githubusercontent.com/mrdbourke/pytorch-deep-learning/main/images/00-pytorch-different-tensor-dimensions.png)"
   ]
  },
  {
   "cell_type": "markdown",
   "id": "982c348d",
   "metadata": {
    "papermill": {
     "duration": 0.012222,
     "end_time": "2024-10-02T04:36:17.315314",
     "exception": false,
     "start_time": "2024-10-02T04:36:17.303092",
     "status": "completed"
    },
    "tags": []
   },
   "source": [
    "## 1.2 Random Tensor\n",
    "While building machine learning models we rarely create tensor by hand.<br>\n",
    "Instead, we initialize tensors with random values and then update them during training.<br>\n",
    "* What we do is:<br>\n",
    "    ```Start with random values --> learn from data --> update values --> repeat.```\n",
    "\n",
    "We can create random tensors using the `torch.rand()` method. <br>"
   ]
  },
  {
   "cell_type": "code",
   "execution_count": 8,
   "id": "192ed360",
   "metadata": {
    "execution": {
     "iopub.execute_input": "2024-10-02T04:36:17.34254Z",
     "iopub.status.busy": "2024-10-02T04:36:17.341635Z",
     "iopub.status.idle": "2024-10-02T04:36:17.352368Z",
     "shell.execute_reply": "2024-10-02T04:36:17.351432Z"
    },
    "papermill": {
     "duration": 0.026443,
     "end_time": "2024-10-02T04:36:17.354509",
     "exception": false,
     "start_time": "2024-10-02T04:36:17.328066",
     "status": "completed"
    },
    "tags": []
   },
   "outputs": [],
   "source": [
    "#creating random tensor\n",
    "random_tensor=torch.rand(10,3)"
   ]
  },
  {
   "cell_type": "code",
   "execution_count": 9,
   "id": "b17fe3f6",
   "metadata": {
    "execution": {
     "iopub.execute_input": "2024-10-02T04:36:17.38137Z",
     "iopub.status.busy": "2024-10-02T04:36:17.381004Z",
     "iopub.status.idle": "2024-10-02T04:36:17.386989Z",
     "shell.execute_reply": "2024-10-02T04:36:17.386156Z"
    },
    "papermill": {
     "duration": 0.021836,
     "end_time": "2024-10-02T04:36:17.388998",
     "exception": false,
     "start_time": "2024-10-02T04:36:17.367162",
     "status": "completed"
    },
    "tags": []
   },
   "outputs": [],
   "source": [
    "random_image_size_tensor=torch.rand(size=(3,224,224)) # or torch.rand(3,224,224)"
   ]
  },
  {
   "cell_type": "code",
   "execution_count": 10,
   "id": "3bbbe1ac",
   "metadata": {
    "execution": {
     "iopub.execute_input": "2024-10-02T04:36:17.416182Z",
     "iopub.status.busy": "2024-10-02T04:36:17.41526Z",
     "iopub.status.idle": "2024-10-02T04:36:17.421566Z",
     "shell.execute_reply": "2024-10-02T04:36:17.420613Z"
    },
    "papermill": {
     "duration": 0.022107,
     "end_time": "2024-10-02T04:36:17.423639",
     "exception": false,
     "start_time": "2024-10-02T04:36:17.401532",
     "status": "completed"
    },
    "tags": []
   },
   "outputs": [
    {
     "data": {
      "text/plain": [
       "torch.Size([3, 224, 224])"
      ]
     },
     "execution_count": 10,
     "metadata": {},
     "output_type": "execute_result"
    }
   ],
   "source": [
    "random_image_size_tensor.shape"
   ]
  },
  {
   "cell_type": "markdown",
   "id": "4d90f386",
   "metadata": {
    "papermill": {
     "duration": 0.012321,
     "end_time": "2024-10-02T04:36:17.448518",
     "exception": false,
     "start_time": "2024-10-02T04:36:17.436197",
     "status": "completed"
    },
    "tags": []
   },
   "source": [
    "## 1.3 Creating random tensor of zeroes and ones\n",
    "\n",
    "Sometimes we want to create a tensor of zeroes or ones. This generally happens when we want to initialize the weights of a neural network. <br>"
   ]
  },
  {
   "cell_type": "code",
   "execution_count": 11,
   "id": "753aa459",
   "metadata": {
    "execution": {
     "iopub.execute_input": "2024-10-02T04:36:17.475448Z",
     "iopub.status.busy": "2024-10-02T04:36:17.475056Z",
     "iopub.status.idle": "2024-10-02T04:36:17.516486Z",
     "shell.execute_reply": "2024-10-02T04:36:17.515553Z"
    },
    "papermill": {
     "duration": 0.057745,
     "end_time": "2024-10-02T04:36:17.518934",
     "exception": false,
     "start_time": "2024-10-02T04:36:17.461189",
     "status": "completed"
    },
    "tags": []
   },
   "outputs": [
    {
     "data": {
      "text/plain": [
       "tensor([[0., 0.],\n",
       "        [0., 0.]])"
      ]
     },
     "execution_count": 11,
     "metadata": {},
     "output_type": "execute_result"
    }
   ],
   "source": [
    "\n",
    "zeroes=torch.zeros(size=(2,2))\n",
    "zeroes"
   ]
  },
  {
   "cell_type": "code",
   "execution_count": 12,
   "id": "b2203d3c",
   "metadata": {
    "execution": {
     "iopub.execute_input": "2024-10-02T04:36:17.54692Z",
     "iopub.status.busy": "2024-10-02T04:36:17.546522Z",
     "iopub.status.idle": "2024-10-02T04:36:17.567751Z",
     "shell.execute_reply": "2024-10-02T04:36:17.566761Z"
    },
    "papermill": {
     "duration": 0.037445,
     "end_time": "2024-10-02T04:36:17.569885",
     "exception": false,
     "start_time": "2024-10-02T04:36:17.53244",
     "status": "completed"
    },
    "tags": []
   },
   "outputs": [
    {
     "data": {
      "text/plain": [
       "tensor([[1., 1.],\n",
       "        [1., 1.]])"
      ]
     },
     "execution_count": 12,
     "metadata": {},
     "output_type": "execute_result"
    }
   ],
   "source": [
    "ones=torch.ones(size=(2,2))\n",
    "ones"
   ]
  },
  {
   "cell_type": "markdown",
   "id": "26e68d01",
   "metadata": {
    "papermill": {
     "duration": 0.012518,
     "end_time": "2024-10-02T04:36:17.595505",
     "exception": false,
     "start_time": "2024-10-02T04:36:17.582987",
     "status": "completed"
    },
    "tags": []
   },
   "source": [
    "## 1.4 Creating a range of tensors and tensor  like\n",
    "Sometimes you might want a range of numbers, such as 1 to 10 or 0 to 100.\n",
    "\n",
    "You can use ```torch.arange(start, end, step)``` to do so.\n",
    "\n",
    "Where:\n",
    "\n",
    "* ```start``` = start of range (e.g. 0)\n",
    "* ```end``` = end of range (e.g. 10)\n",
    "* ```step``` = how many steps in between each value (e.g. 1)"
   ]
  },
  {
   "cell_type": "code",
   "execution_count": 34,
   "id": "a657cd62",
   "metadata": {
    "execution": {
     "iopub.execute_input": "2024-10-02T04:36:17.623441Z",
     "iopub.status.busy": "2024-10-02T04:36:17.622441Z",
     "iopub.status.idle": "2024-10-02T04:36:17.632593Z",
     "shell.execute_reply": "2024-10-02T04:36:17.63159Z"
    },
    "papermill": {
     "duration": 0.026307,
     "end_time": "2024-10-02T04:36:17.634683",
     "exception": false,
     "start_time": "2024-10-02T04:36:17.608376",
     "status": "completed"
    },
    "tags": []
   },
   "outputs": [],
   "source": [
    "#Tensor range\n",
    "one_to_ten=torch.arange(0,10,2) # start, end , step "
   ]
  },
  {
   "cell_type": "markdown",
   "id": "1c5ff759",
   "metadata": {},
   "source": [
    "Sometimes you might want one tensor of a certain type with the same shape as another tensor.\n",
    "\n",
    "For example, a tensor of all zeros with the same shape as a previous tensor.\n",
    "\n",
    "To do so you can use ```torch.zeros_like(input)``` or ```torch.ones_like(input)``` which return a tensor filled with zeros or ones in the same shape as the input respectively."
   ]
  },
  {
   "cell_type": "code",
   "execution_count": 35,
   "id": "8cbd518b",
   "metadata": {
    "execution": {
     "iopub.execute_input": "2024-10-02T04:36:17.662601Z",
     "iopub.status.busy": "2024-10-02T04:36:17.661643Z",
     "iopub.status.idle": "2024-10-02T04:36:17.671861Z",
     "shell.execute_reply": "2024-10-02T04:36:17.670704Z"
    },
    "papermill": {
     "duration": 0.026364,
     "end_time": "2024-10-02T04:36:17.673989",
     "exception": false,
     "start_time": "2024-10-02T04:36:17.647625",
     "status": "completed"
    },
    "tags": []
   },
   "outputs": [
    {
     "name": "stdout",
     "output_type": "stream",
     "text": [
      "tensor([1, 1, 1, 1, 1])\n",
      "tensor([0, 0, 0, 0, 0])\n",
      "tensor([1, 1, 1, 1])\n",
      "tensor([1, 1, 1, 1, 1, 1, 1, 1, 1])\n"
     ]
    }
   ],
   "source": [
    "#tensor like\n",
    "print(torch.ones_like(one_to_ten))\n",
    "print(torch.zeros_like(one_to_ten))\n",
    "print(torch.ones_like(torch.tensor([1,1,1,1])))\n",
    "print(torch.ones_like(torch.arange(1,10)))"
   ]
  },
  {
   "cell_type": "markdown",
   "id": "5e33e66b",
   "metadata": {
    "papermill": {
     "duration": 0.012636,
     "end_time": "2024-10-02T04:36:17.699671",
     "exception": false,
     "start_time": "2024-10-02T04:36:17.687035",
     "status": "completed"
    },
    "tags": []
   },
   "source": [
    "## 1.5 Tensor datatypes\n",
    "There are different datatypes in PyTorch. Some of the most commonly used ones are:\n",
    "- torch.float: 32-bit floating-point\n",
    "- torch.double: 64-bit double-precision floating-point\n",
    "- torch.int: 32-bit integer (signed)\n",
    "- torch.long: 64-bit integer (signed)\n",
    "\n",
    "for more information, visit the official [PyTorch Tensor datatypes documentation](https://pytorch.org/docs/stable/tensors.html).\n",
    "\n",
    "Datatypes are important in PyTorch because they determine what kind of data a tensor can hold. This is also one of the most common errors you might encounter when working with PyTorch tensors. so, it's important to keep track of the datatypes of tensors.\n",
    "\n"
   ]
  },
  {
   "cell_type": "code",
   "execution_count": 36,
   "id": "a42bcb25",
   "metadata": {
    "execution": {
     "iopub.execute_input": "2024-10-02T04:36:17.727658Z",
     "iopub.status.busy": "2024-10-02T04:36:17.726691Z",
     "iopub.status.idle": "2024-10-02T04:36:17.732624Z",
     "shell.execute_reply": "2024-10-02T04:36:17.731627Z"
    },
    "papermill": {
     "duration": 0.022243,
     "end_time": "2024-10-02T04:36:17.734786",
     "exception": false,
     "start_time": "2024-10-02T04:36:17.712543",
     "status": "completed"
    },
    "tags": []
   },
   "outputs": [
    {
     "name": "stdout",
     "output_type": "stream",
     "text": [
      "torch.float32\n"
     ]
    }
   ],
   "source": [
    "float32_tensor=torch.tensor([3,1,2],\n",
    "                            dtype=torch.float32,\n",
    "                            device=None,\n",
    "                            requires_grad=False) # This will be covered in later sections\n",
    "print(float32_tensor.dtype)"
   ]
  },
  {
   "cell_type": "code",
   "execution_count": 37,
   "id": "e04b1885",
   "metadata": {
    "execution": {
     "iopub.execute_input": "2024-10-02T04:36:17.762729Z",
     "iopub.status.busy": "2024-10-02T04:36:17.761916Z",
     "iopub.status.idle": "2024-10-02T04:36:17.771112Z",
     "shell.execute_reply": "2024-10-02T04:36:17.770078Z"
    },
    "papermill": {
     "duration": 0.025357,
     "end_time": "2024-10-02T04:36:17.773149",
     "exception": false,
     "start_time": "2024-10-02T04:36:17.747792",
     "status": "completed"
    },
    "tags": []
   },
   "outputs": [
    {
     "data": {
      "text/plain": [
       "torch.float16"
      ]
     },
     "execution_count": 37,
     "metadata": {},
     "output_type": "execute_result"
    }
   ],
   "source": [
    "#changing tesor type\n",
    "float16_tensor=float32_tensor.type(torch.float16)\n",
    "float16_tensor.dtype"
   ]
  },
  {
   "cell_type": "code",
   "execution_count": 39,
   "id": "bf9d0085",
   "metadata": {
    "execution": {
     "iopub.execute_input": "2024-10-02T04:36:17.801849Z",
     "iopub.status.busy": "2024-10-02T04:36:17.801429Z",
     "iopub.status.idle": "2024-10-02T04:36:17.808256Z",
     "shell.execute_reply": "2024-10-02T04:36:17.807297Z"
    },
    "papermill": {
     "duration": 0.023469,
     "end_time": "2024-10-02T04:36:17.810155",
     "exception": false,
     "start_time": "2024-10-02T04:36:17.786686",
     "status": "completed"
    },
    "tags": []
   },
   "outputs": [
    {
     "data": {
      "text/plain": [
       "torch.float32"
      ]
     },
     "execution_count": 39,
     "metadata": {},
     "output_type": "execute_result"
    }
   ],
   "source": [
    "(float16_tensor*float32_tensor).dtype"
   ]
  },
  {
   "cell_type": "markdown",
   "id": "b88fca35",
   "metadata": {
    "papermill": {
     "duration": 0.012843,
     "end_time": "2024-10-02T04:36:17.836179",
     "exception": false,
     "start_time": "2024-10-02T04:36:17.823336",
     "status": "completed"
    },
    "tags": []
   },
   "source": [
    "# 2. Getting information from tensors\n",
    "\n",
    "1. Tensors not right datatype - `tensor.dtype`\n",
    "2. Tensor  not right shape    - `tensor.shape`\n",
    "3. Tensor  not right device   - `tensor.device`"
   ]
  },
  {
   "cell_type": "markdown",
   "id": "ccdb05d2",
   "metadata": {
    "papermill": {
     "duration": 0.012755,
     "end_time": "2024-10-02T04:36:17.862005",
     "exception": false,
     "start_time": "2024-10-02T04:36:17.84925",
     "status": "completed"
    },
    "tags": []
   },
   "source": [
    "## Manipulating Tensors\n",
    "\n",
    "Tensor operations include:\n",
    "* Addition\n",
    "* Substraction\n",
    "* Multiplication (element-wise)\n",
    "* Division\n",
    "* Matrix Multiplication"
   ]
  },
  {
   "cell_type": "code",
   "execution_count": 18,
   "id": "88a0ac1c",
   "metadata": {
    "execution": {
     "iopub.execute_input": "2024-10-02T04:36:17.889859Z",
     "iopub.status.busy": "2024-10-02T04:36:17.889439Z",
     "iopub.status.idle": "2024-10-02T04:36:17.894787Z",
     "shell.execute_reply": "2024-10-02T04:36:17.89394Z"
    },
    "papermill": {
     "duration": 0.021786,
     "end_time": "2024-10-02T04:36:17.896855",
     "exception": false,
     "start_time": "2024-10-02T04:36:17.875069",
     "status": "completed"
    },
    "tags": []
   },
   "outputs": [],
   "source": [
    "tensor=torch.tensor([9,1,2])\n",
    "vectorr=torch.ones(size=(1,2,2))"
   ]
  },
  {
   "cell_type": "code",
   "execution_count": 19,
   "id": "f9ea2c86",
   "metadata": {
    "execution": {
     "iopub.execute_input": "2024-10-02T04:36:17.924762Z",
     "iopub.status.busy": "2024-10-02T04:36:17.924377Z",
     "iopub.status.idle": "2024-10-02T04:36:17.932315Z",
     "shell.execute_reply": "2024-10-02T04:36:17.931412Z"
    },
    "papermill": {
     "duration": 0.024214,
     "end_time": "2024-10-02T04:36:17.934363",
     "exception": false,
     "start_time": "2024-10-02T04:36:17.910149",
     "status": "completed"
    },
    "tags": []
   },
   "outputs": [
    {
     "name": "stdout",
     "output_type": "stream",
     "text": [
      "tensor([[[11., 11.],\n",
      "         [11., 11.]]])\n",
      "tensor([29, 21, 22])\n"
     ]
    }
   ],
   "source": [
    "#addition\n",
    "print(vectorr+10) #adds 10 to each element\n",
    "print(tensor+20)"
   ]
  },
  {
   "cell_type": "code",
   "execution_count": 20,
   "id": "79379681",
   "metadata": {
    "execution": {
     "iopub.execute_input": "2024-10-02T04:36:17.962743Z",
     "iopub.status.busy": "2024-10-02T04:36:17.962077Z",
     "iopub.status.idle": "2024-10-02T04:36:17.970495Z",
     "shell.execute_reply": "2024-10-02T04:36:17.969431Z"
    },
    "papermill": {
     "duration": 0.024573,
     "end_time": "2024-10-02T04:36:17.972497",
     "exception": false,
     "start_time": "2024-10-02T04:36:17.947924",
     "status": "completed"
    },
    "tags": []
   },
   "outputs": [
    {
     "name": "stdout",
     "output_type": "stream",
     "text": [
      "tensor([[[-9., -9.],\n",
      "         [-9., -9.]]])\n",
      "tensor([-11, -19, -18])\n"
     ]
    }
   ],
   "source": [
    "#subtraction \n",
    "print(vectorr-10)\n",
    "print(tensor-20)"
   ]
  },
  {
   "cell_type": "code",
   "execution_count": 21,
   "id": "880c2889",
   "metadata": {
    "execution": {
     "iopub.execute_input": "2024-10-02T04:36:18.002927Z",
     "iopub.status.busy": "2024-10-02T04:36:18.002244Z",
     "iopub.status.idle": "2024-10-02T04:36:18.010136Z",
     "shell.execute_reply": "2024-10-02T04:36:18.009137Z"
    },
    "papermill": {
     "duration": 0.026358,
     "end_time": "2024-10-02T04:36:18.012325",
     "exception": false,
     "start_time": "2024-10-02T04:36:17.985967",
     "status": "completed"
    },
    "tags": []
   },
   "outputs": [
    {
     "name": "stdout",
     "output_type": "stream",
     "text": [
      "tensor([18,  2,  4])\n",
      "tensor([[[2., 2.],\n",
      "         [2., 2.]]])\n"
     ]
    }
   ],
   "source": [
    "#multiplicaiton (element-wise)\n",
    "print(tensor*2)\n",
    "print(vectorr*2)"
   ]
  },
  {
   "cell_type": "code",
   "execution_count": 22,
   "id": "4f9d3a52",
   "metadata": {
    "execution": {
     "iopub.execute_input": "2024-10-02T04:36:18.040405Z",
     "iopub.status.busy": "2024-10-02T04:36:18.040029Z",
     "iopub.status.idle": "2024-10-02T04:36:18.047631Z",
     "shell.execute_reply": "2024-10-02T04:36:18.04661Z"
    },
    "papermill": {
     "duration": 0.02398,
     "end_time": "2024-10-02T04:36:18.049623",
     "exception": false,
     "start_time": "2024-10-02T04:36:18.025643",
     "status": "completed"
    },
    "tags": []
   },
   "outputs": [
    {
     "name": "stdout",
     "output_type": "stream",
     "text": [
      "tensor([11,  3,  4])\n",
      "tensor([ 7, -1,  0])\n",
      "tensor([18,  2,  4])\n",
      "tensor([4.5000, 0.5000, 1.0000])\n"
     ]
    }
   ],
   "source": [
    "#torch inbuild function for manipulations \n",
    "\n",
    "print(torch.add(tensor,2))\n",
    "print(torch.sub(tensor,2))\n",
    "print(torch.mul(tensor,2))\n",
    "print(torch.div(tensor,2))"
   ]
  },
  {
   "cell_type": "code",
   "execution_count": 23,
   "id": "83459be5",
   "metadata": {
    "execution": {
     "iopub.execute_input": "2024-10-02T04:36:18.078203Z",
     "iopub.status.busy": "2024-10-02T04:36:18.077805Z",
     "iopub.status.idle": "2024-10-02T04:36:18.089097Z",
     "shell.execute_reply": "2024-10-02T04:36:18.088005Z"
    },
    "papermill": {
     "duration": 0.028183,
     "end_time": "2024-10-02T04:36:18.091238",
     "exception": false,
     "start_time": "2024-10-02T04:36:18.063055",
     "status": "completed"
    },
    "tags": []
   },
   "outputs": [
    {
     "name": "stdout",
     "output_type": "stream",
     "text": [
      "CPU times: user 2 µs, sys: 0 ns, total: 2 µs\n",
      "Wall time: 7.15 µs\n",
      "tensor(14)\n"
     ]
    }
   ],
   "source": [
    "# Matrix mulitiplication\n",
    "%time\n",
    "a=torch.tensor([1,2,3])\n",
    "print(torch.matmul(a,a))\n"
   ]
  },
  {
   "cell_type": "code",
   "execution_count": 24,
   "id": "8d796b67",
   "metadata": {
    "execution": {
     "iopub.execute_input": "2024-10-02T04:36:18.120565Z",
     "iopub.status.busy": "2024-10-02T04:36:18.119665Z",
     "iopub.status.idle": "2024-10-02T04:36:18.126422Z",
     "shell.execute_reply": "2024-10-02T04:36:18.125493Z"
    },
    "papermill": {
     "duration": 0.023592,
     "end_time": "2024-10-02T04:36:18.128512",
     "exception": false,
     "start_time": "2024-10-02T04:36:18.10492",
     "status": "completed"
    },
    "tags": []
   },
   "outputs": [
    {
     "data": {
      "text/plain": [
       "tensor(14)"
      ]
     },
     "execution_count": 24,
     "metadata": {},
     "output_type": "execute_result"
    }
   ],
   "source": [
    "a@a #same as matrix multiplication"
   ]
  },
  {
   "cell_type": "code",
   "execution_count": 25,
   "id": "899a1221",
   "metadata": {
    "execution": {
     "iopub.execute_input": "2024-10-02T04:36:18.157973Z",
     "iopub.status.busy": "2024-10-02T04:36:18.156992Z",
     "iopub.status.idle": "2024-10-02T04:36:18.16856Z",
     "shell.execute_reply": "2024-10-02T04:36:18.167505Z"
    },
    "papermill": {
     "duration": 0.028529,
     "end_time": "2024-10-02T04:36:18.170766",
     "exception": false,
     "start_time": "2024-10-02T04:36:18.142237",
     "status": "completed"
    },
    "tags": []
   },
   "outputs": [
    {
     "name": "stdout",
     "output_type": "stream",
     "text": [
      "CPU times: user 3 µs, sys: 1e+03 ns, total: 4 µs\n",
      "Wall time: 6.44 µs\n"
     ]
    },
    {
     "data": {
      "text/plain": [
       "tensor(14)"
      ]
     },
     "execution_count": 25,
     "metadata": {},
     "output_type": "execute_result"
    }
   ],
   "source": [
    "%time\n",
    "value=0\n",
    "for i in range(len(a)):\n",
    "    value+=a[i]*a[i]\n",
    "value"
   ]
  },
  {
   "cell_type": "markdown",
   "id": "9a9eeec9",
   "metadata": {
    "papermill": {
     "duration": 0.013458,
     "end_time": "2024-10-02T04:36:18.198201",
     "exception": false,
     "start_time": "2024-10-02T04:36:18.184743",
     "status": "completed"
    },
    "tags": []
   },
   "source": [
    "## Finding the min, max,mean,sum"
   ]
  },
  {
   "cell_type": "code",
   "execution_count": 26,
   "id": "3bea69d3",
   "metadata": {
    "execution": {
     "iopub.execute_input": "2024-10-02T04:36:18.228089Z",
     "iopub.status.busy": "2024-10-02T04:36:18.226998Z",
     "iopub.status.idle": "2024-10-02T04:36:18.23185Z",
     "shell.execute_reply": "2024-10-02T04:36:18.230945Z"
    },
    "papermill": {
     "duration": 0.021856,
     "end_time": "2024-10-02T04:36:18.233849",
     "exception": false,
     "start_time": "2024-10-02T04:36:18.211993",
     "status": "completed"
    },
    "tags": []
   },
   "outputs": [],
   "source": [
    "x=torch.arange(1,10)\n"
   ]
  },
  {
   "cell_type": "code",
   "execution_count": 27,
   "id": "4a95ab09",
   "metadata": {
    "execution": {
     "iopub.execute_input": "2024-10-02T04:36:18.263407Z",
     "iopub.status.busy": "2024-10-02T04:36:18.262373Z",
     "iopub.status.idle": "2024-10-02T04:36:18.270962Z",
     "shell.execute_reply": "2024-10-02T04:36:18.270007Z"
    },
    "papermill": {
     "duration": 0.025507,
     "end_time": "2024-10-02T04:36:18.273135",
     "exception": false,
     "start_time": "2024-10-02T04:36:18.247628",
     "status": "completed"
    },
    "tags": []
   },
   "outputs": [
    {
     "data": {
      "text/plain": [
       "(tensor(1), tensor(1))"
      ]
     },
     "execution_count": 27,
     "metadata": {},
     "output_type": "execute_result"
    }
   ],
   "source": [
    "#find the min\n",
    "torch.min(x),x.min()"
   ]
  },
  {
   "cell_type": "code",
   "execution_count": 28,
   "id": "cc3f8aa4",
   "metadata": {
    "execution": {
     "iopub.execute_input": "2024-10-02T04:36:18.302959Z",
     "iopub.status.busy": "2024-10-02T04:36:18.302554Z",
     "iopub.status.idle": "2024-10-02T04:36:18.310279Z",
     "shell.execute_reply": "2024-10-02T04:36:18.309328Z"
    },
    "papermill": {
     "duration": 0.025086,
     "end_time": "2024-10-02T04:36:18.312376",
     "exception": false,
     "start_time": "2024-10-02T04:36:18.28729",
     "status": "completed"
    },
    "tags": []
   },
   "outputs": [
    {
     "data": {
      "text/plain": [
       "(tensor(9), tensor(9))"
      ]
     },
     "execution_count": 28,
     "metadata": {},
     "output_type": "execute_result"
    }
   ],
   "source": [
    "#find the max\n",
    "torch.max(x),x.max()"
   ]
  },
  {
   "cell_type": "code",
   "execution_count": 29,
   "id": "db5550f0",
   "metadata": {
    "execution": {
     "iopub.execute_input": "2024-10-02T04:36:18.343041Z",
     "iopub.status.busy": "2024-10-02T04:36:18.34225Z",
     "iopub.status.idle": "2024-10-02T04:36:18.352163Z",
     "shell.execute_reply": "2024-10-02T04:36:18.351146Z"
    },
    "papermill": {
     "duration": 0.027648,
     "end_time": "2024-10-02T04:36:18.354211",
     "exception": false,
     "start_time": "2024-10-02T04:36:18.326563",
     "status": "completed"
    },
    "tags": []
   },
   "outputs": [
    {
     "data": {
      "text/plain": [
       "tensor(5.)"
      ]
     },
     "execution_count": 29,
     "metadata": {},
     "output_type": "execute_result"
    }
   ],
   "source": [
    "#find the mean\n",
    "x=x.type(torch.float32) #try commenthing this line and check it\n",
    "torch.mean(x)"
   ]
  },
  {
   "cell_type": "code",
   "execution_count": 30,
   "id": "d450eb72",
   "metadata": {
    "execution": {
     "iopub.execute_input": "2024-10-02T04:36:18.384962Z",
     "iopub.status.busy": "2024-10-02T04:36:18.384241Z",
     "iopub.status.idle": "2024-10-02T04:36:18.391499Z",
     "shell.execute_reply": "2024-10-02T04:36:18.39062Z"
    },
    "papermill": {
     "duration": 0.024428,
     "end_time": "2024-10-02T04:36:18.393368",
     "exception": false,
     "start_time": "2024-10-02T04:36:18.36894",
     "status": "completed"
    },
    "tags": []
   },
   "outputs": [
    {
     "data": {
      "text/plain": [
       "(tensor(45.), tensor(45.))"
      ]
     },
     "execution_count": 30,
     "metadata": {},
     "output_type": "execute_result"
    }
   ],
   "source": [
    "#find the sum\n",
    "torch.sum(x),x.sum()"
   ]
  },
  {
   "cell_type": "markdown",
   "id": "b017aafb",
   "metadata": {
    "papermill": {
     "duration": 0.013736,
     "end_time": "2024-10-02T04:36:18.421331",
     "exception": false,
     "start_time": "2024-10-02T04:36:18.407595",
     "status": "completed"
    },
    "tags": []
   },
   "source": [
    "## Finding the Positional min and max"
   ]
  },
  {
   "cell_type": "code",
   "execution_count": 31,
   "id": "80e05f04",
   "metadata": {
    "execution": {
     "iopub.execute_input": "2024-10-02T04:36:18.451191Z",
     "iopub.status.busy": "2024-10-02T04:36:18.450338Z",
     "iopub.status.idle": "2024-10-02T04:36:18.457696Z",
     "shell.execute_reply": "2024-10-02T04:36:18.456626Z"
    },
    "papermill": {
     "duration": 0.024562,
     "end_time": "2024-10-02T04:36:18.459829",
     "exception": false,
     "start_time": "2024-10-02T04:36:18.435267",
     "status": "completed"
    },
    "tags": []
   },
   "outputs": [
    {
     "data": {
      "text/plain": [
       "tensor([0.4365, 0.0082, 0.6548, 0.1940])"
      ]
     },
     "execution_count": 31,
     "metadata": {},
     "output_type": "execute_result"
    }
   ],
   "source": [
    "xx=torch.rand([4])\n",
    "xx"
   ]
  },
  {
   "cell_type": "code",
   "execution_count": 32,
   "id": "a25e84b2",
   "metadata": {
    "execution": {
     "iopub.execute_input": "2024-10-02T04:36:18.490212Z",
     "iopub.status.busy": "2024-10-02T04:36:18.489828Z",
     "iopub.status.idle": "2024-10-02T04:36:18.498676Z",
     "shell.execute_reply": "2024-10-02T04:36:18.49787Z"
    },
    "papermill": {
     "duration": 0.026497,
     "end_time": "2024-10-02T04:36:18.500778",
     "exception": false,
     "start_time": "2024-10-02T04:36:18.474281",
     "status": "completed"
    },
    "tags": []
   },
   "outputs": [
    {
     "name": "stdout",
     "output_type": "stream",
     "text": [
      "tensor(1)\n",
      "tensor(2)\n"
     ]
    }
   ],
   "source": [
    "print(xx.argmin()) # throws the index where minimum value lies\n",
    "print(xx.argmax()) # throws the index where maximum value lies"
   ]
  },
  {
   "cell_type": "markdown",
   "id": "bc481206",
   "metadata": {
    "papermill": {
     "duration": 0.014048,
     "end_time": "2024-10-02T04:36:18.52917",
     "exception": false,
     "start_time": "2024-10-02T04:36:18.515122",
     "status": "completed"
    },
    "tags": []
   },
   "source": [
    "## Reshaping, Stacking, Squeezing , Unsqueezeing, Permute, View"
   ]
  },
  {
   "cell_type": "code",
   "execution_count": 33,
   "id": "a29789d3",
   "metadata": {
    "execution": {
     "iopub.execute_input": "2024-10-02T04:36:18.559995Z",
     "iopub.status.busy": "2024-10-02T04:36:18.559593Z",
     "iopub.status.idle": "2024-10-02T04:36:18.567306Z",
     "shell.execute_reply": "2024-10-02T04:36:18.56634Z"
    },
    "papermill": {
     "duration": 0.02536,
     "end_time": "2024-10-02T04:36:18.569269",
     "exception": false,
     "start_time": "2024-10-02T04:36:18.543909",
     "status": "completed"
    },
    "tags": []
   },
   "outputs": [
    {
     "data": {
      "text/plain": [
       "(tensor([0., 1., 2., 3., 4., 5., 6., 7., 8.]), torch.Size([9]))"
      ]
     },
     "execution_count": 33,
     "metadata": {},
     "output_type": "execute_result"
    }
   ],
   "source": [
    "y=torch.arange(0.0,9.0)\n",
    "y,y.shape"
   ]
  },
  {
   "cell_type": "code",
   "execution_count": 34,
   "id": "8ce8cbc6",
   "metadata": {
    "execution": {
     "iopub.execute_input": "2024-10-02T04:36:18.600515Z",
     "iopub.status.busy": "2024-10-02T04:36:18.599807Z",
     "iopub.status.idle": "2024-10-02T04:36:18.604927Z",
     "shell.execute_reply": "2024-10-02T04:36:18.603951Z"
    },
    "papermill": {
     "duration": 0.023017,
     "end_time": "2024-10-02T04:36:18.606966",
     "exception": false,
     "start_time": "2024-10-02T04:36:18.583949",
     "status": "completed"
    },
    "tags": []
   },
   "outputs": [],
   "source": [
    "#reshape\n",
    "y_reshaped=y.reshape(1,9)  # one row , 9 columns\n",
    "y_reshaped_again=y.reshape(9,1) # 9 rows , one column\n"
   ]
  },
  {
   "cell_type": "code",
   "execution_count": 35,
   "id": "8a93d4fa",
   "metadata": {
    "execution": {
     "iopub.execute_input": "2024-10-02T04:36:18.638264Z",
     "iopub.status.busy": "2024-10-02T04:36:18.637177Z",
     "iopub.status.idle": "2024-10-02T04:36:18.644555Z",
     "shell.execute_reply": "2024-10-02T04:36:18.643739Z"
    },
    "papermill": {
     "duration": 0.024976,
     "end_time": "2024-10-02T04:36:18.646655",
     "exception": false,
     "start_time": "2024-10-02T04:36:18.621679",
     "status": "completed"
    },
    "tags": []
   },
   "outputs": [],
   "source": [
    "#view\n",
    "y_view=y.view(3,3)  #same as reshape but here the memory is shared i.e if we change y_view, y will also change\n",
    "\n",
    "y_view[-1]= -9    # this will also change last element of y"
   ]
  },
  {
   "cell_type": "code",
   "execution_count": 36,
   "id": "8788bf80",
   "metadata": {
    "execution": {
     "iopub.execute_input": "2024-10-02T04:36:18.677827Z",
     "iopub.status.busy": "2024-10-02T04:36:18.677094Z",
     "iopub.status.idle": "2024-10-02T04:36:18.68838Z",
     "shell.execute_reply": "2024-10-02T04:36:18.687444Z"
    },
    "papermill": {
     "duration": 0.029084,
     "end_time": "2024-10-02T04:36:18.690294",
     "exception": false,
     "start_time": "2024-10-02T04:36:18.66121",
     "status": "completed"
    },
    "tags": []
   },
   "outputs": [
    {
     "name": "stdout",
     "output_type": "stream",
     "text": [
      "2\n"
     ]
    },
    {
     "data": {
      "text/plain": [
       "tensor([[[ 0.,  1.,  2.],\n",
       "         [-0., -1., -2.]],\n",
       "\n",
       "        [[ 3.,  4.,  5.],\n",
       "         [-3., -4., -5.]],\n",
       "\n",
       "        [[-9., -9., -9.],\n",
       "         [ 9.,  9.,  9.]]])"
      ]
     },
     "execution_count": 36,
     "metadata": {},
     "output_type": "execute_result"
    }
   ],
   "source": [
    "#stack\n",
    "#for dim=0 whole matrix will stack on top\n",
    "#or dim=1 new dimension created between row and column,\n",
    "#for dim=2 every element will make a pair\n",
    "y_stacked= torch.stack([y_view,-y_view],dim=1)\n",
    "print(y_view.ndim)\n",
    "y_stacked"
   ]
  },
  {
   "cell_type": "code",
   "execution_count": 37,
   "id": "d529f446",
   "metadata": {
    "execution": {
     "iopub.execute_input": "2024-10-02T04:36:18.721379Z",
     "iopub.status.busy": "2024-10-02T04:36:18.720626Z",
     "iopub.status.idle": "2024-10-02T04:36:18.728496Z",
     "shell.execute_reply": "2024-10-02T04:36:18.727183Z"
    },
    "papermill": {
     "duration": 0.025653,
     "end_time": "2024-10-02T04:36:18.730501",
     "exception": false,
     "start_time": "2024-10-02T04:36:18.704848",
     "status": "completed"
    },
    "tags": []
   },
   "outputs": [
    {
     "name": "stdout",
     "output_type": "stream",
     "text": [
      "orginal tensor: tensor([[ 0.,  1.,  2.,  3.,  4.,  5., -9., -9., -9.]])\n",
      "orginal tensor shape:torch.Size([1, 9])\n",
      "\n",
      "squeezed tensor: tensor([ 0.,  1.,  2.,  3.,  4.,  5., -9., -9., -9.])\n",
      "squeezed tensor shape:torch.Size([9])\n"
     ]
    }
   ],
   "source": [
    "#squeeze --> removes single dimension\n",
    "\n",
    "print(f'orginal tensor: {y_reshaped}')\n",
    "print(f'orginal tensor shape:{y_reshaped.shape}')\n",
    "\n",
    "print(f'\\nsqueezed tensor: {y_reshaped.squeeze()}')\n",
    "print(f'squeezed tensor shape:{y_reshaped.squeeze().shape}')\n"
   ]
  },
  {
   "cell_type": "code",
   "execution_count": 38,
   "id": "23f9b947",
   "metadata": {
    "execution": {
     "iopub.execute_input": "2024-10-02T04:36:18.7615Z",
     "iopub.status.busy": "2024-10-02T04:36:18.760615Z",
     "iopub.status.idle": "2024-10-02T04:36:18.768718Z",
     "shell.execute_reply": "2024-10-02T04:36:18.767661Z"
    },
    "papermill": {
     "duration": 0.02567,
     "end_time": "2024-10-02T04:36:18.770698",
     "exception": false,
     "start_time": "2024-10-02T04:36:18.745028",
     "status": "completed"
    },
    "tags": []
   },
   "outputs": [
    {
     "name": "stdout",
     "output_type": "stream",
     "text": [
      "orignal tensor:tensor([ 0.,  1.,  2.,  3.,  4.,  5., -9., -9., -9.])\n",
      "orginal tensor shape:torch.Size([9])\n",
      "\n",
      "unsqueezed tensor:tensor([[ 0.,  1.,  2.,  3.,  4.,  5., -9., -9., -9.]])\n",
      "unsqueezed tensor shape:torch.Size([1, 9])\n",
      "\n",
      "unsqueezed tensor:tensor([[ 0.],\n",
      "        [ 1.],\n",
      "        [ 2.],\n",
      "        [ 3.],\n",
      "        [ 4.],\n",
      "        [ 5.],\n",
      "        [-9.],\n",
      "        [-9.],\n",
      "        [-9.]])\n",
      "unsqueezed tensor shape:torch.Size([9, 1])\n"
     ]
    }
   ],
   "source": [
    "#unsqueeze\n",
    "print(f'orignal tensor:{y}')\n",
    "print(f'orginal tensor shape:{y.shape}')\n",
    "print(f'\\nunsqueezed tensor:{y.unsqueeze(dim=0)}')\n",
    "print(f'unsqueezed tensor shape:{y.unsqueeze(dim=0).shape}')\n",
    "print(f'\\nunsqueezed tensor:{y.unsqueeze(dim=1)}')\n",
    "print(f'unsqueezed tensor shape:{y.unsqueeze(dim=1).shape}')"
   ]
  },
  {
   "cell_type": "code",
   "execution_count": 39,
   "id": "d16dfdd6",
   "metadata": {
    "execution": {
     "iopub.execute_input": "2024-10-02T04:36:18.801908Z",
     "iopub.status.busy": "2024-10-02T04:36:18.801508Z",
     "iopub.status.idle": "2024-10-02T04:36:18.808377Z",
     "shell.execute_reply": "2024-10-02T04:36:18.807302Z"
    },
    "papermill": {
     "duration": 0.024931,
     "end_time": "2024-10-02T04:36:18.810464",
     "exception": false,
     "start_time": "2024-10-02T04:36:18.785533",
     "status": "completed"
    },
    "tags": []
   },
   "outputs": [
    {
     "name": "stdout",
     "output_type": "stream",
     "text": [
      "torch.Size([224, 224, 3])\n"
     ]
    }
   ],
   "source": [
    "#permute --> rearranges the dimension its like view\n",
    "img=torch.rand(size=(224,224,3))\n",
    "print(img.shape)\n",
    "new_img=img.permute(2,0,1) #change in new_img will change img"
   ]
  },
  {
   "cell_type": "markdown",
   "id": "ce663ad0",
   "metadata": {
    "papermill": {
     "duration": 0.014485,
     "end_time": "2024-10-02T04:36:18.839789",
     "exception": false,
     "start_time": "2024-10-02T04:36:18.825304",
     "status": "completed"
    },
    "tags": []
   },
   "source": [
    "## Indexing"
   ]
  },
  {
   "cell_type": "code",
   "execution_count": 40,
   "id": "bd7221b8",
   "metadata": {
    "execution": {
     "iopub.execute_input": "2024-10-02T04:36:18.870818Z",
     "iopub.status.busy": "2024-10-02T04:36:18.870417Z",
     "iopub.status.idle": "2024-10-02T04:36:18.878101Z",
     "shell.execute_reply": "2024-10-02T04:36:18.877099Z"
    },
    "papermill": {
     "duration": 0.025624,
     "end_time": "2024-10-02T04:36:18.880102",
     "exception": false,
     "start_time": "2024-10-02T04:36:18.854478",
     "status": "completed"
    },
    "tags": []
   },
   "outputs": [
    {
     "data": {
      "text/plain": [
       "(tensor([[[1, 2, 3],\n",
       "          [4, 5, 6],\n",
       "          [7, 8, 9]]]),\n",
       " torch.Size([1, 3, 3]))"
      ]
     },
     "execution_count": 40,
     "metadata": {},
     "output_type": "execute_result"
    }
   ],
   "source": [
    "num=torch.arange(1,10).reshape(1,3,3)\n",
    "num,num.shape"
   ]
  },
  {
   "cell_type": "code",
   "execution_count": 41,
   "id": "eb1e963b",
   "metadata": {
    "execution": {
     "iopub.execute_input": "2024-10-02T04:36:18.912091Z",
     "iopub.status.busy": "2024-10-02T04:36:18.91123Z",
     "iopub.status.idle": "2024-10-02T04:36:18.918132Z",
     "shell.execute_reply": "2024-10-02T04:36:18.917223Z"
    },
    "papermill": {
     "duration": 0.024883,
     "end_time": "2024-10-02T04:36:18.920076",
     "exception": false,
     "start_time": "2024-10-02T04:36:18.895193",
     "status": "completed"
    },
    "tags": []
   },
   "outputs": [
    {
     "data": {
      "text/plain": [
       "tensor(6)"
      ]
     },
     "execution_count": 41,
     "metadata": {},
     "output_type": "execute_result"
    }
   ],
   "source": [
    "num[0][1][2] #you know this its like normal indexing"
   ]
  },
  {
   "cell_type": "code",
   "execution_count": 42,
   "id": "db4e19e2",
   "metadata": {
    "execution": {
     "iopub.execute_input": "2024-10-02T04:36:18.951654Z",
     "iopub.status.busy": "2024-10-02T04:36:18.950827Z",
     "iopub.status.idle": "2024-10-02T04:36:18.959798Z",
     "shell.execute_reply": "2024-10-02T04:36:18.958882Z"
    },
    "papermill": {
     "duration": 0.02688,
     "end_time": "2024-10-02T04:36:18.961698",
     "exception": false,
     "start_time": "2024-10-02T04:36:18.934818",
     "status": "completed"
    },
    "tags": []
   },
   "outputs": [
    {
     "data": {
      "text/plain": [
       "tensor([[2, 5, 8]])"
      ]
     },
     "execution_count": 42,
     "metadata": {},
     "output_type": "execute_result"
    }
   ],
   "source": [
    "num[:,:,1]"
   ]
  },
  {
   "cell_type": "code",
   "execution_count": 43,
   "id": "13524b52",
   "metadata": {
    "execution": {
     "iopub.execute_input": "2024-10-02T04:36:18.993744Z",
     "iopub.status.busy": "2024-10-02T04:36:18.99308Z",
     "iopub.status.idle": "2024-10-02T04:36:19.000803Z",
     "shell.execute_reply": "2024-10-02T04:36:18.999475Z"
    },
    "papermill": {
     "duration": 0.025782,
     "end_time": "2024-10-02T04:36:19.002773",
     "exception": false,
     "start_time": "2024-10-02T04:36:18.976991",
     "status": "completed"
    },
    "tags": []
   },
   "outputs": [
    {
     "data": {
      "text/plain": [
       "tensor([1])"
      ]
     },
     "execution_count": 43,
     "metadata": {},
     "output_type": "execute_result"
    }
   ],
   "source": [
    "num[:,0,0]"
   ]
  },
  {
   "cell_type": "code",
   "execution_count": 44,
   "id": "176bfdf5",
   "metadata": {
    "execution": {
     "iopub.execute_input": "2024-10-02T04:36:19.034818Z",
     "iopub.status.busy": "2024-10-02T04:36:19.033949Z",
     "iopub.status.idle": "2024-10-02T04:36:19.040966Z",
     "shell.execute_reply": "2024-10-02T04:36:19.040055Z"
    },
    "papermill": {
     "duration": 0.024899,
     "end_time": "2024-10-02T04:36:19.042825",
     "exception": false,
     "start_time": "2024-10-02T04:36:19.017926",
     "status": "completed"
    },
    "tags": []
   },
   "outputs": [
    {
     "data": {
      "text/plain": [
       "tensor([1, 2, 3])"
      ]
     },
     "execution_count": 44,
     "metadata": {},
     "output_type": "execute_result"
    }
   ],
   "source": [
    "num[0,0,:]"
   ]
  },
  {
   "cell_type": "code",
   "execution_count": 45,
   "id": "175c2bad",
   "metadata": {
    "execution": {
     "iopub.execute_input": "2024-10-02T04:36:19.075783Z",
     "iopub.status.busy": "2024-10-02T04:36:19.074923Z",
     "iopub.status.idle": "2024-10-02T04:36:19.081905Z",
     "shell.execute_reply": "2024-10-02T04:36:19.080961Z"
    },
    "papermill": {
     "duration": 0.02546,
     "end_time": "2024-10-02T04:36:19.083952",
     "exception": false,
     "start_time": "2024-10-02T04:36:19.058492",
     "status": "completed"
    },
    "tags": []
   },
   "outputs": [
    {
     "data": {
      "text/plain": [
       "tensor([[3, 6, 9]])"
      ]
     },
     "execution_count": 45,
     "metadata": {},
     "output_type": "execute_result"
    }
   ],
   "source": [
    "num[:,:,2]"
   ]
  },
  {
   "cell_type": "markdown",
   "id": "836a811d",
   "metadata": {
    "papermill": {
     "duration": 0.015066,
     "end_time": "2024-10-02T04:36:19.114359",
     "exception": false,
     "start_time": "2024-10-02T04:36:19.099293",
     "status": "completed"
    },
    "tags": []
   },
   "source": [
    "## Pytorch tensors and numpy"
   ]
  },
  {
   "cell_type": "code",
   "execution_count": 46,
   "id": "f4deb4a3",
   "metadata": {
    "execution": {
     "iopub.execute_input": "2024-10-02T04:36:19.146426Z",
     "iopub.status.busy": "2024-10-02T04:36:19.146038Z",
     "iopub.status.idle": "2024-10-02T04:36:19.158803Z",
     "shell.execute_reply": "2024-10-02T04:36:19.157761Z"
    },
    "papermill": {
     "duration": 0.03129,
     "end_time": "2024-10-02T04:36:19.160814",
     "exception": false,
     "start_time": "2024-10-02T04:36:19.129524",
     "status": "completed"
    },
    "tags": []
   },
   "outputs": [
    {
     "name": "stdout",
     "output_type": "stream",
     "text": [
      "tensor([1., 2., 3., 4., 5., 6., 7.], dtype=torch.float64)\n",
      "tensor([1., 1., 1., 1., 1., 1., 1.]) torch.float32\n"
     ]
    }
   ],
   "source": [
    "n=np.arange(1.0,8.0)\n",
    "t=torch.from_numpy(n) #numpy array are in float64 by default\n",
    "\n",
    "print(t)\n",
    "\n",
    "nn=torch.ones(7)\n",
    "nump=nn.numpy()\n",
    "\n",
    "print(nn,nn.dtype)"
   ]
  },
  {
   "cell_type": "markdown",
   "id": "bc1b2236",
   "metadata": {
    "papermill": {
     "duration": 0.01553,
     "end_time": "2024-10-02T04:36:19.192184",
     "exception": false,
     "start_time": "2024-10-02T04:36:19.176654",
     "status": "completed"
    },
    "tags": []
   },
   "source": [
    "## Reproducibility"
   ]
  },
  {
   "cell_type": "code",
   "execution_count": 47,
   "id": "10f8cb36",
   "metadata": {
    "execution": {
     "iopub.execute_input": "2024-10-02T04:36:19.224916Z",
     "iopub.status.busy": "2024-10-02T04:36:19.224506Z",
     "iopub.status.idle": "2024-10-02T04:36:19.2343Z",
     "shell.execute_reply": "2024-10-02T04:36:19.233303Z"
    },
    "papermill": {
     "duration": 0.028791,
     "end_time": "2024-10-02T04:36:19.236438",
     "exception": false,
     "start_time": "2024-10-02T04:36:19.207647",
     "status": "completed"
    },
    "tags": []
   },
   "outputs": [],
   "source": [
    "random_seed=42\n",
    "torch.manual_seed(random_seed) #use this line before creating any random torch\n",
    "rand_a=torch.rand(3,4)\n",
    "\n",
    "torch.manual_seed(random_seed) #use this line before creating any random torch\n",
    "rand_b=torch.rand(3,4)"
   ]
  },
  {
   "cell_type": "code",
   "execution_count": 48,
   "id": "f7da6e89",
   "metadata": {
    "execution": {
     "iopub.execute_input": "2024-10-02T04:36:19.269186Z",
     "iopub.status.busy": "2024-10-02T04:36:19.268447Z",
     "iopub.status.idle": "2024-10-02T04:36:19.274845Z",
     "shell.execute_reply": "2024-10-02T04:36:19.27367Z"
    },
    "papermill": {
     "duration": 0.025067,
     "end_time": "2024-10-02T04:36:19.276851",
     "exception": false,
     "start_time": "2024-10-02T04:36:19.251784",
     "status": "completed"
    },
    "tags": []
   },
   "outputs": [
    {
     "name": "stdout",
     "output_type": "stream",
     "text": [
      "tensor([[True, True, True, True],\n",
      "        [True, True, True, True],\n",
      "        [True, True, True, True]])\n"
     ]
    }
   ],
   "source": [
    "print(rand_a==rand_b)"
   ]
  },
  {
   "cell_type": "markdown",
   "id": "3f25b380",
   "metadata": {
    "papermill": {
     "duration": 0.015232,
     "end_time": "2024-10-02T04:36:19.307604",
     "exception": false,
     "start_time": "2024-10-02T04:36:19.292372",
     "status": "completed"
    },
    "tags": []
   },
   "source": [
    "## Creating tensor on GPU"
   ]
  },
  {
   "cell_type": "code",
   "execution_count": 49,
   "id": "1380f1b1",
   "metadata": {
    "execution": {
     "iopub.execute_input": "2024-10-02T04:36:19.340951Z",
     "iopub.status.busy": "2024-10-02T04:36:19.340097Z",
     "iopub.status.idle": "2024-10-02T04:36:19.347247Z",
     "shell.execute_reply": "2024-10-02T04:36:19.346351Z"
    },
    "papermill": {
     "duration": 0.025977,
     "end_time": "2024-10-02T04:36:19.349205",
     "exception": false,
     "start_time": "2024-10-02T04:36:19.323228",
     "status": "completed"
    },
    "tags": []
   },
   "outputs": [
    {
     "data": {
      "text/plain": [
       "(tensor([[0.8694, 0.5677, 0.7411, 0.4294, 0.8854],\n",
       "         [0.5739, 0.2666, 0.6274, 0.2696, 0.4414],\n",
       "         [0.2969, 0.8317, 0.1053, 0.2695, 0.3588],\n",
       "         [0.1994, 0.5472, 0.0062, 0.9516, 0.0753],\n",
       "         [0.8860, 0.5832, 0.3376, 0.8090, 0.5779]]),\n",
       " device(type='cpu'))"
      ]
     },
     "execution_count": 49,
     "metadata": {},
     "output_type": "execute_result"
    }
   ],
   "source": [
    "tens=torch.rand([5,5],device='cpu')\n",
    "tens,tens.device"
   ]
  },
  {
   "cell_type": "code",
   "execution_count": 50,
   "id": "3d35e3f1",
   "metadata": {
    "execution": {
     "iopub.execute_input": "2024-10-02T04:36:19.382116Z",
     "iopub.status.busy": "2024-10-02T04:36:19.381696Z",
     "iopub.status.idle": "2024-10-02T04:36:19.38795Z",
     "shell.execute_reply": "2024-10-02T04:36:19.38692Z"
    },
    "papermill": {
     "duration": 0.025015,
     "end_time": "2024-10-02T04:36:19.389873",
     "exception": false,
     "start_time": "2024-10-02T04:36:19.364858",
     "status": "completed"
    },
    "tags": []
   },
   "outputs": [
    {
     "data": {
      "text/plain": [
       "device(type='cpu')"
      ]
     },
     "execution_count": 50,
     "metadata": {},
     "output_type": "execute_result"
    }
   ],
   "source": [
    "#changing from cpu to gpu\n",
    "tens.to(device).device #make sure cuda is enabled first"
   ]
  },
  {
   "cell_type": "markdown",
   "id": "f2396bed",
   "metadata": {
    "papermill": {
     "duration": 0.015368,
     "end_time": "2024-10-02T04:36:19.420971",
     "exception": false,
     "start_time": "2024-10-02T04:36:19.405603",
     "status": "completed"
    },
    "tags": []
   },
   "source": [
    "### Moving tensor back to CPU\n"
   ]
  },
  {
   "cell_type": "code",
   "execution_count": 51,
   "id": "3e397141",
   "metadata": {
    "execution": {
     "iopub.execute_input": "2024-10-02T04:36:19.453997Z",
     "iopub.status.busy": "2024-10-02T04:36:19.453104Z",
     "iopub.status.idle": "2024-10-02T04:36:19.461192Z",
     "shell.execute_reply": "2024-10-02T04:36:19.460262Z"
    },
    "papermill": {
     "duration": 0.026794,
     "end_time": "2024-10-02T04:36:19.463245",
     "exception": false,
     "start_time": "2024-10-02T04:36:19.436451",
     "status": "completed"
    },
    "tags": []
   },
   "outputs": [
    {
     "data": {
      "text/plain": [
       "array([[0.86940444, 0.5677153 , 0.74109405, 0.4294045 , 0.8854429 ],\n",
       "       [0.57390445, 0.26658005, 0.62744915, 0.26963168, 0.44136357],\n",
       "       [0.29692084, 0.8316855 , 0.10531491, 0.26949483, 0.35881263],\n",
       "       [0.19936377, 0.54719156, 0.00616044, 0.95155454, 0.07526588],\n",
       "       [0.8860137 , 0.5832096 , 0.33764774, 0.808975  , 0.5779254 ]],\n",
       "      dtype=float32)"
      ]
     },
     "execution_count": 51,
     "metadata": {},
     "output_type": "execute_result"
    }
   ],
   "source": [
    "# if the tensor in in gpu then we can't transform it into numpy\n",
    "#so first comvert into cpu and then to numpy cant do directly\n",
    "tens.numpy() #this won't work if tens was in gpu\n",
    "tens.cpu().numpy() #this is correct approach"
   ]
  },
  {
   "cell_type": "code",
   "execution_count": null,
   "id": "2665d216",
   "metadata": {
    "papermill": {
     "duration": 0.015441,
     "end_time": "2024-10-02T04:36:19.495275",
     "exception": false,
     "start_time": "2024-10-02T04:36:19.479834",
     "status": "completed"
    },
    "tags": []
   },
   "outputs": [],
   "source": []
  }
 ],
 "metadata": {
  "kaggle": {
   "accelerator": "none",
   "dataSources": [],
   "dockerImageVersionId": 30775,
   "isGpuEnabled": false,
   "isInternetEnabled": true,
   "language": "python",
   "sourceType": "notebook"
  },
  "kernelspec": {
   "display_name": "dlwp",
   "language": "python",
   "name": "python3"
  },
  "language_info": {
   "codemirror_mode": {
    "name": "ipython",
    "version": 3
   },
   "file_extension": ".py",
   "mimetype": "text/x-python",
   "name": "python",
   "nbconvert_exporter": "python",
   "pygments_lexer": "ipython3",
   "version": "3.11.9"
  },
  "papermill": {
   "default_parameters": {},
   "duration": 9.266469,
   "end_time": "2024-10-02T04:36:20.33166",
   "environment_variables": {},
   "exception": null,
   "input_path": "__notebook__.ipynb",
   "output_path": "__notebook__.ipynb",
   "parameters": {},
   "start_time": "2024-10-02T04:36:11.065191",
   "version": "2.6.0"
  }
 },
 "nbformat": 4,
 "nbformat_minor": 5
}
