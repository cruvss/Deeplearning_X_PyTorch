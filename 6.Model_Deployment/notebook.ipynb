{
 "cells": [
  {
   "cell_type": "markdown",
   "metadata": {},
   "source": [
    "# PyTorch Model Deployment"
   ]
  },
  {
   "cell_type": "markdown",
   "metadata": {},
   "source": [
    "we will be deploying the same model that we trained in the previous notebook i.e. [pizza-steak-sushi classification]. <br>\n",
    "\n",
    "Criteria to meet: <br>\n",
    "* The model should work on a mobile device.\n",
    "* The model should make predictions fast.\n",
    "* Where is it going to go?\n",
    "    - On-device?\n",
    "    - On the cloud?\n",
    "* How will it be used?\n",
    "    - Real-time?\n",
    "    - offline [Batch processing]?\n",
    "    \n"
   ]
  },
  {
   "cell_type": "markdown",
   "metadata": {},
   "source": [
    "# 0. Getting Setup"
   ]
  },
  {
   "cell_type": "code",
   "execution_count": 1,
   "metadata": {},
   "outputs": [],
   "source": [
    "import os \n",
    "import sys\n",
    "sys.path.append('../2.Going_Modular/') "
   ]
  },
  {
   "cell_type": "code",
   "execution_count": 3,
   "metadata": {},
   "outputs": [],
   "source": [
    "from pathlib import Path\n",
    "import zipfile\n",
    "import requests\n",
    "from going_modular import data_setup, engine, utils #type: ignore\n",
    "\n",
    "import torch\n",
    "from torch import nn\n",
    "import torchvision\n",
    "from torchvision import transforms, datasets\n",
    "from torchvision.datasets import ImageFolder\n",
    "from torchinfo import summary\n",
    "\n",
    "import matplotlib.pyplot as plt"
   ]
  },
  {
   "cell_type": "markdown",
   "metadata": {},
   "source": [
    "#### HYPERPARAMETERS:"
   ]
  },
  {
   "cell_type": "code",
   "execution_count": 4,
   "metadata": {},
   "outputs": [],
   "source": [
    "device = 'cuda' if torch.cuda.is_available() else 'cpu'\n",
    "BATCH_SIZE = 16\n",
    "NUM_WORKERS = 4"
   ]
  },
  {
   "cell_type": "markdown",
   "metadata": {},
   "source": [
    "# 1. Get the data"
   ]
  },
  {
   "cell_type": "code",
   "execution_count": 23,
   "metadata": {},
   "outputs": [
    {
     "name": "stdout",
     "output_type": "stream",
     "text": [
      "data\\pizza_steak_sushi_20_percent directory already exists . . \n",
      " Downloading the dataset . . . .\n",
      " Suceccfully donwnloaded the dataset \n"
     ]
    }
   ],
   "source": [
    "# this time we will be using same dataset but the one with more samples \n",
    "import requests\n",
    "\n",
    "data = Path('data')\n",
    "image_path = data/\"pizza_steak_sushi_20_percent\"\n",
    "\n",
    "if image_path.exists():\n",
    "    print(f\"{image_path} directory already exists . . \")\n",
    "else:\n",
    "    image_path.mkdir(parents=True, exist_ok=True)\n",
    "    \n",
    "with open(data/\"pizza_steak_sushi_20_percent.zip\",'wb') as f:\n",
    "    print(\" Downloading the dataset . . . .\")\n",
    "    response = requests.get(\"https://github.com/mrdbourke/pytorch-deep-learning/raw/main/data/pizza_steak_sushi_20_percent.zip\")\n",
    "    f.write(response.content)\n",
    "    print(\" Suceccfully donwnloaded the dataset \")\n",
    "    \n",
    "with zipfile.ZipFile(data/\"pizza_steak_sushi_20_percent.zip\",'r') as z:\n",
    "    z.extractall(image_path)\n",
    "        \n",
    "os.remove(data/\"pizza_steak_sushi_20_percent.zip\")\n",
    "    \n",
    "    "
   ]
  },
  {
   "cell_type": "code",
   "execution_count": 24,
   "metadata": {},
   "outputs": [],
   "source": [
    "train_dir = image_path/\"train\"\n",
    "test_dir =image_path/\"test\""
   ]
  },
  {
   "cell_type": "code",
   "execution_count": null,
   "metadata": {},
   "outputs": [],
   "source": []
  }
 ],
 "metadata": {
  "kernelspec": {
   "display_name": "dlwp",
   "language": "python",
   "name": "python3"
  },
  "language_info": {
   "codemirror_mode": {
    "name": "ipython",
    "version": 3
   },
   "file_extension": ".py",
   "mimetype": "text/x-python",
   "name": "python",
   "nbconvert_exporter": "python",
   "pygments_lexer": "ipython3",
   "version": "3.11.9"
  }
 },
 "nbformat": 4,
 "nbformat_minor": 2
}
