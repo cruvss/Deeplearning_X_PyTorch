{
 "cells": [
  {
   "cell_type": "markdown",
   "id": "b5edd8e7",
   "metadata": {
    "papermill": {
     "duration": 0.0067,
     "end_time": "2024-10-02T06:36:16.894294",
     "exception": false,
     "start_time": "2024-10-02T06:36:16.887594",
     "status": "completed"
    },
    "tags": []
   },
   "source": [
    "# Key to learning documentation---> documentation----> documentation"
   ]
  },
  {
   "cell_type": "code",
   "execution_count": 1,
   "id": "ed4b0cb0",
   "metadata": {
    "_cell_guid": "b1076dfc-b9ad-4769-8c92-a6c4dae69d19",
    "_uuid": "8f2839f25d086af736a60e9eeb907d3b93b6e0e5",
    "execution": {
     "iopub.execute_input": "2024-10-02T06:36:16.908316Z",
     "iopub.status.busy": "2024-10-02T06:36:16.907585Z",
     "iopub.status.idle": "2024-10-02T06:36:20.451052Z",
     "shell.execute_reply": "2024-10-02T06:36:20.449850Z"
    },
    "papermill": {
     "duration": 3.553167,
     "end_time": "2024-10-02T06:36:20.453669",
     "exception": false,
     "start_time": "2024-10-02T06:36:16.900502",
     "status": "completed"
    },
    "tags": []
   },
   "outputs": [],
   "source": [
    "import torch\n",
    "import numpy"
   ]
  },
  {
   "cell_type": "code",
   "execution_count": 2,
   "id": "9be03a37",
   "metadata": {
    "execution": {
     "iopub.execute_input": "2024-10-02T06:36:20.472255Z",
     "iopub.status.busy": "2024-10-02T06:36:20.471784Z",
     "iopub.status.idle": "2024-10-02T06:36:20.563991Z",
     "shell.execute_reply": "2024-10-02T06:36:20.563081Z"
    },
    "papermill": {
     "duration": 0.102839,
     "end_time": "2024-10-02T06:36:20.566015",
     "exception": false,
     "start_time": "2024-10-02T06:36:20.463176",
     "status": "completed"
    },
    "tags": []
   },
   "outputs": [
    {
     "data": {
      "text/plain": [
       "'cuda'"
      ]
     },
     "execution_count": 2,
     "metadata": {},
     "output_type": "execute_result"
    }
   ],
   "source": [
    "device='cuda' if torch.cuda.is_available() else 'cpu'\n",
    "device"
   ]
  },
  {
   "cell_type": "markdown",
   "id": "150b206a",
   "metadata": {
    "papermill": {
     "duration": 0.007424,
     "end_time": "2024-10-02T06:36:20.579917",
     "exception": false,
     "start_time": "2024-10-02T06:36:20.572493",
     "status": "completed"
    },
    "tags": []
   },
   "source": [
    "### 1. Create a random tensor with shape ``(7,7).``\n"
   ]
  },
  {
   "cell_type": "code",
   "execution_count": 3,
   "id": "8587b928",
   "metadata": {
    "execution": {
     "iopub.execute_input": "2024-10-02T06:36:20.594766Z",
     "iopub.status.busy": "2024-10-02T06:36:20.594190Z",
     "iopub.status.idle": "2024-10-02T06:36:20.701772Z",
     "shell.execute_reply": "2024-10-02T06:36:20.700735Z"
    },
    "papermill": {
     "duration": 0.116515,
     "end_time": "2024-10-02T06:36:20.703777",
     "exception": false,
     "start_time": "2024-10-02T06:36:20.587262",
     "status": "completed"
    },
    "tags": []
   },
   "outputs": [
    {
     "name": "stdout",
     "output_type": "stream",
     "text": [
      "Random tensor with size (7,7) is:\n",
      " tensor([[0.3574, 0.8110, 0.3711, 0.2652, 0.1258, 0.8701, 0.2852],\n",
      "        [0.0180, 0.2853, 0.7374, 0.1956, 0.7324, 0.2614, 0.8434],\n",
      "        [0.8456, 0.4172, 0.1117, 0.0740, 0.1114, 0.2883, 0.6441],\n",
      "        [0.4742, 0.5400, 0.2809, 0.4939, 0.1478, 0.4801, 0.8842],\n",
      "        [0.2643, 0.3429, 0.5419, 0.6340, 0.0265, 0.3093, 0.4696],\n",
      "        [0.1316, 0.0420, 0.9673, 0.9405, 0.3357, 0.0610, 0.8745],\n",
      "        [0.8039, 0.5572, 0.7114, 0.2045, 0.5239, 0.6516, 0.1886]])\n"
     ]
    }
   ],
   "source": [
    "tensor_2=torch.rand(7,7)\n",
    "print(f'Random tensor with size (7,7) is:\\n {tensor_2}')"
   ]
  },
  {
   "cell_type": "markdown",
   "id": "e3919120",
   "metadata": {
    "papermill": {
     "duration": 0.006103,
     "end_time": "2024-10-02T06:36:20.716185",
     "exception": false,
     "start_time": "2024-10-02T06:36:20.710082",
     "status": "completed"
    },
    "tags": []
   },
   "source": [
    "### 2. Perform a matrix multiplicatin on the tensor from 2 with another random tensor with shape (1,7)."
   ]
  },
  {
   "cell_type": "code",
   "execution_count": 4,
   "id": "589aa140",
   "metadata": {
    "execution": {
     "iopub.execute_input": "2024-10-02T06:36:20.730145Z",
     "iopub.status.busy": "2024-10-02T06:36:20.729839Z",
     "iopub.status.idle": "2024-10-02T06:36:20.784453Z",
     "shell.execute_reply": "2024-10-02T06:36:20.783188Z"
    },
    "papermill": {
     "duration": 0.064245,
     "end_time": "2024-10-02T06:36:20.786812",
     "exception": false,
     "start_time": "2024-10-02T06:36:20.722567",
     "status": "completed"
    },
    "tags": []
   },
   "outputs": [
    {
     "name": "stdout",
     "output_type": "stream",
     "text": [
      "Matrix multiplicaiton of\n",
      " tensor([[0.3574, 0.8110, 0.3711, 0.2652, 0.1258, 0.8701, 0.2852],\n",
      "        [0.0180, 0.2853, 0.7374, 0.1956, 0.7324, 0.2614, 0.8434],\n",
      "        [0.8456, 0.4172, 0.1117, 0.0740, 0.1114, 0.2883, 0.6441],\n",
      "        [0.4742, 0.5400, 0.2809, 0.4939, 0.1478, 0.4801, 0.8842],\n",
      "        [0.2643, 0.3429, 0.5419, 0.6340, 0.0265, 0.3093, 0.4696],\n",
      "        [0.1316, 0.0420, 0.9673, 0.9405, 0.3357, 0.0610, 0.8745],\n",
      "        [0.8039, 0.5572, 0.7114, 0.2045, 0.5239, 0.6516, 0.1886]])\n",
      "and \n",
      "tensor([[0.6233],\n",
      "        [0.7635],\n",
      "        [0.5428],\n",
      "        [0.0691],\n",
      "        [0.5649],\n",
      "        [0.9786],\n",
      "        [0.1147]]) \n",
      "is: tensor([[2.0170],\n",
      "        [1.4091],\n",
      "        [1.3303],\n",
      "        [1.5492],\n",
      "        [1.1360],\n",
      "        [1.0537],\n",
      "        [2.2821]])\n",
      "\n"
     ]
    }
   ],
   "source": [
    "tensor_3=torch.rand(1,7).T\n",
    "print(f'Matrix multiplicaiton of\\n {tensor_2}\\nand \\n{ tensor_3} \\nis: {tensor_2@tensor_3}\\n')"
   ]
  },
  {
   "cell_type": "markdown",
   "id": "2e90176d",
   "metadata": {
    "papermill": {
     "duration": 0.006304,
     "end_time": "2024-10-02T06:36:20.799537",
     "exception": false,
     "start_time": "2024-10-02T06:36:20.793233",
     "status": "completed"
    },
    "tags": []
   },
   "source": [
    "### 3. Set random seed to 0 and do qn no 1 and 2 again."
   ]
  },
  {
   "cell_type": "code",
   "execution_count": 5,
   "id": "52923f5e",
   "metadata": {
    "execution": {
     "iopub.execute_input": "2024-10-02T06:36:20.814062Z",
     "iopub.status.busy": "2024-10-02T06:36:20.813459Z",
     "iopub.status.idle": "2024-10-02T06:36:20.826332Z",
     "shell.execute_reply": "2024-10-02T06:36:20.825275Z"
    },
    "papermill": {
     "duration": 0.022349,
     "end_time": "2024-10-02T06:36:20.828238",
     "exception": false,
     "start_time": "2024-10-02T06:36:20.805889",
     "status": "completed"
    },
    "tags": []
   },
   "outputs": [
    {
     "name": "stdout",
     "output_type": "stream",
     "text": [
      "Matrix multiplicaiton of\n",
      " tensor([[0.4963, 0.7682, 0.0885, 0.1320, 0.3074, 0.6341, 0.4901],\n",
      "        [0.8964, 0.4556, 0.6323, 0.3489, 0.4017, 0.0223, 0.1689],\n",
      "        [0.2939, 0.5185, 0.6977, 0.8000, 0.1610, 0.2823, 0.6816],\n",
      "        [0.9152, 0.3971, 0.8742, 0.4194, 0.5529, 0.9527, 0.0362],\n",
      "        [0.1852, 0.3734, 0.3051, 0.9320, 0.1759, 0.2698, 0.1507],\n",
      "        [0.0317, 0.2081, 0.9298, 0.7231, 0.7423, 0.5263, 0.2437],\n",
      "        [0.5846, 0.0332, 0.1387, 0.2422, 0.8155, 0.7932, 0.2783]])\n",
      "and \n",
      "tensor([[0.4963],\n",
      "        [0.7682],\n",
      "        [0.0885],\n",
      "        [0.1320],\n",
      "        [0.3074],\n",
      "        [0.6341],\n",
      "        [0.4901]]) \n",
      "is: tensor([[1.5985],\n",
      "        [1.1173],\n",
      "        [1.2741],\n",
      "        [1.6838],\n",
      "        [0.8279],\n",
      "        [1.0347],\n",
      "        [1.2498]])\n",
      "\n"
     ]
    }
   ],
   "source": [
    "SEED=0\n",
    "torch.manual_seed(SEED)\n",
    "Stensor_2=torch.rand(7,7)\n",
    "torch.manual_seed(SEED)\n",
    "Stensor_3=torch.rand(1,7).T\n",
    "print(f'Matrix multiplicaiton of\\n {Stensor_2}\\nand \\n{ Stensor_3} \\nis: {Stensor_2@Stensor_3}\\n')\n",
    "\n"
   ]
  },
  {
   "cell_type": "markdown",
   "id": "e41cc9e6",
   "metadata": {
    "papermill": {
     "duration": 0.006228,
     "end_time": "2024-10-02T06:36:20.841108",
     "exception": false,
     "start_time": "2024-10-02T06:36:20.834880",
     "status": "completed"
    },
    "tags": []
   },
   "source": [
    "### 4. Speaking of random seeds, we saw how to set it with `torch.manual_seed()` but is there a GPU equivalent? (hint: you'll need to look into the documentation for torch.cuda for this one). If there is, set the GPU random seed to 1234."
   ]
  },
  {
   "cell_type": "code",
   "execution_count": 6,
   "id": "6863dc0d",
   "metadata": {
    "execution": {
     "iopub.execute_input": "2024-10-02T06:36:20.855149Z",
     "iopub.status.busy": "2024-10-02T06:36:20.854882Z",
     "iopub.status.idle": "2024-10-02T06:36:20.859251Z",
     "shell.execute_reply": "2024-10-02T06:36:20.858457Z"
    },
    "papermill": {
     "duration": 0.013514,
     "end_time": "2024-10-02T06:36:20.861130",
     "exception": false,
     "start_time": "2024-10-02T06:36:20.847616",
     "status": "completed"
    },
    "tags": []
   },
   "outputs": [],
   "source": [
    "torch.cuda.manual_seed(1234)"
   ]
  },
  {
   "cell_type": "markdown",
   "id": "1ce9ac56",
   "metadata": {
    "papermill": {
     "duration": 0.006278,
     "end_time": "2024-10-02T06:36:20.873883",
     "exception": false,
     "start_time": "2024-10-02T06:36:20.867605",
     "status": "completed"
    },
    "tags": []
   },
   "source": [
    "### 5. Create two random tensors of shape (2, 3) and send them both to the GPU (you'll need access to a GPU for this). Set `torch.manual_seed(1234)` when creating the tensors (this doesn't have to be the GPU random seed)"
   ]
  },
  {
   "cell_type": "code",
   "execution_count": 7,
   "id": "984e3c98",
   "metadata": {
    "execution": {
     "iopub.execute_input": "2024-10-02T06:36:20.888071Z",
     "iopub.status.busy": "2024-10-02T06:36:20.887575Z",
     "iopub.status.idle": "2024-10-02T06:36:21.072216Z",
     "shell.execute_reply": "2024-10-02T06:36:21.071453Z"
    },
    "papermill": {
     "duration": 0.194148,
     "end_time": "2024-10-02T06:36:21.074430",
     "exception": false,
     "start_time": "2024-10-02T06:36:20.880282",
     "status": "completed"
    },
    "tags": []
   },
   "outputs": [],
   "source": [
    "torch.manual_seed(1234)\n",
    "Gtensor_1=torch.rand(2,3).to('cuda')\n",
    "\n",
    "torch.manual_seed(1234)\n",
    "Gtensor_2=torch.rand(2,3).to('cuda')\n"
   ]
  },
  {
   "cell_type": "markdown",
   "id": "0ee283c4",
   "metadata": {
    "papermill": {
     "duration": 0.006258,
     "end_time": "2024-10-02T06:36:21.087418",
     "exception": false,
     "start_time": "2024-10-02T06:36:21.081160",
     "status": "completed"
    },
    "tags": []
   },
   "source": [
    "### 6. Perform a matrix multiplication on the tensors you created in 6 (again, you may have to adjust the shapes of one of the tensors)."
   ]
  },
  {
   "cell_type": "code",
   "execution_count": 8,
   "id": "14742158",
   "metadata": {
    "execution": {
     "iopub.execute_input": "2024-10-02T06:36:21.101720Z",
     "iopub.status.busy": "2024-10-02T06:36:21.101413Z",
     "iopub.status.idle": "2024-10-02T06:36:21.487829Z",
     "shell.execute_reply": "2024-10-02T06:36:21.486756Z"
    },
    "papermill": {
     "duration": 0.395966,
     "end_time": "2024-10-02T06:36:21.489955",
     "exception": false,
     "start_time": "2024-10-02T06:36:21.093989",
     "status": "completed"
    },
    "tags": []
   },
   "outputs": [
    {
     "name": "stdout",
     "output_type": "stream",
     "text": [
      "Matrix mulitplication of \n",
      "tensor([[0.0290, 0.4019, 0.2598],\n",
      "        [0.3666, 0.0583, 0.7006]], device='cuda:0')\n",
      " and\n",
      " tensor([[0.0290, 0.4019, 0.2598],\n",
      "        [0.3666, 0.0583, 0.7006]], device='cuda:0')\n",
      " is: tensor([[0.2299, 0.2161],\n",
      "        [0.2161, 0.6287]], device='cuda:0')\n"
     ]
    }
   ],
   "source": [
    "output=Gtensor_1 @ Gtensor_2.T\n",
    "print(f'Matrix mulitplication of \\n{Gtensor_1}\\n and\\n {Gtensor_2}\\n is: {Gtensor_1 @ Gtensor_2.T}')"
   ]
  },
  {
   "cell_type": "markdown",
   "id": "d5b22ba2",
   "metadata": {
    "papermill": {
     "duration": 0.006676,
     "end_time": "2024-10-02T06:36:21.503384",
     "exception": false,
     "start_time": "2024-10-02T06:36:21.496708",
     "status": "completed"
    },
    "tags": []
   },
   "source": [
    "### 7. Find the maximum and minimum values of the output of above."
   ]
  },
  {
   "cell_type": "code",
   "execution_count": 9,
   "id": "26d92e8f",
   "metadata": {
    "execution": {
     "iopub.execute_input": "2024-10-02T06:36:21.518076Z",
     "iopub.status.busy": "2024-10-02T06:36:21.517746Z",
     "iopub.status.idle": "2024-10-02T06:36:21.528154Z",
     "shell.execute_reply": "2024-10-02T06:36:21.527117Z"
    },
    "papermill": {
     "duration": 0.019977,
     "end_time": "2024-10-02T06:36:21.530062",
     "exception": false,
     "start_time": "2024-10-02T06:36:21.510085",
     "status": "completed"
    },
    "tags": []
   },
   "outputs": [
    {
     "name": "stdout",
     "output_type": "stream",
     "text": [
      "Approach_1\n",
      "Maximum value is: tensor(0.6287, device='cuda:0')\n",
      "Approach_2\n",
      "Maximum value is: tensor(0.6287, device='cuda:0')\n",
      "Approach_1\n",
      "Minimum value is: tensor(0.2161, device='cuda:0')\n",
      "Approach_2\n",
      "Minimum value is: tensor(0.2161, device='cuda:0')\n"
     ]
    }
   ],
   "source": [
    "print('Approach_1\\nMaximum value is:',output.max())\n",
    "print('Approach_2\\nMaximum value is:',torch.max(output))\n",
    "\n",
    "print('Approach_1\\nMinimum value is:',output.min())\n",
    "print('Approach_2\\nMinimum value is:',torch.min(output))"
   ]
  },
  {
   "cell_type": "markdown",
   "id": "f86b0210",
   "metadata": {
    "papermill": {
     "duration": 0.006354,
     "end_time": "2024-10-02T06:36:21.543078",
     "exception": false,
     "start_time": "2024-10-02T06:36:21.536724",
     "status": "completed"
    },
    "tags": []
   },
   "source": [
    "### 8. Find the maximun and minimum index values for 6."
   ]
  },
  {
   "cell_type": "code",
   "execution_count": 10,
   "id": "dd5611a9",
   "metadata": {
    "execution": {
     "iopub.execute_input": "2024-10-02T06:36:21.557674Z",
     "iopub.status.busy": "2024-10-02T06:36:21.557373Z",
     "iopub.status.idle": "2024-10-02T06:36:21.594046Z",
     "shell.execute_reply": "2024-10-02T06:36:21.593059Z"
    },
    "papermill": {
     "duration": 0.045986,
     "end_time": "2024-10-02T06:36:21.595962",
     "exception": false,
     "start_time": "2024-10-02T06:36:21.549976",
     "status": "completed"
    },
    "tags": []
   },
   "outputs": [
    {
     "name": "stdout",
     "output_type": "stream",
     "text": [
      "Approach_1\n",
      "Maximum index is: tensor(3, device='cuda:0')\n",
      "Approach_2\n",
      "Maximum index is: tensor(3, device='cuda:0')\n",
      "Approach_1\n",
      "Minimum index is: tensor(1, device='cuda:0')\n",
      "Approach_2\n",
      "Minimum index is: tensor(1, device='cuda:0')\n"
     ]
    }
   ],
   "source": [
    "print('Approach_1\\nMaximum index is:',output.argmax())\n",
    "print('Approach_2\\nMaximum index is:',torch.argmax(output))\n",
    "\n",
    "print('Approach_1\\nMinimum index is:',output.argmin())\n",
    "print('Approach_2\\nMinimum index is:',torch.argmin(output))"
   ]
  },
  {
   "cell_type": "markdown",
   "id": "cd05c0ee",
   "metadata": {
    "papermill": {
     "duration": 0.006385,
     "end_time": "2024-10-02T06:36:21.609138",
     "exception": false,
     "start_time": "2024-10-02T06:36:21.602753",
     "status": "completed"
    },
    "tags": []
   },
   "source": [
    "### 9. Make a random tensor with shape (1, 1, 1, 10) and then create a new tensor with all the 1 dimensions removed to be left with a tensor of shape (10). Set the seed to 7 when you create it and print out the first tensor and it's shape as well as the second tensor and it's shape."
   ]
  },
  {
   "cell_type": "code",
   "execution_count": 11,
   "id": "5bb630a5",
   "metadata": {
    "execution": {
     "iopub.execute_input": "2024-10-02T06:36:21.623263Z",
     "iopub.status.busy": "2024-10-02T06:36:21.622990Z",
     "iopub.status.idle": "2024-10-02T06:36:21.627657Z",
     "shell.execute_reply": "2024-10-02T06:36:21.626946Z"
    },
    "papermill": {
     "duration": 0.013806,
     "end_time": "2024-10-02T06:36:21.629556",
     "exception": false,
     "start_time": "2024-10-02T06:36:21.615750",
     "status": "completed"
    },
    "tags": []
   },
   "outputs": [],
   "source": [
    "torch.manual_seed(7)\n",
    "tensor_9=torch.rand(1,1,1,10)\n"
   ]
  },
  {
   "cell_type": "code",
   "execution_count": 12,
   "id": "c6a5c5a1",
   "metadata": {
    "execution": {
     "iopub.execute_input": "2024-10-02T06:36:21.644151Z",
     "iopub.status.busy": "2024-10-02T06:36:21.643870Z",
     "iopub.status.idle": "2024-10-02T06:36:21.650561Z",
     "shell.execute_reply": "2024-10-02T06:36:21.649708Z"
    },
    "papermill": {
     "duration": 0.016015,
     "end_time": "2024-10-02T06:36:21.652438",
     "exception": false,
     "start_time": "2024-10-02T06:36:21.636423",
     "status": "completed"
    },
    "tags": []
   },
   "outputs": [
    {
     "data": {
      "text/plain": [
       "torch.Size([10])"
      ]
     },
     "execution_count": 12,
     "metadata": {},
     "output_type": "execute_result"
    }
   ],
   "source": [
    "tensor9_squeezed=torch.squeeze(tensor_9)\n",
    "tensor9_squeezed.shape"
   ]
  },
  {
   "cell_type": "code",
   "execution_count": 13,
   "id": "53a404a9",
   "metadata": {
    "execution": {
     "iopub.execute_input": "2024-10-02T06:36:21.667551Z",
     "iopub.status.busy": "2024-10-02T06:36:21.666781Z",
     "iopub.status.idle": "2024-10-02T06:36:21.672987Z",
     "shell.execute_reply": "2024-10-02T06:36:21.672110Z"
    },
    "papermill": {
     "duration": 0.015889,
     "end_time": "2024-10-02T06:36:21.675051",
     "exception": false,
     "start_time": "2024-10-02T06:36:21.659162",
     "status": "completed"
    },
    "tags": []
   },
   "outputs": [
    {
     "name": "stdout",
     "output_type": "stream",
     "text": [
      "tensor([[[[0.5349, 0.1988, 0.6592, 0.6569, 0.2328, 0.4251, 0.2071, 0.6297,\n",
      "           0.3653, 0.8513]]]]) torch.Size([1, 1, 1, 10])\n",
      "tensor([0.5349, 0.1988, 0.6592, 0.6569, 0.2328, 0.4251, 0.2071, 0.6297, 0.3653,\n",
      "        0.8513]) torch.Size([10])\n"
     ]
    }
   ],
   "source": [
    "print(tensor_9, tensor_9.shape)\n",
    "print(tensor9_squeezed, tensor9_squeezed.shape)"
   ]
  },
  {
   "cell_type": "code",
   "execution_count": null,
   "id": "aa150d03",
   "metadata": {
    "execution": {
     "iopub.execute_input": "2024-10-02T06:32:10.024072Z",
     "iopub.status.busy": "2024-10-02T06:32:10.023705Z",
     "iopub.status.idle": "2024-10-02T06:32:10.031452Z",
     "shell.execute_reply": "2024-10-02T06:32:10.030406Z",
     "shell.execute_reply.started": "2024-10-02T06:32:10.024037Z"
    },
    "papermill": {
     "duration": 0.006687,
     "end_time": "2024-10-02T06:36:21.688467",
     "exception": false,
     "start_time": "2024-10-02T06:36:21.681780",
     "status": "completed"
    },
    "tags": []
   },
   "outputs": [],
   "source": []
  },
  {
   "cell_type": "code",
   "execution_count": null,
   "id": "7b8ae88f",
   "metadata": {
    "papermill": {
     "duration": 0.006624,
     "end_time": "2024-10-02T06:36:21.702007",
     "exception": false,
     "start_time": "2024-10-02T06:36:21.695383",
     "status": "completed"
    },
    "tags": []
   },
   "outputs": [],
   "source": []
  }
 ],
 "metadata": {
  "kaggle": {
   "accelerator": "nvidiaTeslaT4",
   "dataSources": [],
   "dockerImageVersionId": 30776,
   "isGpuEnabled": true,
   "isInternetEnabled": true,
   "language": "python",
   "sourceType": "notebook"
  },
  "kernelspec": {
   "display_name": "Python 3",
   "language": "python",
   "name": "python3"
  },
  "language_info": {
   "codemirror_mode": {
    "name": "ipython",
    "version": 3
   },
   "file_extension": ".py",
   "mimetype": "text/x-python",
   "name": "python",
   "nbconvert_exporter": "python",
   "pygments_lexer": "ipython3",
   "version": "3.10.14"
  },
  "papermill": {
   "default_parameters": {},
   "duration": 8.877847,
   "end_time": "2024-10-02T06:36:22.828352",
   "environment_variables": {},
   "exception": null,
   "input_path": "__notebook__.ipynb",
   "output_path": "__notebook__.ipynb",
   "parameters": {},
   "start_time": "2024-10-02T06:36:13.950505",
   "version": "2.6.0"
  }
 },
 "nbformat": 4,
 "nbformat_minor": 5
}
