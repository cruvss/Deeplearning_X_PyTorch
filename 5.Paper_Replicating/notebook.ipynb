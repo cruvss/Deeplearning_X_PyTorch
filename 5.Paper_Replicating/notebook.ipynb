{
 "cells": [
  {
   "cell_type": "markdown",
   "metadata": {},
   "source": [
    "# PyTorch Paper Replicating "
   ]
  },
  {
   "cell_type": "markdown",
   "metadata": {},
   "source": [
    "![image](https://raw.githubusercontent.com/mrdbourke/pytorch-deep-learning/main/images/08-george-hotz-quote.png)"
   ]
  },
  {
   "cell_type": "markdown",
   "metadata": {},
   "source": [
    "In this notebook, we're going to replicate the results of paper [ *An Image is worth 16x16 words: Transformers for Image Recognition at Scale* ]. <br> <br>\n",
    "\n",
    "<b>Abstract:</b> <br>\n",
    "While the Transformer architecture has become the de-facto standard for natural <br>\n",
    "language processing tasks, its applications to computer vision remain limited. In <br>\n",
    "vision, attention is either applied in conjunction with convolutional networks, or <br>\n",
    "used to replace certain components of convolutional networks while keeping their <br>\n",
    "overall structure in place. We show that this reliance on CNNs is not necessary <br>\n",
    "and a pure transformer applied directly to sequences of image patches can perform <br>\n",
    "very well on image classification tasks. When pre-trained on large amounts of <br>\n",
    "data and transferred to multiple mid-sized or small image recognition benchmarks <br>\n",
    "(ImageNet, CIFAR-100, VTAB, etc.), Vision Transformer (ViT) attains excellent <br>\n",
    "results compared to state-of-the-art convolutional networks while requiring substantially fewer computational resources to train. <br>\n",
    "\n",
    "**Orginal Paper** : [An Image is worth 16x16 words: Transformers for Image Recognition at Scale](https://arxiv.org/abs/2010.11929) <br>\n",
    "\n",
    "\n"
   ]
  },
  {
   "cell_type": "markdown",
   "metadata": {},
   "source": [
    "# 0. Getting started"
   ]
  },
  {
   "cell_type": "markdown",
   "metadata": {},
   "source": [
    "Importing all the necessary libraries and create all the helper functions that we will use throughout the notebook."
   ]
  },
  {
   "cell_type": "code",
   "execution_count": 2,
   "metadata": {},
   "outputs": [],
   "source": [
    "import os \n",
    "import sys\n",
    "sys.path.append('../2.Going_Modular/') "
   ]
  },
  {
   "cell_type": "code",
   "execution_count": 3,
   "metadata": {},
   "outputs": [],
   "source": [
    "from pathlib import Path\n",
    "import zipfile\n",
    "import requests\n",
    "from going_modular import data_setup, engine #type: ignore\n",
    "\n",
    "import torch\n",
    "from torch import nn\n",
    "import torchvision\n",
    "from torchvision import transforms\n",
    "from torchinfo import summary\n",
    "\n",
    "import matplotlib.pyplot as plt"
   ]
  },
  {
   "cell_type": "code",
   "execution_count": 4,
   "metadata": {},
   "outputs": [
    {
     "data": {
      "text/plain": [
       "'cuda'"
      ]
     },
     "execution_count": 4,
     "metadata": {},
     "output_type": "execute_result"
    }
   ],
   "source": [
    "device = 'cuda' if torch.cuda.is_available() else 'cpu'\n",
    "device"
   ]
  },
  {
   "cell_type": "code",
   "execution_count": null,
   "metadata": {},
   "outputs": [],
   "source": []
  }
 ],
 "metadata": {
  "kernelspec": {
   "display_name": "dlwp",
   "language": "python",
   "name": "python3"
  },
  "language_info": {
   "codemirror_mode": {
    "name": "ipython",
    "version": 3
   },
   "file_extension": ".py",
   "mimetype": "text/x-python",
   "name": "python",
   "nbconvert_exporter": "python",
   "pygments_lexer": "ipython3",
   "version": "3.11.9"
  }
 },
 "nbformat": 4,
 "nbformat_minor": 2
}
