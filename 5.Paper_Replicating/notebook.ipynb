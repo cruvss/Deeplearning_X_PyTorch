{
 "cells": [
  {
   "cell_type": "markdown",
   "metadata": {},
   "source": [
    "# PyTorch Paper Replicating "
   ]
  },
  {
   "cell_type": "markdown",
   "metadata": {},
   "source": [
    "![image](https://raw.githubusercontent.com/mrdbourke/pytorch-deep-learning/main/images/08-george-hotz-quote.png)"
   ]
  },
  {
   "cell_type": "markdown",
   "metadata": {},
   "source": [
    "In this notebook, we're going to replicate the results of paper [ *An Image is worth 16x16 words: Transformers for Image Recognition at Scale* ]. <br> <br>\n",
    "\n",
    "<b>Abstract:</b> <br>\n",
    "While the Transformer architecture has become the de-facto standard for natural <br>\n",
    "language processing tasks, its applications to computer vision remain limited. In <br>\n",
    "vision, attention is either applied in conjunction with convolutional networks, or <br>\n",
    "used to replace certain components of convolutional networks while keeping their <br>\n",
    "overall structure in place. We show that this reliance on CNNs is not necessary <br>\n",
    "and a pure transformer applied directly to sequences of image patches can perform <br>\n",
    "very well on image classification tasks. When pre-trained on large amounts of <br>\n",
    "data and transferred to multiple mid-sized or small image recognition benchmarks <br>\n",
    "(ImageNet, CIFAR-100, VTAB, etc.), Vision Transformer (ViT) attains excellent <br>\n",
    "results compared to state-of-the-art convolutional networks while requiring substantially fewer computational resources to train. <br>\n",
    "\n",
    "**Orginal Paper** : [An Image is worth 16x16 words: Transformers for Image Recognition at Scale](https://arxiv.org/abs/2010.11929) <br>\n",
    "\n",
    "\n"
   ]
  },
  {
   "cell_type": "markdown",
   "metadata": {},
   "source": [
    "# 0. Getting started"
   ]
  },
  {
   "cell_type": "markdown",
   "metadata": {},
   "source": [
    "Importing all the necessary libraries and create all the helper functions that we will use throughout the notebook."
   ]
  },
  {
   "cell_type": "code",
   "execution_count": 1,
   "metadata": {},
   "outputs": [],
   "source": [
    "import os \n",
    "import sys\n",
    "sys.path.append('../2.Going_Modular/') "
   ]
  },
  {
   "cell_type": "code",
   "execution_count": 2,
   "metadata": {},
   "outputs": [],
   "source": [
    "from pathlib import Path\n",
    "import zipfile\n",
    "import requests\n",
    "from going_modular import data_setup, engine #type: ignore\n",
    "\n",
    "import torch\n",
    "from torch import nn\n",
    "import torchvision\n",
    "from torchvision import transforms\n",
    "from torchinfo import summary\n",
    "\n",
    "import matplotlib.pyplot as plt"
   ]
  },
  {
   "cell_type": "code",
   "execution_count": 3,
   "metadata": {},
   "outputs": [
    {
     "data": {
      "text/plain": [
       "'cuda'"
      ]
     },
     "execution_count": 3,
     "metadata": {},
     "output_type": "execute_result"
    }
   ],
   "source": [
    "device = 'cuda' if torch.cuda.is_available() else 'cpu'\n",
    "device"
   ]
  },
  {
   "cell_type": "markdown",
   "metadata": {},
   "source": [
    "Different Helper function definatinos are as follows:"
   ]
  },
  {
   "cell_type": "code",
   "execution_count": 5,
   "metadata": {},
   "outputs": [],
   "source": [
    "def set_seeds(seed:int=42):\n",
    "    torch.manual_seed(seed)\n",
    "    torch.cuda.manual_seed(seed)\n",
    "\n",
    "\n",
    "def plot_loss_curves(results):\n",
    "    loss = results[\"train_loss\"]\n",
    "    test_loss = results[\"test_loss\"]\n",
    "\n",
    "    accuracy = results[\"train_acc\"]\n",
    "    test_accuracy = results[\"test_acc\"]\n",
    "\n",
    "    epochs = range(len(results[\"train_loss\"]))\n",
    "\n",
    "    plt.figure(figsize=(15, 7))\n",
    "\n",
    "    # Plot loss\n",
    "    plt.subplot(1, 2, 1)\n",
    "    plt.plot(epochs, loss, label=\"train_loss\")\n",
    "    plt.plot(epochs, test_loss, label=\"test_loss\")\n",
    "    plt.title(\"Loss\")\n",
    "    plt.xlabel(\"Epochs\")\n",
    "    plt.legend()\n",
    "\n",
    "    # Plot accuracy\n",
    "    plt.subplot(1, 2, 2)\n",
    "    plt.plot(epochs, accuracy, label=\"train_accuracy\")\n",
    "    plt.plot(epochs, test_accuracy, label=\"test_accuracy\")\n",
    "    plt.title(\"Accuracy\")\n",
    "    plt.xlabel(\"Epochs\")\n",
    "    plt.legend()\n",
    "\n"
   ]
  },
  {
   "cell_type": "markdown",
   "metadata": {},
   "source": [
    "# 1. Get the Data"
   ]
  },
  {
   "cell_type": "code",
   "execution_count": 14,
   "metadata": {},
   "outputs": [
    {
     "name": "stdout",
     "output_type": "stream",
     "text": [
      "Downloading pizza_steak_sushi.zip . . .\n",
      "suceessfully downloaded pizza_steak_sushi.zip\n"
     ]
    }
   ],
   "source": [
    "#downloading same pizza_steak dataset\n",
    "data = Path(\"data\")\n",
    "image_path =  data/ \"pizza_steak_sushi\"\n",
    "\n",
    "if image_path.exists():\n",
    "    print(f\"{image_path} already exists\")\n",
    "else:\n",
    "    image_path.mkdir( parents=True, exist_ok=True)\n",
    "    \n",
    "    with open(image_path/'pizza_steak_sushi.zip', 'wb') as f:\n",
    "        print(\"Downloading pizza_steak_sushi.zip . . .\")\n",
    "        url =\"https://github.com/mrdbourke/pytorch-deep-learning/raw/main/data/pizza_steak_sushi.zip\"\n",
    "        response = requests.get(url)\n",
    "        f.write(response.content)\n",
    "        print('suceessfully downloaded pizza_steak_sushi.zip')\n",
    "    \n",
    "    with zipfile.ZipFile(image_path/'pizza_steak_sushi.zip','r') as ref:\n",
    "        ref.extractall(image_path)\n",
    "    \n",
    "    os.remove(image_path/'pizza_steak_sushi.zip')\n",
    "        \n",
    "\n",
    "\n",
    "\n"
   ]
  },
  {
   "cell_type": "code",
   "execution_count": 7,
   "metadata": {},
   "outputs": [
    {
     "data": {
      "text/plain": [
       "'d:\\\\Code\\\\DeepLearning\\\\PyTorch\\\\5.Paper_Replicating'"
      ]
     },
     "execution_count": 7,
     "metadata": {},
     "output_type": "execute_result"
    }
   ],
   "source": [
    "os.getcwd()"
   ]
  },
  {
   "cell_type": "code",
   "execution_count": null,
   "metadata": {},
   "outputs": [],
   "source": []
  }
 ],
 "metadata": {
  "kernelspec": {
   "display_name": "dlwp",
   "language": "python",
   "name": "python3"
  },
  "language_info": {
   "codemirror_mode": {
    "name": "ipython",
    "version": 3
   },
   "file_extension": ".py",
   "mimetype": "text/x-python",
   "name": "python",
   "nbconvert_exporter": "python",
   "pygments_lexer": "ipython3",
   "version": "3.11.9"
  }
 },
 "nbformat": 4,
 "nbformat_minor": 2
}
