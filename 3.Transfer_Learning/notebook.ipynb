{
 "cells": [
  {
   "cell_type": "markdown",
   "metadata": {},
   "source": [
    "# PyTorch Transfer Learning\n",
    "\n",
    "#### **1. What is transfer learning?**\n",
    "So far we have built many models from scratch. However, this is not always the best approach. As we also expereinced our model performed poorly. In many cases, we can use a pre-trained model and fine-tune it to our specific problem. This is called transfer learning.<br>\n",
    "With the application of **Transfer Learning** we can take weights another model has learned from some other probelem and use them to solve our problem. This is especially useful when we have a small dataset. <br>\n",
    "In this notebook, we will use a pre-trained model called **ResNet18** and fine-tune it to our pizza-steak-sushi problem. <br>\n",
    "\n",
    "#### **2. Why Transfer Learning?**\n",
    "- **Less Data**: Deep learning models require a lot of data. However, in practice, we often have a small dataset. Transfer learning helps us to use pre-trained models and fine-tune them to our specific problem.\n",
    "- **Computation**: Training a deep learning model from scratch requires a lot of computation. However, with transfer learning, we can use pre-trained models and fine-tune them to our specific problem. This requires less computation.\n",
    "- **Time**: Training a deep learning model from scratch requires a lot of time. However, with transfer learning, we can use pre-trained models and fine-tune them to our specific problem. This requires less time. <br>\n",
    "Also, A finding from a recent machine learning research paper recommended practitioners use transfer learning wherever possible.\n"
   ]
  },
  {
   "cell_type": "markdown",
   "metadata": {},
   "source": [
    "![Transfer Learning Image](https://www.techtarget.com/rms/onlineimages/how_transfer_learning_works-f.png)\n"
   ]
  },
  {
   "cell_type": "markdown",
   "metadata": {},
   "source": []
  }
 ],
 "metadata": {
  "language_info": {
   "name": "python"
  }
 },
 "nbformat": 4,
 "nbformat_minor": 2
}
